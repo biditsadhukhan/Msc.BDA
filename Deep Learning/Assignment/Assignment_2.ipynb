{
  "nbformat": 4,
  "nbformat_minor": 0,
  "metadata": {
    "colab": {
      "provenance": [],
      "gpuType": "T4"
    },
    "kernelspec": {
      "name": "python3",
      "display_name": "Python 3"
    },
    "language_info": {
      "name": "python"
    },
    "accelerator": "GPU"
  },
  "cells": [
    {
      "cell_type": "markdown",
      "source": [
        "- Name- Bidit Sadhukhan\n",
        "- Reg No- B2230022\n",
        "- Msc-Big Data Analytics\n",
        "- Assignment-2\n",
        "- Topic-Convolutional Neural Network & Transfer Learning"
      ],
      "metadata": {
        "id": "7W62ikVFCGy8"
      }
    },
    {
      "cell_type": "markdown",
      "source": [
        "Installing the required packages"
      ],
      "metadata": {
        "id": "WI8zF_TSCslO"
      }
    },
    {
      "cell_type": "code",
      "execution_count": 1,
      "metadata": {
        "colab": {
          "base_uri": "https://localhost:8080/"
        },
        "id": "8JX0YpFbCExY",
        "outputId": "e5a32d99-9003-4dc0-9711-ff2a618dfa32"
      },
      "outputs": [
        {
          "output_type": "stream",
          "name": "stdout",
          "text": [
            "Requirement already satisfied: numpy in /usr/local/lib/python3.10/dist-packages (1.23.5)\n",
            "Requirement already satisfied: tensorflow in /usr/local/lib/python3.10/dist-packages (2.12.0)\n",
            "Requirement already satisfied: absl-py>=1.0.0 in /usr/local/lib/python3.10/dist-packages (from tensorflow) (1.4.0)\n",
            "Requirement already satisfied: astunparse>=1.6.0 in /usr/local/lib/python3.10/dist-packages (from tensorflow) (1.6.3)\n",
            "Requirement already satisfied: flatbuffers>=2.0 in /usr/local/lib/python3.10/dist-packages (from tensorflow) (23.5.26)\n",
            "Requirement already satisfied: gast<=0.4.0,>=0.2.1 in /usr/local/lib/python3.10/dist-packages (from tensorflow) (0.4.0)\n",
            "Requirement already satisfied: google-pasta>=0.1.1 in /usr/local/lib/python3.10/dist-packages (from tensorflow) (0.2.0)\n",
            "Requirement already satisfied: grpcio<2.0,>=1.24.3 in /usr/local/lib/python3.10/dist-packages (from tensorflow) (1.57.0)\n",
            "Requirement already satisfied: h5py>=2.9.0 in /usr/local/lib/python3.10/dist-packages (from tensorflow) (3.9.0)\n",
            "Requirement already satisfied: jax>=0.3.15 in /usr/local/lib/python3.10/dist-packages (from tensorflow) (0.4.14)\n",
            "Requirement already satisfied: keras<2.13,>=2.12.0 in /usr/local/lib/python3.10/dist-packages (from tensorflow) (2.12.0)\n",
            "Requirement already satisfied: libclang>=13.0.0 in /usr/local/lib/python3.10/dist-packages (from tensorflow) (16.0.6)\n",
            "Requirement already satisfied: numpy<1.24,>=1.22 in /usr/local/lib/python3.10/dist-packages (from tensorflow) (1.23.5)\n",
            "Requirement already satisfied: opt-einsum>=2.3.2 in /usr/local/lib/python3.10/dist-packages (from tensorflow) (3.3.0)\n",
            "Requirement already satisfied: packaging in /usr/local/lib/python3.10/dist-packages (from tensorflow) (23.1)\n",
            "Requirement already satisfied: protobuf!=4.21.0,!=4.21.1,!=4.21.2,!=4.21.3,!=4.21.4,!=4.21.5,<5.0.0dev,>=3.20.3 in /usr/local/lib/python3.10/dist-packages (from tensorflow) (3.20.3)\n",
            "Requirement already satisfied: setuptools in /usr/local/lib/python3.10/dist-packages (from tensorflow) (67.7.2)\n",
            "Requirement already satisfied: six>=1.12.0 in /usr/local/lib/python3.10/dist-packages (from tensorflow) (1.16.0)\n",
            "Requirement already satisfied: tensorboard<2.13,>=2.12 in /usr/local/lib/python3.10/dist-packages (from tensorflow) (2.12.3)\n",
            "Requirement already satisfied: tensorflow-estimator<2.13,>=2.12.0 in /usr/local/lib/python3.10/dist-packages (from tensorflow) (2.12.0)\n",
            "Requirement already satisfied: termcolor>=1.1.0 in /usr/local/lib/python3.10/dist-packages (from tensorflow) (2.3.0)\n",
            "Requirement already satisfied: typing-extensions>=3.6.6 in /usr/local/lib/python3.10/dist-packages (from tensorflow) (4.7.1)\n",
            "Requirement already satisfied: wrapt<1.15,>=1.11.0 in /usr/local/lib/python3.10/dist-packages (from tensorflow) (1.14.1)\n",
            "Requirement already satisfied: tensorflow-io-gcs-filesystem>=0.23.1 in /usr/local/lib/python3.10/dist-packages (from tensorflow) (0.33.0)\n",
            "Requirement already satisfied: wheel<1.0,>=0.23.0 in /usr/local/lib/python3.10/dist-packages (from astunparse>=1.6.0->tensorflow) (0.41.2)\n",
            "Requirement already satisfied: ml-dtypes>=0.2.0 in /usr/local/lib/python3.10/dist-packages (from jax>=0.3.15->tensorflow) (0.2.0)\n",
            "Requirement already satisfied: scipy>=1.7 in /usr/local/lib/python3.10/dist-packages (from jax>=0.3.15->tensorflow) (1.10.1)\n",
            "Requirement already satisfied: google-auth<3,>=1.6.3 in /usr/local/lib/python3.10/dist-packages (from tensorboard<2.13,>=2.12->tensorflow) (2.17.3)\n",
            "Requirement already satisfied: google-auth-oauthlib<1.1,>=0.5 in /usr/local/lib/python3.10/dist-packages (from tensorboard<2.13,>=2.12->tensorflow) (1.0.0)\n",
            "Requirement already satisfied: markdown>=2.6.8 in /usr/local/lib/python3.10/dist-packages (from tensorboard<2.13,>=2.12->tensorflow) (3.4.4)\n",
            "Requirement already satisfied: requests<3,>=2.21.0 in /usr/local/lib/python3.10/dist-packages (from tensorboard<2.13,>=2.12->tensorflow) (2.31.0)\n",
            "Requirement already satisfied: tensorboard-data-server<0.8.0,>=0.7.0 in /usr/local/lib/python3.10/dist-packages (from tensorboard<2.13,>=2.12->tensorflow) (0.7.1)\n",
            "Requirement already satisfied: werkzeug>=1.0.1 in /usr/local/lib/python3.10/dist-packages (from tensorboard<2.13,>=2.12->tensorflow) (2.3.7)\n",
            "Requirement already satisfied: cachetools<6.0,>=2.0.0 in /usr/local/lib/python3.10/dist-packages (from google-auth<3,>=1.6.3->tensorboard<2.13,>=2.12->tensorflow) (5.3.1)\n",
            "Requirement already satisfied: pyasn1-modules>=0.2.1 in /usr/local/lib/python3.10/dist-packages (from google-auth<3,>=1.6.3->tensorboard<2.13,>=2.12->tensorflow) (0.3.0)\n",
            "Requirement already satisfied: rsa<5,>=3.1.4 in /usr/local/lib/python3.10/dist-packages (from google-auth<3,>=1.6.3->tensorboard<2.13,>=2.12->tensorflow) (4.9)\n",
            "Requirement already satisfied: requests-oauthlib>=0.7.0 in /usr/local/lib/python3.10/dist-packages (from google-auth-oauthlib<1.1,>=0.5->tensorboard<2.13,>=2.12->tensorflow) (1.3.1)\n",
            "Requirement already satisfied: charset-normalizer<4,>=2 in /usr/local/lib/python3.10/dist-packages (from requests<3,>=2.21.0->tensorboard<2.13,>=2.12->tensorflow) (3.2.0)\n",
            "Requirement already satisfied: idna<4,>=2.5 in /usr/local/lib/python3.10/dist-packages (from requests<3,>=2.21.0->tensorboard<2.13,>=2.12->tensorflow) (3.4)\n",
            "Requirement already satisfied: urllib3<3,>=1.21.1 in /usr/local/lib/python3.10/dist-packages (from requests<3,>=2.21.0->tensorboard<2.13,>=2.12->tensorflow) (2.0.4)\n",
            "Requirement already satisfied: certifi>=2017.4.17 in /usr/local/lib/python3.10/dist-packages (from requests<3,>=2.21.0->tensorboard<2.13,>=2.12->tensorflow) (2023.7.22)\n",
            "Requirement already satisfied: MarkupSafe>=2.1.1 in /usr/local/lib/python3.10/dist-packages (from werkzeug>=1.0.1->tensorboard<2.13,>=2.12->tensorflow) (2.1.3)\n",
            "Requirement already satisfied: pyasn1<0.6.0,>=0.4.6 in /usr/local/lib/python3.10/dist-packages (from pyasn1-modules>=0.2.1->google-auth<3,>=1.6.3->tensorboard<2.13,>=2.12->tensorflow) (0.5.0)\n",
            "Requirement already satisfied: oauthlib>=3.0.0 in /usr/local/lib/python3.10/dist-packages (from requests-oauthlib>=0.7.0->google-auth-oauthlib<1.1,>=0.5->tensorboard<2.13,>=2.12->tensorflow) (3.2.2)\n",
            "Requirement already satisfied: keras in /usr/local/lib/python3.10/dist-packages (2.12.0)\n"
          ]
        }
      ],
      "source": [
        "!pip install numpy\n",
        "!pip install tensorflow\n",
        "!pip install keras"
      ]
    },
    {
      "cell_type": "markdown",
      "source": [
        "Importing the required libraries"
      ],
      "metadata": {
        "id": "JmWRXk_tDO2Z"
      }
    },
    {
      "cell_type": "code",
      "source": [
        "import numpy as np\n",
        "import tensorflow as tf\n",
        "from tensorflow import keras\n",
        "import matplotlib.pyplot as plt\n",
        "import pandas as pd"
      ],
      "metadata": {
        "id": "U6FCHNM7C1pC"
      },
      "execution_count": 2,
      "outputs": []
    },
    {
      "cell_type": "code",
      "source": [
        "tf.config.list_physical_devices('GPU')"
      ],
      "metadata": {
        "colab": {
          "base_uri": "https://localhost:8080/"
        },
        "id": "TOhsk5xqkqaT",
        "outputId": "58ece8aa-df24-4df4-8457-8a12f4c3ec45"
      },
      "execution_count": 3,
      "outputs": [
        {
          "output_type": "execute_result",
          "data": {
            "text/plain": [
              "[PhysicalDevice(name='/physical_device:GPU:0', device_type='GPU')]"
            ]
          },
          "metadata": {},
          "execution_count": 3
        }
      ]
    },
    {
      "cell_type": "markdown",
      "source": [
        "Loading the dataset"
      ],
      "metadata": {
        "id": "mYkFf_rbDWRM"
      }
    },
    {
      "cell_type": "code",
      "source": [
        "(X_train,y_train),(X_test,y_test) = keras.datasets.cifar10.load_data()"
      ],
      "metadata": {
        "colab": {
          "base_uri": "https://localhost:8080/"
        },
        "id": "-3OVw4PQDLl0",
        "outputId": "892689f7-ea6b-4caf-9e7a-f082e83b930d"
      },
      "execution_count": 4,
      "outputs": [
        {
          "output_type": "stream",
          "name": "stdout",
          "text": [
            "Downloading data from https://www.cs.toronto.edu/~kriz/cifar-10-python.tar.gz\n",
            "170498071/170498071 [==============================] - 13s 0us/step\n"
          ]
        }
      ]
    },
    {
      "cell_type": "markdown",
      "source": [
        "Checking the shape of the dataset"
      ],
      "metadata": {
        "id": "s2eA6ExeF-VF"
      }
    },
    {
      "cell_type": "code",
      "source": [
        "print(X_train.shape)\n",
        "print(X_test.shape)\n",
        "print(y_train.shape)\n",
        "print(y_test.shape)"
      ],
      "metadata": {
        "colab": {
          "base_uri": "https://localhost:8080/"
        },
        "id": "PXLRfq4gFvJj",
        "outputId": "fc357c66-7bfc-4a08-b67f-caf78e4330ff"
      },
      "execution_count": 5,
      "outputs": [
        {
          "output_type": "stream",
          "name": "stdout",
          "text": [
            "(50000, 32, 32, 3)\n",
            "(10000, 32, 32, 3)\n",
            "(50000, 1)\n",
            "(10000, 1)\n"
          ]
        }
      ]
    },
    {
      "cell_type": "code",
      "source": [
        "plt.imshow(X_train[1])\n",
        "plt.axis('off')\n",
        "plt.show()"
      ],
      "metadata": {
        "colab": {
          "base_uri": "https://localhost:8080/",
          "height": 406
        },
        "id": "JMVJ1-dUMpNa",
        "outputId": "31eb8715-3611-4d0a-a9af-f6d7ba460904"
      },
      "execution_count": 6,
      "outputs": [
        {
          "output_type": "display_data",
          "data": {
            "text/plain": [
              "<Figure size 640x480 with 1 Axes>"
            ],
            "image/png": "[encoded data removed]"
          },
          "metadata": {}
        }
      ]
    },
    {
      "cell_type": "markdown",
      "source": [
        "Scaling the images"
      ],
      "metadata": {
        "id": "HHsarPkXGJ7f"
      }
    },
    {
      "cell_type": "code",
      "source": [
        "X_train = X_train.astype('float32')/255\n",
        "X_test = X_test.astype('float32')/255\n",
        "X_train.shape,X_test.shape"
      ],
      "metadata": {
        "colab": {
          "base_uri": "https://localhost:8080/"
        },
        "id": "53cVPYAPGDZX",
        "outputId": "7c34193a-acd2-4c9e-c048-1389d463c274"
      },
      "execution_count": 7,
      "outputs": [
        {
          "output_type": "execute_result",
          "data": {
            "text/plain": [
              "((50000, 32, 32, 3), (10000, 32, 32, 3))"
            ]
          },
          "metadata": {},
          "execution_count": 7
        }
      ]
    },
    {
      "cell_type": "code",
      "source": [
        "input_shape = X_train[1].shape\n",
        "input_shape"
      ],
      "metadata": {
        "colab": {
          "base_uri": "https://localhost:8080/"
        },
        "id": "cP4WRIQBPE8e",
        "outputId": "3404546f-80e2-4650-8c03-7a77d0b73f49"
      },
      "execution_count": 8,
      "outputs": [
        {
          "output_type": "execute_result",
          "data": {
            "text/plain": [
              "(32, 32, 3)"
            ]
          },
          "metadata": {},
          "execution_count": 8
        }
      ]
    },
    {
      "cell_type": "markdown",
      "source": [
        "One hot encoding for the labels"
      ],
      "metadata": {
        "id": "j8OWO1lxNJmx"
      }
    },
    {
      "cell_type": "code",
      "source": [
        "y_train = keras.utils.to_categorical(y_train)\n",
        "y_test = keras.utils.to_categorical(y_test)\n",
        "y_test.shape,y_train.shape"
      ],
      "metadata": {
        "colab": {
          "base_uri": "https://localhost:8080/"
        },
        "id": "AX8biYTpNI2w",
        "outputId": "8b5ff947-22bc-4924-e86d-8097d3138978"
      },
      "execution_count": 9,
      "outputs": [
        {
          "output_type": "execute_result",
          "data": {
            "text/plain": [
              "((10000, 10), (50000, 10))"
            ]
          },
          "metadata": {},
          "execution_count": 9
        }
      ]
    },
    {
      "cell_type": "markdown",
      "source": [
        "Building the model"
      ],
      "metadata": {
        "id": "WUb680wUOnwi"
      }
    },
    {
      "cell_type": "code",
      "source": [
        "from keras.api._v2.keras import layers\n",
        "model = keras.Sequential([\n",
        "  keras.Input(shape=input_shape),\n",
        "  layers.Conv2D(filters=32,kernel_size=(3,3),activation='relu',padding='same'),\n",
        "  layers.BatchNormalization(),\n",
        "  layers.Conv2D(filters=64,kernel_size=(3,3),activation='relu',padding='same'),\n",
        "  layers.Dropout(0.5),\n",
        "  layers.BatchNormalization(),\n",
        "  layers.Conv2D(filters=128,kernel_size=(3,3),activation='relu',padding='same'),\n",
        "  layers.BatchNormalization(),\n",
        "  layers.Dropout(0.5),\n",
        "  layers.Conv2D(filters=128,kernel_size=(3,3),activation='relu',padding='same'),\n",
        "  layers.BatchNormalization(),\n",
        "  layers.Conv2D(filters=256,kernel_size=(3,3),activation='relu',padding='same'),\n",
        "  layers.BatchNormalization(),\n",
        "  layers.Conv2D(filters=256,kernel_size=(3,3),activation='relu',padding='same'),\n",
        "  layers.BatchNormalization(),\n",
        "  layers.Dropout(0.5),\n",
        "  layers.Conv2D(filters=512,kernel_size=(3,3),activation='relu',padding='same'),\n",
        "  layers.BatchNormalization(),\n",
        "  layers.Dropout(0.5),\n",
        "  layers.Conv2D(filters=512,kernel_size=(3,3),activation='relu',padding='same'),\n",
        "  layers.BatchNormalization(),\n",
        "  layers.MaxPooling2D(pool_size=(2,2)),\n",
        "  layers.Conv2D(filters=1024,kernel_size=(3,3),activation='relu',padding='same'),\n",
        "  layers.Dropout(0.5),\n",
        "  layers.BatchNormalization(),\n",
        "  layers.Dense(1024,activation='relu'),\n",
        "  layers.Flatten(),\n",
        "  layers.Dense(512,activation='relu'),\n",
        "  layers.BatchNormalization(),\n",
        "  layers.Dense(10,activation='softmax'),\n",
        "])"
      ],
      "metadata": {
        "id": "y_CeubvzOmgQ"
      },
      "execution_count": 10,
      "outputs": []
    },
    {
      "cell_type": "markdown",
      "source": [
        "Model Summary"
      ],
      "metadata": {
        "id": "9WblGcGQaOgR"
      }
    },
    {
      "cell_type": "code",
      "source": [
        "model.summary()"
      ],
      "metadata": {
        "colab": {
          "base_uri": "https://localhost:8080/"
        },
        "id": "tBT7pxpWT20d",
        "outputId": "f749e4b2-2eca-484b-c5da-5888415e6d5f"
      },
      "execution_count": 11,
      "outputs": [
        {
          "output_type": "stream",
          "name": "stdout",
          "text": [
            "Model: \"sequential\"\n",
            "_________________________________________________________________\n",
            " Layer (type)                Output Shape              Param #   \n",
            "=================================================================\n",
            " conv2d (Conv2D)             (None, 32, 32, 32)        896       \n",
            "                                                                 \n",
            " batch_normalization (BatchN  (None, 32, 32, 32)       128       \n",
            " ormalization)                                                   \n",
            "                                                                 \n",
            " conv2d_1 (Conv2D)           (None, 32, 32, 64)        18496     \n",
            "                                                                 \n",
            " dropout (Dropout)           (None, 32, 32, 64)        0         \n",
            "                                                                 \n",
            " batch_normalization_1 (Batc  (None, 32, 32, 64)       256       \n",
            " hNormalization)                                                 \n",
            "                                                                 \n",
            " conv2d_2 (Conv2D)           (None, 32, 32, 128)       73856     \n",
            "                                                                 \n",
            " batch_normalization_2 (Batc  (None, 32, 32, 128)      512       \n",
            " hNormalization)                                                 \n",
            "                                                                 \n",
            " dropout_1 (Dropout)         (None, 32, 32, 128)       0         \n",
            "                                                                 \n",
            " conv2d_3 (Conv2D)           (None, 32, 32, 128)       147584    \n",
            "                                                                 \n",
            " batch_normalization_3 (Batc  (None, 32, 32, 128)      512       \n",
            " hNormalization)                                                 \n",
            "                                                                 \n",
            " conv2d_4 (Conv2D)           (None, 32, 32, 256)       295168    \n",
            "                                                                 \n",
            " batch_normalization_4 (Batc  (None, 32, 32, 256)      1024      \n",
            " hNormalization)                                                 \n",
            "                                                                 \n",
            " conv2d_5 (Conv2D)           (None, 32, 32, 256)       590080    \n",
            "                                                                 \n",
            " batch_normalization_5 (Batc  (None, 32, 32, 256)      1024      \n",
            " hNormalization)                                                 \n",
            "                                                                 \n",
            " dropout_2 (Dropout)         (None, 32, 32, 256)       0         \n",
            "                                                                 \n",
            " conv2d_6 (Conv2D)           (None, 32, 32, 512)       1180160   \n",
            "                                                                 \n",
            " batch_normalization_6 (Batc  (None, 32, 32, 512)      2048      \n",
            " hNormalization)                                                 \n",
            "                                                                 \n",
            " dropout_3 (Dropout)         (None, 32, 32, 512)       0         \n",
            "                                                                 \n",
            " conv2d_7 (Conv2D)           (None, 32, 32, 512)       2359808   \n",
            "                                                                 \n",
            " batch_normalization_7 (Batc  (None, 32, 32, 512)      2048      \n",
            " hNormalization)                                                 \n",
            "                                                                 \n",
            " max_pooling2d (MaxPooling2D  (None, 16, 16, 512)      0         \n",
            " )                                                               \n",
            "                                                                 \n",
            " conv2d_8 (Conv2D)           (None, 16, 16, 1024)      4719616   \n",
            "                                                                 \n",
            " dropout_4 (Dropout)         (None, 16, 16, 1024)      0         \n",
            "                                                                 \n",
            " batch_normalization_8 (Batc  (None, 16, 16, 1024)     4096      \n",
            " hNormalization)                                                 \n",
            "                                                                 \n",
            " dense (Dense)               (None, 16, 16, 1024)      1049600   \n",
            "                                                                 \n",
            " flatten (Flatten)           (None, 262144)            0         \n",
            "                                                                 \n",
            " dense_1 (Dense)             (None, 512)               134218240 \n",
            "                                                                 \n",
            " batch_normalization_9 (Batc  (None, 512)              2048      \n",
            " hNormalization)                                                 \n",
            "                                                                 \n",
            " dense_2 (Dense)             (None, 10)                5130      \n",
            "                                                                 \n",
            "=================================================================\n",
            "Total params: 144,672,330\n",
            "Trainable params: 144,665,482\n",
            "Non-trainable params: 6,848\n",
            "_________________________________________________________________\n"
          ]
        }
      ]
    },
    {
      "cell_type": "markdown",
      "source": [
        "Fitting the model"
      ],
      "metadata": {
        "id": "0_YqLc5YaSrl"
      }
    },
    {
      "cell_type": "code",
      "source": [
        "batch_size = 64\n",
        "epochs = 20\n",
        "\n",
        "model.compile(loss=\"categorical_crossentropy\", optimizer=\"adam\", metrics=[\"accuracy\"])\n",
        "\n",
        "history_fit=model.fit(X_train, y_train, batch_size=batch_size, epochs=epochs, validation_split=0.1)"
      ],
      "metadata": {
        "colab": {
          "base_uri": "https://localhost:8080/"
        },
        "id": "8_dcPXxHYxFm",
        "outputId": "432901c3-df37-464a-d8d2-4740e41033f8"
      },
      "execution_count": 12,
      "outputs": [
        {
          "output_type": "stream",
          "name": "stdout",
          "text": [
            "Epoch 1/20\n",
            "704/704 [==============================] - 300s 384ms/step - loss: 1.3951 - accuracy: 0.4928 - val_loss: 1.2857 - val_accuracy: 0.5504\n",
            "Epoch 2/20\n",
            "704/704 [==============================] - 269s 383ms/step - loss: 0.9893 - accuracy: 0.6505 - val_loss: 0.9097 - val_accuracy: 0.6888\n",
            "Epoch 3/20\n",
            "704/704 [==============================] - 269s 382ms/step - loss: 0.9449 - accuracy: 0.6680 - val_loss: 0.8499 - val_accuracy: 0.7036\n",
            "Epoch 4/20\n",
            "704/704 [==============================] - 270s 383ms/step - loss: 0.7727 - accuracy: 0.7293 - val_loss: 0.7561 - val_accuracy: 0.7400\n",
            "Epoch 5/20\n",
            "704/704 [==============================] - 267s 380ms/step - loss: 0.6521 - accuracy: 0.7726 - val_loss: 0.7428 - val_accuracy: 0.7540\n",
            "Epoch 6/20\n",
            "704/704 [==============================] - 270s 383ms/step - loss: 0.5778 - accuracy: 0.7983 - val_loss: 0.7403 - val_accuracy: 0.7674\n",
            "Epoch 7/20\n",
            "704/704 [==============================] - 269s 382ms/step - loss: 0.4871 - accuracy: 0.8294 - val_loss: 0.6829 - val_accuracy: 0.7762\n",
            "Epoch 8/20\n",
            "704/704 [==============================] - 268s 381ms/step - loss: 0.3907 - accuracy: 0.8627 - val_loss: 0.7271 - val_accuracy: 0.7628\n",
            "Epoch 9/20\n",
            "704/704 [==============================] - 268s 380ms/step - loss: 0.2849 - accuracy: 0.8998 - val_loss: 0.6486 - val_accuracy: 0.7974\n",
            "Epoch 10/20\n",
            "704/704 [==============================] - 268s 381ms/step - loss: 0.2033 - accuracy: 0.9288 - val_loss: 0.7361 - val_accuracy: 0.7876\n",
            "Epoch 11/20\n",
            "704/704 [==============================] - 265s 377ms/step - loss: 0.1502 - accuracy: 0.9474 - val_loss: 0.7126 - val_accuracy: 0.7996\n",
            "Epoch 12/20\n",
            "704/704 [==============================] - 265s 376ms/step - loss: 0.1205 - accuracy: 0.9591 - val_loss: 0.8194 - val_accuracy: 0.7836\n",
            "Epoch 13/20\n",
            "704/704 [==============================] - 265s 376ms/step - loss: 0.0786 - accuracy: 0.9741 - val_loss: 0.7799 - val_accuracy: 0.7958\n",
            "Epoch 14/20\n",
            "704/704 [==============================] - 267s 379ms/step - loss: 0.0728 - accuracy: 0.9750 - val_loss: 0.9816 - val_accuracy: 0.7770\n",
            "Epoch 15/20\n",
            "704/704 [==============================] - 265s 376ms/step - loss: 0.0687 - accuracy: 0.9768 - val_loss: 0.8156 - val_accuracy: 0.8024\n",
            "Epoch 16/20\n",
            "704/704 [==============================] - 267s 379ms/step - loss: 0.0589 - accuracy: 0.9804 - val_loss: 1.3761 - val_accuracy: 0.7262\n",
            "Epoch 17/20\n",
            "704/704 [==============================] - 267s 379ms/step - loss: 0.0797 - accuracy: 0.9730 - val_loss: 0.8182 - val_accuracy: 0.8014\n",
            "Epoch 18/20\n",
            "704/704 [==============================] - 267s 379ms/step - loss: 0.0347 - accuracy: 0.9886 - val_loss: 0.8375 - val_accuracy: 0.8122\n",
            "Epoch 19/20\n",
            "704/704 [==============================] - 267s 380ms/step - loss: 0.0346 - accuracy: 0.9884 - val_loss: 1.0049 - val_accuracy: 0.7820\n",
            "Epoch 20/20\n",
            "704/704 [==============================] - 267s 379ms/step - loss: 0.0369 - accuracy: 0.9873 - val_loss: 0.8743 - val_accuracy: 0.8086\n"
          ]
        }
      ]
    },
    {
      "cell_type": "code",
      "source": [
        "pd.DataFrame(history_fit.history).plot(figsize=(12,5))\n",
        "plt.grid(True)\n",
        "plt.title(\"Training vs Accuracy for the first case\")\n",
        "plt.show()"
      ],
      "metadata": {
        "colab": {
          "base_uri": "https://localhost:8080/",
          "height": 468
        },
        "id": "o6lSil_6l5QX",
        "outputId": "7bbdcda3-1106-475e-e09e-1868947329b8"
      },
      "execution_count": 13,
      "outputs": [
        {
          "output_type": "display_data",
          "data": {
            "text/plain": [
              "<Figure size 1200x500 with 1 Axes>"
            ],
            "image/png": "[encoded data removed]"
          },
          "metadata": {}
        }
      ]
    },
    {
      "cell_type": "markdown",
      "source": [],
      "metadata": {
        "id": "5AcAPugGvFRX"
      }
    },
    {
      "cell_type": "markdown",
      "source": [
        "Evaluating the model"
      ],
      "metadata": {
        "id": "WxQDd6TwDSET"
      }
    },
    {
      "cell_type": "code",
      "source": [
        "score = model.evaluate(X_test, y_test, verbose=0)\n",
        "print(\"Test loss:\", score[0])\n",
        "print(\"Test accuracy:\", score[1])"
      ],
      "metadata": {
        "colab": {
          "base_uri": "https://localhost:8080/"
        },
        "id": "2LoVDqFEm6PN",
        "outputId": "636d885c-fc3b-4a83-f35b-29db3b2edc34"
      },
      "execution_count": 14,
      "outputs": [
        {
          "output_type": "stream",
          "name": "stdout",
          "text": [
            "Test loss: 0.9163633584976196\n",
            "Test accuracy: 0.7989000082015991\n"
          ]
        }
      ]
    },
    {
      "cell_type": "markdown",
      "source": [
        "**Problem-2**"
      ],
      "metadata": {
        "id": "agFm1dlcDWqB"
      }
    },
    {
      "cell_type": "markdown",
      "source": [
        "Building the model"
      ],
      "metadata": {
        "id": "1rc08MrPDfbw"
      }
    },
    {
      "cell_type": "code",
      "source": [
        "base_model = tf.keras.applications.VGG16(input_shape=input_shape, include_top=False, weights='imagenet')\n",
        "base_model.trainable = False\n",
        "global_average_layer = tf.keras.layers.GlobalAveragePooling2D()\n",
        "dropout_layer = tf.keras.layers.Dropout(0.5)\n",
        "prediction_layer = tf.keras.layers.Dense(10,activation='softmax')\n",
        "model_1 = tf.keras.Sequential([ base_model,  global_average_layer,  dropout_layer,  prediction_layer ])"
      ],
      "metadata": {
        "colab": {
          "base_uri": "https://localhost:8080/"
        },
        "id": "EHym6I9Kwt9-",
        "outputId": "d6cdbf27-326f-4425-f28c-6c3dbdae1e4f"
      },
      "execution_count": 15,
      "outputs": [
        {
          "output_type": "stream",
          "name": "stdout",
          "text": [
            "Downloading data from https://storage.googleapis.com/tensorflow/keras-applications/vgg16/vgg16_weights_tf_dim_ordering_tf_kernels_notop.h5\n",
            "58889256/58889256 [==============================] - 4s 0us/step\n"
          ]
        }
      ]
    },
    {
      "cell_type": "markdown",
      "source": [
        "Fitting the model"
      ],
      "metadata": {
        "id": "jSjbAk-pDkUL"
      }
    },
    {
      "cell_type": "code",
      "source": [
        "batch_size = 64\n",
        "epochs = 20\n",
        "model_1.compile(loss=\"categorical_crossentropy\", optimizer=\"adam\", metrics=[\"accuracy\"])\n",
        "\n",
        "history_fit_1=model_1.fit(X_train, y_train, batch_size=batch_size, epochs=epochs, validation_split=0.1)"
      ],
      "metadata": {
        "colab": {
          "base_uri": "https://localhost:8080/"
        },
        "id": "VV99yASNxfXx",
        "outputId": "6defd653-2d96-4568-a253-9805dde4c147"
      },
      "execution_count": 19,
      "outputs": [
        {
          "output_type": "stream",
          "name": "stdout",
          "text": [
            "Epoch 1/20\n",
            "704/704 [==============================] - 10s 13ms/step - loss: 1.5068 - accuracy: 0.4772 - val_loss: 1.3296 - val_accuracy: 0.5454\n",
            "Epoch 2/20\n",
            "704/704 [==============================] - 9s 13ms/step - loss: 1.4996 - accuracy: 0.4793 - val_loss: 1.3250 - val_accuracy: 0.5458\n",
            "Epoch 3/20\n",
            "704/704 [==============================] - 9s 12ms/step - loss: 1.4960 - accuracy: 0.4790 - val_loss: 1.3259 - val_accuracy: 0.5550\n",
            "Epoch 4/20\n",
            "704/704 [==============================] - 9s 13ms/step - loss: 1.5030 - accuracy: 0.4780 - val_loss: 1.3227 - val_accuracy: 0.5532\n",
            "Epoch 5/20\n",
            "704/704 [==============================] - 9s 12ms/step - loss: 1.4989 - accuracy: 0.4830 - val_loss: 1.3232 - val_accuracy: 0.5550\n",
            "Epoch 6/20\n",
            "704/704 [==============================] - 8s 12ms/step - loss: 1.5029 - accuracy: 0.4770 - val_loss: 1.3220 - val_accuracy: 0.5548\n",
            "Epoch 7/20\n",
            "704/704 [==============================] - 8s 12ms/step - loss: 1.4986 - accuracy: 0.4793 - val_loss: 1.3255 - val_accuracy: 0.5558\n",
            "Epoch 8/20\n",
            "704/704 [==============================] - 9s 12ms/step - loss: 1.4950 - accuracy: 0.4792 - val_loss: 1.3180 - val_accuracy: 0.5542\n",
            "Epoch 9/20\n",
            "704/704 [==============================] - 9s 12ms/step - loss: 1.5000 - accuracy: 0.4794 - val_loss: 1.3180 - val_accuracy: 0.5516\n",
            "Epoch 10/20\n",
            "704/704 [==============================] - 9s 13ms/step - loss: 1.4964 - accuracy: 0.4803 - val_loss: 1.3222 - val_accuracy: 0.5526\n",
            "Epoch 11/20\n",
            "704/704 [==============================] - 9s 13ms/step - loss: 1.4939 - accuracy: 0.4837 - val_loss: 1.3208 - val_accuracy: 0.5588\n",
            "Epoch 12/20\n",
            "704/704 [==============================] - 9s 12ms/step - loss: 1.4985 - accuracy: 0.4802 - val_loss: 1.3242 - val_accuracy: 0.5504\n",
            "Epoch 13/20\n",
            "704/704 [==============================] - 8s 12ms/step - loss: 1.4944 - accuracy: 0.4813 - val_loss: 1.3224 - val_accuracy: 0.5532\n",
            "Epoch 14/20\n",
            "704/704 [==============================] - 9s 13ms/step - loss: 1.4978 - accuracy: 0.4794 - val_loss: 1.3176 - val_accuracy: 0.5562\n",
            "Epoch 15/20\n",
            "704/704 [==============================] - 8s 12ms/step - loss: 1.5015 - accuracy: 0.4801 - val_loss: 1.3174 - val_accuracy: 0.5572\n",
            "Epoch 16/20\n",
            "704/704 [==============================] - 9s 13ms/step - loss: 1.4983 - accuracy: 0.4804 - val_loss: 1.3183 - val_accuracy: 0.5586\n",
            "Epoch 17/20\n",
            "704/704 [==============================] - 9s 13ms/step - loss: 1.5004 - accuracy: 0.4772 - val_loss: 1.3182 - val_accuracy: 0.5564\n",
            "Epoch 18/20\n",
            "704/704 [==============================] - 9s 13ms/step - loss: 1.4937 - accuracy: 0.4811 - val_loss: 1.3230 - val_accuracy: 0.5530\n",
            "Epoch 19/20\n",
            "704/704 [==============================] - 8s 12ms/step - loss: 1.4947 - accuracy: 0.4781 - val_loss: 1.3165 - val_accuracy: 0.5506\n",
            "Epoch 20/20\n",
            "704/704 [==============================] - 8s 12ms/step - loss: 1.4938 - accuracy: 0.4809 - val_loss: 1.3152 - val_accuracy: 0.5526\n"
          ]
        }
      ]
    },
    {
      "cell_type": "code",
      "source": [
        "pd.DataFrame(history_fit_1.history).plot(figsize=(12,5))\n",
        "plt.grid(True)\n",
        "plt.title(\"Training vs Accuracy for the first case\")\n",
        "plt.show()"
      ],
      "metadata": {
        "colab": {
          "base_uri": "https://localhost:8080/",
          "height": 468
        },
        "id": "JpEXZedMyFKA",
        "outputId": "046f6447-0b48-4b3f-fd63-a95c8cdc3df3"
      },
      "execution_count": 20,
      "outputs": [
        {
          "output_type": "display_data",
          "data": {
            "text/plain": [
              "<Figure size 1200x500 with 1 Axes>"
            ],
            "image/png": "[encoded data removed]"
          },
          "metadata": {}
        }
      ]
    },
    {
      "cell_type": "markdown",
      "source": [
        "Evaluating the model"
      ],
      "metadata": {
        "id": "6M01YCU3DqjZ"
      }
    },
    {
      "cell_type": "code",
      "source": [
        "score_1 = model_1.evaluate(X_test, y_test, verbose=0)\n",
        "print(\"Test loss:\", score_1[0])\n",
        "print(\"Test accuracy:\", score_1[1])"
      ],
      "metadata": {
        "colab": {
          "base_uri": "https://localhost:8080/"
        },
        "id": "kMFGC5N2ydNR",
        "outputId": "7bd8011a-9eea-4488-a74d-b81fd24800af"
      },
      "execution_count": 21,
      "outputs": [
        {
          "output_type": "stream",
          "name": "stdout",
          "text": [
            "Test loss: 1.3532030582427979\n",
            "Test accuracy: 0.5404000282287598\n"
          ]
        }
      ]
    }
  ]
}