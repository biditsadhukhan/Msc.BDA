{
 "cells": [
  {
   "cell_type": "code",
   "execution_count": 1,
   "metadata": {
    "collapsed": true
   },
   "outputs": [],
   "source": [
    "import numpy as np"
   ]
  },
  {
   "cell_type": "code",
   "execution_count": 2,
   "metadata": {},
   "outputs": [
    {
     "name": "stdout",
     "output_type": "stream",
     "text": [
      "[<class 'bool'>, <class 'str'>, <class 'float'>, <class 'int'>]\n",
      "array('i', [0, 1, 2, 3, 4, 5, 6, 7, 8, 9])\n",
      "t1  2.0726940631866455\n",
      "t2  1.0126888751983643\n",
      "t3  0.03169679641723633\n"
     ]
    }
   ],
   "source": [
    "#python lists are heterogeneous\n",
    "L3 = [True, \"2\", 3.0, 4]\n",
    "print([type(item) for item in L3])\n",
    "\n",
    "#python arrays little better - provides more efficient storage but not efficient operations on them\n",
    "import array\n",
    "L = list(range(10))\n",
    "A = array.array('i', L); print(A)\n",
    "\n",
    "#numpy arrays provide efficient array based storage as well as efficient operations - ufuncs, etc.\n",
    "import numpy as np\n",
    "my_arr = np.arange(1000000)\n",
    "my_list = list(range(1000000))\n",
    "\n",
    "#BAD---->>>>>using list.append\n",
    "import time\n",
    "start = time.time()\n",
    "for _ in range(10):\n",
    "    my_list2=[]\n",
    "    for e in my_list:\n",
    "        my_list2.append(e*2)\n",
    "elapsed_time = (time.time() - start)\n",
    "#my_list2\n",
    "print(\"t1 \",str(elapsed_time))\n",
    "\n",
    "\n",
    "#BETTER----->>>>>>using list comprehension\n",
    "import time\n",
    "start = time.time()\n",
    "for _ in range(10): my_list2 = [x * 2 for x in my_list]\n",
    "elapsed_time = (time.time() - start)\n",
    "#my_list2\n",
    "print(\"t2 \",str(elapsed_time))\n",
    "\n",
    "#BEST--------->>>>>>>>>>>>>>using numpy array\n",
    "import time\n",
    "start = time.time()\n",
    "for _ in range(10): my_arr2 = my_arr * 2\n",
    "elapsed_time = (time.time() - start)\n",
    "#my_arr2\n",
    "print(\"t3 \",str(elapsed_time))\n"
   ]
  },
  {
   "cell_type": "code",
   "execution_count": 3,
   "metadata": {},
   "outputs": [
    {
     "data": {
      "text/plain": [
       "array('i', [0, 1, 2, 3, 4, 5, 6, 7, 8, 9])"
      ]
     },
     "execution_count": 3,
     "metadata": {},
     "output_type": "execute_result"
    }
   ],
   "source": [
    "A"
   ]
  },
  {
   "cell_type": "code",
   "execution_count": 4,
   "metadata": {},
   "outputs": [
    {
     "data": {
      "text/plain": [
       "array('i', [0, 1, 2, 3, 4, 5, 6, 7, 8, 9, 0, 1, 2, 3, 4, 5, 6, 7, 8, 9])"
      ]
     },
     "execution_count": 4,
     "metadata": {},
     "output_type": "execute_result"
    }
   ],
   "source": [
    "A*2"
   ]
  },
  {
   "cell_type": "code",
   "execution_count": 7,
   "metadata": {},
   "outputs": [
    {
     "ename": "TypeError",
     "evalue": "can only append array (not \"int\") to array",
     "output_type": "error",
     "traceback": [
      "\u001b[0;31m---------------------------------------------------------------------------\u001b[0m",
      "\u001b[0;31mTypeError\u001b[0m                                 Traceback (most recent call last)",
      "\u001b[0;32m<ipython-input-7-dc9c5b703f12>\u001b[0m in \u001b[0;36m<module>\u001b[0;34m()\u001b[0m\n\u001b[0;32m----> 1\u001b[0;31m \u001b[0mA\u001b[0m\u001b[0;34m+\u001b[0m\u001b[0;36m2\u001b[0m\u001b[0;34m\u001b[0m\u001b[0m\n\u001b[0m",
      "\u001b[0;31mTypeError\u001b[0m: can only append array (not \"int\") to array"
     ]
    }
   ],
   "source": [
    "A+2"
   ]
  },
  {
   "cell_type": "code",
   "execution_count": 8,
   "metadata": {},
   "outputs": [
    {
     "data": {
      "text/plain": [
       "array('i', [0, 1, 2, 3, 4, 5, 6, 7, 8, 9, 10])"
      ]
     },
     "execution_count": 8,
     "metadata": {},
     "output_type": "execute_result"
    }
   ],
   "source": [
    "A.append(10); A "
   ]
  },
  {
   "cell_type": "code",
   "execution_count": 9,
   "metadata": {},
   "outputs": [
    {
     "data": {
      "text/plain": [
       "array([0, 1, 2, 3, 4, 5, 6, 7, 8, 9])"
      ]
     },
     "execution_count": 9,
     "metadata": {},
     "output_type": "execute_result"
    }
   ],
   "source": [
    "my_arr2 = np.arange(10); my_arr2"
   ]
  },
  {
   "cell_type": "code",
   "execution_count": 10,
   "metadata": {},
   "outputs": [
    {
     "name": "stdout",
     "output_type": "stream",
     "text": [
      "[ 0  2  4  6  8 10 12 14 16 18]\n",
      "[ 2  3  4  5  6  7  8  9 10 11]\n"
     ]
    },
    {
     "data": {
      "text/plain": [
       "array([0, 1, 2, 3, 4, 5, 6, 7, 8, 9])"
      ]
     },
     "execution_count": 10,
     "metadata": {},
     "output_type": "execute_result"
    }
   ],
   "source": [
    "print(my_arr2*2); print(my_arr2+2); my_arr2"
   ]
  },
  {
   "cell_type": "code",
   "execution_count": 11,
   "metadata": {},
   "outputs": [
    {
     "name": "stdout",
     "output_type": "stream",
     "text": [
      "[1 4 2 5 3]\n",
      "[ 6.   7.5  8.   0.   1. ]\n",
      "--------\n",
      "[ 6.0  7.5  8.0  0.0  1.0]\n",
      "16\n",
      "1\n",
      "--------\n",
      "[ 6.   7.5  8.   0.   1. ]\n",
      "8\n",
      "--------\n",
      "[[1 2 3 4]\n",
      " [5 6 7 8]]\n",
      "8\n",
      "2\n",
      "64\n",
      "8\n",
      "(2, 4)\n"
     ]
    }
   ],
   "source": [
    "arr = np.array([1, 4, 2, 5, 3]); print(arr)\n",
    "\n",
    "#list to ndarray\n",
    "data1 = [6, 7.5, 8, 0, 1]\n",
    "arr1 = np.array(data1); print(arr1)\n",
    "print(\"--------\")\n",
    "\n",
    "data1 = [6, 7.5, 8, 0, 1]\n",
    "arr1 = np.array(data1,dtype=np.float128); print(arr1)\n",
    "print(arr1.itemsize)\n",
    "print(arr1.ndim)\n",
    "print(\"--------\")\n",
    "\n",
    "data1 = [6, 7.5, 8, 0, 1]\n",
    "arr1 = np.array(data1,dtype='float64'); print(arr1)\n",
    "print(arr1.itemsize)\n",
    "print(\"--------\")\n",
    "\n",
    "#nested list to multidimensional ndarray\n",
    "data2 = [[1, 2, 3, 4], [5, 6, 7, 8]]\n",
    "arr2 = np.array(data2); print(arr2)\n",
    "print(arr2.itemsize) # no. of bytes occupied by each item\n",
    "print(arr2.ndim)  # no. of dimensions\n",
    "print(arr2.nbytes)  # = size x itemsize\n",
    "print(arr2.size) # like length i.e. total no. of items\n",
    "print(arr2.shape) # dimensions"
   ]
  },
  {
   "cell_type": "code",
   "execution_count": 12,
   "metadata": {
    "collapsed": true
   },
   "outputs": [],
   "source": [
    "import sys"
   ]
  },
  {
   "cell_type": "code",
   "execution_count": 13,
   "metadata": {
    "collapsed": true
   },
   "outputs": [],
   "source": [
    "L = list(range(1000))\n",
    "A = array.array('i', L)\n",
    "my_arr = np.arange(1000)\n",
    "#print(A); print(L); print(my_arr)"
   ]
  },
  {
   "cell_type": "code",
   "execution_count": 14,
   "metadata": {},
   "outputs": [
    {
     "data": {
      "text/plain": [
       "4064"
      ]
     },
     "execution_count": 14,
     "metadata": {},
     "output_type": "execute_result"
    }
   ],
   "source": [
    "sys.getsizeof(A)"
   ]
  },
  {
   "cell_type": "code",
   "execution_count": 15,
   "metadata": {},
   "outputs": [
    {
     "data": {
      "text/plain": [
       "9112"
      ]
     },
     "execution_count": 15,
     "metadata": {},
     "output_type": "execute_result"
    }
   ],
   "source": [
    "sys.getsizeof(L)"
   ]
  },
  {
   "cell_type": "code",
   "execution_count": 16,
   "metadata": {},
   "outputs": [
    {
     "data": {
      "text/plain": [
       "8096"
      ]
     },
     "execution_count": 16,
     "metadata": {},
     "output_type": "execute_result"
    }
   ],
   "source": [
    "sys.getsizeof(my_arr)"
   ]
  },
  {
   "cell_type": "code",
   "execution_count": 17,
   "metadata": {},
   "outputs": [
    {
     "name": "stdout",
     "output_type": "stream",
     "text": [
      "8000\n"
     ]
    }
   ],
   "source": [
    "my_arr.itemsize; print(my_arr.nbytes)"
   ]
  },
  {
   "cell_type": "code",
   "execution_count": 18,
   "metadata": {},
   "outputs": [
    {
     "data": {
      "text/plain": [
       "8"
      ]
     },
     "execution_count": 18,
     "metadata": {},
     "output_type": "execute_result"
    }
   ],
   "source": [
    "my_arr.itemsize"
   ]
  },
  {
   "cell_type": "code",
   "execution_count": 19,
   "metadata": {
    "collapsed": true
   },
   "outputs": [],
   "source": [
    "np.array?"
   ]
  },
  {
   "cell_type": "code",
   "execution_count": 20,
   "metadata": {},
   "outputs": [
    {
     "name": "stdout",
     "output_type": "stream",
     "text": [
      "[[ 1.64927616 -0.78869288 -2.30983042]\n",
      " [-1.18330771 -1.51386354 -0.48902406]]\n",
      "(2, 3) 2 float64 8 6 48\n",
      "[ 2.  3.  4.  5.  6.  7.  8.  9.]\n"
     ]
    }
   ],
   "source": [
    "data = np.random.randn(2, 3); print(data)\n",
    "print(data.shape,data.ndim,data.dtype,data.itemsize,data.size,data.nbytes)\n",
    "\n",
    "#np.arange(10)\n",
    "print(np.arange(2, 10, dtype=float))"
   ]
  },
  {
   "cell_type": "code",
   "execution_count": 21,
   "metadata": {
    "collapsed": true
   },
   "outputs": [],
   "source": [
    "?np.random.randn"
   ]
  },
  {
   "cell_type": "code",
   "execution_count": 22,
   "metadata": {
    "scrolled": true
   },
   "outputs": [
    {
     "name": "stdout",
     "output_type": "stream",
     "text": [
      "10000000000000000\n",
      "1874919424\n",
      "0\n",
      "1e+200\n",
      "inf\n",
      "[1 2]\n"
     ]
    },
    {
     "name": "stderr",
     "output_type": "stream",
     "text": [
      "/Users/sudeepmallick/anaconda3/lib/python3.6/site-packages/ipykernel_launcher.py:6: RuntimeWarning: overflow encountered in power\n",
      "  \n"
     ]
    }
   ],
   "source": [
    "#overflow and trucation errors\n",
    "print(np.power(100, 8, dtype=np.int64))\n",
    "print(np.power(100, 8, dtype=np.int32))\n",
    "print(np.power(100, 100, dtype=np.int64))\n",
    "print(np.power(100, 100, dtype=np.float64))\n",
    "print(np.power(100, 100, dtype=np.float16))\n",
    "#truncation happens here - CAREFUL!!!\n",
    "arr11 = np.array([1.3,2.5], dtype=np.int16)\n",
    "print(arr11)\n"
   ]
  },
  {
   "cell_type": "code",
   "execution_count": 23,
   "metadata": {},
   "outputs": [
    {
     "name": "stdout",
     "output_type": "stream",
     "text": [
      "[ 0.  0.  0.  0.  0.  0.  0.  0.  0.  0.]\n",
      "[[ 0.  0.  0.  0.  0.  0.]\n",
      " [ 0.  0.  0.  0.  0.  0.]\n",
      " [ 0.  0.  0.  0.  0.  0.]]\n",
      "[[[  0.00000000e+000   9.38724727e-323]\n",
      "  [  0.00000000e+000   4.94065646e-324]\n",
      "  [  0.00000000e+000   5.74084147e+169]]\n",
      "\n",
      " [[  0.00000000e+000   1.45138931e+165]\n",
      "  [  0.00000000e+000   1.56055729e+161]\n",
      "  [  0.00000000e+000   4.04738577e-317]]]\n"
     ]
    }
   ],
   "source": [
    "#use of standard numpy functions to create arrays\n",
    "print(np.zeros(10))\n",
    "print(np.zeros((3, 6)))\n",
    "#uninitialized garbage values\n",
    "print(np.empty((2, 3, 2)))\n",
    "#np.arange(15)"
   ]
  },
  {
   "cell_type": "code",
   "execution_count": 24,
   "metadata": {},
   "outputs": [
    {
     "name": "stdout",
     "output_type": "stream",
     "text": [
      "[[[ 0.  0.]\n",
      "  [ 0.  0.]\n",
      "  [ 0.  0.]]\n",
      "\n",
      " [[ 0.  0.]\n",
      "  [ 0.  0.]\n",
      "  [ 0.  0.]]]\n"
     ]
    }
   ],
   "source": [
    "print(np.zeros([2,3,2]))"
   ]
  },
  {
   "cell_type": "code",
   "execution_count": 25,
   "metadata": {},
   "outputs": [
    {
     "name": "stdout",
     "output_type": "stream",
     "text": [
      "[3 5 7 9]\n",
      "[ 3.  5.  7.  9.]\n",
      "[ 3.0  5.0  7.0  9.0]\n",
      "[ 3.  5.  7.  9.]\n"
     ]
    }
   ],
   "source": [
    "print(np.arange(3,10,2))\n",
    "print(np.arange(3,10,2,dtype='float'))\n",
    "print(np.arange(3,10,2,dtype=np.float128))\n",
    "print(np.arange(3,10,2,dtype=np.float64))"
   ]
  },
  {
   "cell_type": "code",
   "execution_count": 26,
   "metadata": {
    "collapsed": true
   },
   "outputs": [],
   "source": [
    "import numpy as np"
   ]
  },
  {
   "cell_type": "code",
   "execution_count": null,
   "metadata": {
    "collapsed": true
   },
   "outputs": [],
   "source": []
  },
  {
   "cell_type": "code",
   "execution_count": 27,
   "metadata": {},
   "outputs": [
    {
     "name": "stdout",
     "output_type": "stream",
     "text": [
      "[[1 2 3 4]\n",
      " [5 6 7 8]\n",
      " [5 6 7 8]]\n",
      "(3, 4)\n",
      "[[[1 2 3 4]\n",
      "  [5 6 7 8]\n",
      "  [5 6 7 8]]]\n",
      "(1, 3, 4)\n"
     ]
    }
   ],
   "source": [
    "data2 = [[1, 2, 3, 4], [5, 6, 7, 8],[5, 6, 7, 8]]\n",
    "arr2 = np.array(data2); print(arr2); print(arr2.shape)\n",
    "data2 = [[[1, 2, 3, 4], [5, 6, 7, 8],[5, 6, 7, 8]]]\n",
    "arr2 = np.array(data2); print(arr2); print(arr2.shape)\n"
   ]
  },
  {
   "cell_type": "code",
   "execution_count": 28,
   "metadata": {},
   "outputs": [
    {
     "name": "stdout",
     "output_type": "stream",
     "text": [
      "[[ 1.  0.  0.]\n",
      " [ 0.  1.  0.]\n",
      " [ 0.  0.  1.]]\n",
      "[   3.           11.81818182   20.63636364   29.45454545   38.27272727\n",
      "   47.09090909   55.90909091   64.72727273   73.54545455   82.36363636\n",
      "   91.18181818  100.        ]\n",
      "[[ 1.  0.  0.]\n",
      " [ 0.  1.  0.]\n",
      " [ 0.  0.  1.]]\n"
     ]
    }
   ],
   "source": [
    "arr14 = np.eye(3); print(arr14)\n",
    "arr22 = np.linspace(3,100,12); print(arr22)\n",
    "print(np.eye(3))"
   ]
  },
  {
   "cell_type": "code",
   "execution_count": 29,
   "metadata": {
    "scrolled": true
   },
   "outputs": [
    {
     "name": "stdout",
     "output_type": "stream",
     "text": [
      "[[2 3 4]\n",
      " [3 5 3]]\n",
      "5\n",
      "====\n",
      "0\n",
      "[5 3]\n",
      "1\n",
      "[[2 3]]\n",
      "[[2]\n",
      " [3]]\n",
      "----\n",
      "2\n",
      "(1, 2)\n"
     ]
    }
   ],
   "source": [
    "#indexing of arrays - single index, slicing, boolean indexing, fancy indexing, multi-dimensional subarrays\n",
    "arr12 = np.array([[2,3,4],[3,5,3]]); print(arr12)\n",
    "#for multidimensional, dimensions are separated by commas\n",
    "print(arr12[1,1]); print(\"====\")\n",
    "print(arr12[1,1].ndim)\n",
    "print(arr12[1,1:]); print(arr12[1,1:].ndim)\n",
    "print(arr12[:1, :2])\n",
    "print(arr12[:1, :2].reshape(2,1)); print(\"----\")\n",
    "print(arr12[:1, :2].ndim)\n",
    "print(arr12[:1, :2].shape)"
   ]
  },
  {
   "cell_type": "code",
   "execution_count": 30,
   "metadata": {},
   "outputs": [
    {
     "data": {
      "text/plain": [
       "tuple"
      ]
     },
     "execution_count": 30,
     "metadata": {},
     "output_type": "execute_result"
    }
   ],
   "source": [
    "a = 1,1\n",
    "type(a)"
   ]
  },
  {
   "cell_type": "code",
   "execution_count": 31,
   "metadata": {},
   "outputs": [
    {
     "name": "stdout",
     "output_type": "stream",
     "text": [
      "[[2 3]\n",
      " [3 5]]\n",
      "[[2 3 4]]\n",
      "[ 8.  0.]\n",
      "[ 8.  0.]\n"
     ]
    }
   ],
   "source": [
    "print(arr12[:,:2])\n",
    "print(arr12[:1,:] )   #alternatively arr12[:1]\n",
    "data1 = [6, 7.5, 8, 0, 1]; arr1 = np.array(data1)\n",
    "print(arr1[2:-1])\n",
    "arr16 = arr1[2:4]; print(arr16)"
   ]
  },
  {
   "cell_type": "code",
   "execution_count": 32,
   "metadata": {
    "scrolled": true
   },
   "outputs": [
    {
     "name": "stdout",
     "output_type": "stream",
     "text": [
      "[ 6.   7.5  8.   0.   1. ]\n",
      "[ 8.  0.]\n",
      "[   6.     7.5  100.     0.     1. ]\n",
      "[ 100.    0.]\n",
      "[ 1000.     0.]\n",
      "[   6.     7.5  100.     0.     1. ]\n"
     ]
    }
   ],
   "source": [
    "#array indexing is a no copy operation\n",
    "print(arr1)\n",
    "arr16 = arr1[2:4]; print(arr16)\n",
    "arr16[0]=100; print(arr1)\n",
    "#getting a copy\n",
    "arr16 = arr1[2:4].copy(); print(arr16)\n",
    "arr16[0]=1000; print(arr16)\n",
    "print(arr1)"
   ]
  },
  {
   "cell_type": "code",
   "execution_count": 33,
   "metadata": {},
   "outputs": [
    {
     "name": "stdout",
     "output_type": "stream",
     "text": [
      "[   3.           11.81818182   20.63636364   29.45454545   38.27272727\n",
      "   47.09090909   55.90909091   64.72727273   73.54545455   82.36363636\n",
      "   91.18181818  100.        ]\n",
      "[[   3.           11.81818182]\n",
      " [  20.63636364   29.45454545]\n",
      " [  38.27272727   47.09090909]\n",
      " [  55.90909091   64.72727273]\n",
      " [  73.54545455   82.36363636]\n",
      " [  91.18181818  100.        ]]\n"
     ]
    }
   ],
   "source": [
    "#array reshaping\n",
    "#row major arrangement (C-style)\n",
    "arr22 = np.linspace(3,100,12); print(arr22)\n",
    "arr22_reshaped = arr22.reshape(6,2); print(arr22_reshaped)"
   ]
  },
  {
   "cell_type": "code",
   "execution_count": 34,
   "metadata": {},
   "outputs": [
    {
     "name": "stdout",
     "output_type": "stream",
     "text": [
      "[[   3.           55.90909091]\n",
      " [  11.81818182   64.72727273]\n",
      " [  20.63636364   73.54545455]\n",
      " [  29.45454545   82.36363636]\n",
      " [  38.27272727   91.18181818]\n",
      " [  47.09090909  100.        ]]\n",
      "[[ 11.81818182  64.72727273]\n",
      " [ 29.45454545  82.36363636]]\n"
     ]
    }
   ],
   "source": [
    "#column major arrangement (Fortran style)\n",
    "arr22_reshaped = arr22.reshape(6,2,order='F'); print(arr22_reshaped)\n",
    "print(arr22_reshaped[1:4:2,:])"
   ]
  },
  {
   "cell_type": "code",
   "execution_count": 35,
   "metadata": {},
   "outputs": [
    {
     "name": "stdout",
     "output_type": "stream",
     "text": [
      "[1 2 3]\n",
      "1\n",
      "(3,)\n",
      "---\n",
      "[[1 2 3]]\n",
      "(1, 3)\n",
      "(3,)\n",
      "---\n",
      "[[1]\n",
      " [2]\n",
      " [3]]\n",
      "(3, 1)\n",
      "(3,)\n",
      "---\n",
      "[[1 2 3]]\n",
      "(1, 3)\n",
      "---\n",
      "[[1]\n",
      " [2]\n",
      " [3]]\n",
      "(3, 1)\n"
     ]
    }
   ],
   "source": [
    "x = np.array([1, 2, 3])\n",
    "print(x)\n",
    "print(x.ndim)\n",
    "print(x.shape)\n",
    "print(\"---\")\n",
    "y = x.reshape((1, 3)); print(y)\n",
    "print(y.shape)\n",
    "print(x.shape)\n",
    "print(\"---\")\n",
    "y = x.reshape((3, 1)); print(y)\n",
    "print(y.shape)\n",
    "print(x.shape)\n",
    "print(\"---\")\n",
    "y = x[np.newaxis, :]; print(y)\n",
    "print(y.shape)\n",
    "print(\"---\")\n",
    "y = x[:, np.newaxis]; print(y)\n",
    "print(y.shape)"
   ]
  },
  {
   "cell_type": "code",
   "execution_count": 36,
   "metadata": {},
   "outputs": [
    {
     "name": "stdout",
     "output_type": "stream",
     "text": [
      "[1 2 3 3 2 1]\n",
      "-----\n",
      "(3,)\n",
      "1\n",
      "[[1]\n",
      " [2]\n",
      " [3]]\n",
      "(3, 1)\n",
      "[[1]\n",
      " [2]\n",
      " [3]\n",
      " [3]\n",
      " [2]\n",
      " [1]]\n",
      "======\n",
      "[[1 3]\n",
      " [2 2]\n",
      " [3 1]]\n"
     ]
    }
   ],
   "source": [
    "#array concatenation & splitting\n",
    "x = np.array([1, 2, 3])\n",
    "y = np.array([3, 2, 1])\n",
    "print(np.concatenate([x, y],axis=0))\n",
    "print(\"-----\")\n",
    "print(x.shape)\n",
    "print(x.ndim)\n",
    "print(x[:,np.newaxis])\n",
    "print(x[:,np.newaxis].shape)\n",
    "#print(np.concatenate([x, y],axis=1))\n",
    "print(np.concatenate([x[:,np.newaxis],y[:,np.newaxis]],axis=0))\n",
    "print(\"======\")\n",
    "print(np.concatenate([x[:,np.newaxis],y[:,np.newaxis]],axis=1))"
   ]
  },
  {
   "cell_type": "code",
   "execution_count": 37,
   "metadata": {
    "collapsed": true
   },
   "outputs": [],
   "source": [
    "np.concatenate?"
   ]
  },
  {
   "cell_type": "code",
   "execution_count": 38,
   "metadata": {},
   "outputs": [
    {
     "name": "stdout",
     "output_type": "stream",
     "text": [
      "[[1 3]\n",
      " [2 2]\n",
      " [3 1]]\n",
      "[1 2 3 3 2 1]\n",
      "[[1 2 3]\n",
      " [3 2 1]]\n"
     ]
    }
   ],
   "source": [
    "print(np.concatenate([x[:,np.newaxis],y[:,np.newaxis]],axis=1))\n",
    "print(np.hstack([x,y]))\n",
    "print(np.vstack([x,y]))"
   ]
  },
  {
   "cell_type": "code",
   "execution_count": 39,
   "metadata": {},
   "outputs": [
    {
     "name": "stdout",
     "output_type": "stream",
     "text": [
      "[1 2 3] [99 99] [3 2 1]\n"
     ]
    }
   ],
   "source": [
    "x=[1,2,3,99,99,3,2,1]\n",
    "x1, x2, x3 = np.split(x, [3, 5])\n",
    "print(x1, x2, x3) #also explore np.hsplit, np.vsplit"
   ]
  },
  {
   "cell_type": "code",
   "execution_count": 40,
   "metadata": {},
   "outputs": [
    {
     "name": "stdout",
     "output_type": "stream",
     "text": [
      "[[1 2 3]\n",
      " [4 5 6]\n",
      " [7 8 9]]\n",
      "[[False  True False]\n",
      " [ True False  True]\n",
      " [False  True False]]\n",
      "[[False  True False]\n",
      " [ True False  True]\n",
      " [False  True False]]\n",
      "[2 4 6 8]\n",
      "[ True False  True]\n",
      "[[1 2 3]\n",
      " [7 8 9]]\n",
      "====\n",
      "[list([1, 2]) list([1]) list([2])]\n",
      "====\n",
      "[5 8]\n"
     ]
    }
   ],
   "source": [
    "#boolean masks and boolean indexing\n",
    "arr14 = np.array([[1, 2, 3], [4, 5, 6], [7, 8, 9]]); print(arr14)\n",
    "print(arr14%2==0)\n",
    "arr14a = arr14%2==0; print(arr14a)\n",
    "arr14[arr14a]\n",
    "print(arr14[arr14%2==0])\n",
    "arr15 = np.array([True,False,True]); print(arr15)\n",
    "print(arr14[arr15])\n",
    "print(\"====\")\n",
    "arr15 = np.array([[1,2],[1],[2]]); print(arr15)\n",
    "print(\"====\")\n",
    "print(arr14[[1,2],[1]]) #fancy indexing"
   ]
  },
  {
   "cell_type": "code",
   "execution_count": 41,
   "metadata": {},
   "outputs": [
    {
     "name": "stdout",
     "output_type": "stream",
     "text": [
      "[[ True False  True]\n",
      " [ True  True False]\n",
      " [False False  True]]\n",
      "[1 3 4 5 9]\n",
      "-----\n",
      "[1 3 5 7 9]\n",
      "-----\n",
      "[2 4 6 8 9]\n",
      "[3 9]\n",
      "-----\n",
      "[3 9]\n",
      "-----\n",
      "[3 9]\n",
      "-----1\n",
      "[3 9]\n",
      "-----2\n",
      "[[3]\n",
      " [6]]\n"
     ]
    }
   ],
   "source": [
    "arr16 = np.array([[True,False,True],[True, True,False],[False,False,True]]); print(arr16)\n",
    "print(arr14[arr16])\n",
    "print(\"-----\")\n",
    "print(arr14[~arr14%2==0])\n",
    "print(\"-----\")\n",
    "print(arr14[(arr14%2==0) | (arr14%9==0)])\n",
    "print(arr14[[True,False,True],[2]])\n",
    "print(\"-----\")\n",
    "arr17 = np.array([True,False,True])\n",
    "print(arr14[[True,False,True],[2]])\n",
    "print(\"-----\")\n",
    "print(arr14[arr17,[2]])\n",
    "print(\"-----1\")\n",
    "print(arr14[[0,2],[2]])\n",
    "print(\"-----2\")\n",
    "print(arr14[:2,[2]])"
   ]
  },
  {
   "cell_type": "code",
   "execution_count": 42,
   "metadata": {},
   "outputs": [
    {
     "name": "stdout",
     "output_type": "stream",
     "text": [
      "[10  9  8  7  6  5  4  3  2]\n",
      "[7 7 9 2]\n",
      "[7 7 4 2]\n"
     ]
    }
   ],
   "source": [
    "#fancy indexing (index arrays using lists)\n",
    "#fancy indexing results into COPYING\n",
    "x = np.arange(10,1,-1); print(x)\n",
    "print(x[[3, 3, 1, 8]])\n",
    "print(x[[3,3,-3,8]])"
   ]
  },
  {
   "cell_type": "code",
   "execution_count": 43,
   "metadata": {},
   "outputs": [
    {
     "name": "stdout",
     "output_type": "stream",
     "text": [
      "[[ 0  1  2  3]\n",
      " [ 4  5  6  7]\n",
      " [ 8  9 10 11]\n",
      " [12 13 14 15]\n",
      " [16 17 18 19]\n",
      " [20 21 22 23]\n",
      " [24 25 26 27]\n",
      " [28 29 30 31]]\n",
      "----\n",
      "[ 4 23 29 10]\n"
     ]
    }
   ],
   "source": [
    "arr = np.arange(32).reshape((8, 4)); print(arr)\n",
    "#here the 1st, 5th, 7th and 2nd rows' 0th, 3rd, 1st and 2nd elements are selected respectively. \n",
    "#The result is an one-dimensional array\n",
    "print(\"----\")\n",
    "print(arr[[1, 5, 7, 2], [0, 3, 1, 2]])"
   ]
  },
  {
   "cell_type": "code",
   "execution_count": 44,
   "metadata": {},
   "outputs": [
    {
     "name": "stdout",
     "output_type": "stream",
     "text": [
      "[[ 0  1  2  3]\n",
      " [ 0  5  6  7]\n",
      " [ 8  9  0 11]\n",
      " [12 13 14 15]\n",
      " [16 17 18 19]\n",
      " [20 21 22  0]\n",
      " [24 25 26 27]\n",
      " [28  0 30 31]]\n"
     ]
    }
   ],
   "source": [
    "arr[[1, 5, 7, 2], [0, 3, 1, 2]]=0\n",
    "print(arr)"
   ]
  },
  {
   "cell_type": "code",
   "execution_count": 45,
   "metadata": {},
   "outputs": [
    {
     "name": "stdout",
     "output_type": "stream",
     "text": [
      "[[ 0  1  2  3]\n",
      " [ 0  5  6  7]\n",
      " [ 8  9  0 11]\n",
      " [12 13 14 15]\n",
      " [16 17 18 19]\n",
      " [20 21 22  0]\n",
      " [24 25 26 27]\n",
      " [28  0 30 31]]\n",
      "----\n",
      "<class 'tuple'>\n",
      "6\n",
      "6\n",
      "[[ 0  5  6  7]\n",
      " [ 8  9  0 11]]\n"
     ]
    }
   ],
   "source": [
    "#important note the differences and similarities\n",
    "print(arr); print(\"----\")\n",
    "a = 1,2; print(type(a))\n",
    "print(arr[1,2])\n",
    "print(arr[(1,2)]) #same as previous\n",
    "print(arr[[1,2]]) #not same as previous but example of fancy indexing"
   ]
  },
  {
   "cell_type": "code",
   "execution_count": 46,
   "metadata": {
    "collapsed": true
   },
   "outputs": [],
   "source": [
    "import warnings\n",
    "warnings.filterwarnings(\"ignore\", message=\"divide by zero encountered\") \n",
    "warnings.filterwarnings(\"ignore\", message=\"invalid value encountered\")"
   ]
  },
  {
   "cell_type": "code",
   "execution_count": 47,
   "metadata": {},
   "outputs": [
    {
     "name": "stdout",
     "output_type": "stream",
     "text": [
      "[[ 4  6  8]\n",
      " [ 6 10  6]]\n",
      "------1\n",
      "[[ 4  9 16]\n",
      " [ 9 25  9]]\n",
      "[[ 6  9 12]\n",
      " [ 9 15  9]]\n",
      "[[ 4  9 16]\n",
      " [ 9 25  9]]\n",
      "[[2 3 4]\n",
      " [3 5 3]]\n",
      "[[ 1.  0.  0.]\n",
      " [ 0.  1.  0.]\n",
      " [ 0.  0.  1.]]\n",
      "------2\n",
      "[[ 4  6  8]\n",
      " [ 6 10  6]]\n",
      "------3\n",
      "[[ 4  6  8]\n",
      " [ 6 10  6]]\n",
      "------4\n",
      "int64\n",
      "int64\n",
      "------5\n",
      "arr12 = [[2 3 4]\n",
      " [3 5 3]]\n",
      "arr13 = [[ 4  6  8]\n",
      " [ 6 10  6]]\n",
      "arr12 > arr13 = [[False False False]\n",
      " [False False False]]\n",
      "arr12 <= arr15 = [[False  True  True]\n",
      " [ True False  True]]\n",
      "------6\n",
      "[[ 0  1  2  3  4]\n",
      " [ 5  6  7  8  9]\n",
      " [10 11 12 13 14]]\n",
      "[[ 0.          1.          1.41421356  1.73205081  2.        ]\n",
      " [ 2.23606798  2.44948974  2.64575131  2.82842712  3.        ]\n",
      " [ 3.16227766  3.31662479  3.46410162  3.60555128  3.74165739]]\n",
      "------7\n",
      "[ 1.27078973 -2.081258    0.38891897 -0.52595508  0.32156555  0.36491933\n",
      " -0.45002261 -0.27029416]\n",
      "[-1.29106011  0.25506748 -0.5769377  -0.82411779 -0.59151169  0.60834131\n",
      "  0.77169656 -0.72917295]\n",
      "------8\n",
      "[ 1.27078973  0.25506748  0.38891897 -0.52595508  0.32156555  0.60834131\n",
      "  0.77169656 -0.27029416]\n",
      "arr17 = [-7.41905687 -8.83138889 -8.41843483 -7.49586985 -7.68609444 -1.31263945\n",
      "  1.97144229]\n",
      "remainder: [-0.41905687 -0.83138889 -0.41843483 -0.49586985 -0.68609444 -0.31263945\n",
      "  0.97144229] whole_part: [-7. -8. -8. -7. -7. -1.  1.]\n",
      "------9\n",
      "[ True False False]\n",
      "------10\n",
      "np.array([1])/0 = [ inf]\n",
      "[ 2.5  4.   3.5]\n",
      "------11\n",
      "------12\n",
      "arr14 = [[0 2 1]\n",
      " [5 3 5]\n",
      " [6 7 8]]\n",
      "8\n",
      "[2 2 2]\n",
      "[1 0 2]\n",
      "arr15 = [ 0.69085094 -0.08017178  1.57723804  0.30955092 -0.37619203 -0.32836546\n",
      " -0.19952746  0.80927763 -1.53640697  0.5006165  -0.21262452 -0.88275667\n",
      " -0.41366019  1.72055794  0.37221818  1.69752031 -0.0055945  -0.27434529\n",
      " -0.70607738 -0.73149857 -0.51702808  0.01105877 -0.00677297 -1.43705754\n",
      " -2.18078658  1.45210568 -0.9463386  -0.04199739 -1.10820032  1.74305237\n",
      "  0.98618951  1.22111705 -1.36949386 -1.84168364 -0.48117664 -0.34234246\n",
      "  0.22523993  0.49642881  0.96199081 -0.2557208   0.38908296 -1.04834081\n",
      "  0.46049322  0.24852882  1.16199616 -1.06164619  0.2493824  -0.80575652\n",
      " -0.97630747  1.38774866 -0.16363034  0.56151744  0.71985863  0.81104081\n",
      "  0.29197618  0.79114201  1.87728011 -0.5304799   0.54552895 -0.63324038\n",
      " -0.58841537  1.03281505 -0.12941774 -1.08356749 -0.61562512 -1.71950715\n",
      "  0.28856458 -1.13918704 -1.24973929 -0.94739402 -2.21296234 -1.48519759\n",
      " -2.32428372 -0.01994374 -1.63395895  1.10029281 -0.23498892 -0.1872284\n",
      " -0.03892524  0.89478468 -0.30141003  1.20762143  1.60632805 -0.97537651\n",
      "  0.51945045 -0.03553113  0.27536139 -0.2624274  -0.38293359  0.84716601\n",
      " -0.31968799 -1.75414122 -1.16940539  1.99627024  2.32252043  0.15972155\n",
      "  0.17361217  2.65370365 -1.51179932 -0.37432434]\n",
      "43\n",
      "True\n",
      "False\n"
     ]
    }
   ],
   "source": [
    "#UFUNCS\n",
    "arr12 = np.array([[2,3,4],[3,5,3]]); arr12\n",
    "print(arr12 + arr12); print(\"------1\")\n",
    "print(arr12 * arr12)\n",
    "print(arr12 * 3)\n",
    "print(arr12 ** 2)\n",
    "print(arr12)\n",
    "arr14 = np.eye(3); print(arr14)\n",
    "print(\"------2\")\n",
    "print(arr12 * 2)\n",
    "print(\"------3\")\n",
    "arr13 = arr12 * 2\n",
    "print(arr13)\n",
    "print(\"------4\")\n",
    "print(arr12.dtype)\n",
    "print(arr13.dtype)\n",
    "print(\"------5\")\n",
    "print(f'arr12 = {arr12}')\n",
    "print(f'arr13 = {arr13}')\n",
    "print(f'arr12 > arr13 = {arr12 > arr13}')\n",
    "arr15 = np.array([[1,3,4],[3,4,3]])\n",
    "print(f'arr12 <= arr15 = {arr12 <= arr15}')\n",
    "arr16 = np.arange(15).reshape(3,5); arr16\n",
    "print(\"------6\")\n",
    "print(arr16)\n",
    "print(np.sqrt(arr16))\n",
    "print(\"------7\")\n",
    "x = np.random.randn(8); x\n",
    "print(x)\n",
    "y = np.random.randn(8); y\n",
    "print(y)\n",
    "print(\"------8\")\n",
    "print(np.maximum(x, y))\n",
    "np.add(x,y)\n",
    "arr17 = np.random.randn(7) * 5; arr17\n",
    "print(f'arr17 = {arr17}')\n",
    "remainder, whole_part = np.modf(arr17)\n",
    "print(f'remainder: {remainder} whole_part: {whole_part}')\n",
    "whole_part\n",
    "print(\"------9\")\n",
    "#largest integer smaller than...\n",
    "np.floor(arr17)\n",
    "np.ceil(arr17)\n",
    "arr18 =np.array([np.nan,23,2.3]); arr18\n",
    "np.isnan(np.nan)\n",
    "np.isnan(np.inf)\n",
    "np.isinf(np.inf)\n",
    "print(np.isnan(arr18))\n",
    "print(\"------10\")\n",
    "print(f'np.array([1])/0 = {np.array([1])/0}')\n",
    "np.dot(arr16,arr16.T)\n",
    "np.log([-1, 1, 2])\n",
    "np.mean(arr12) # alternatively arr12.mean()\n",
    "arr12.sum()\n",
    "arr12.mean(axis=1)\n",
    "arr12.mean(axis=0)\n",
    "print(np.mean(arr12,axis=0))\n",
    "print(\"------11\")\n",
    "arr12.cumsum()\n",
    "arr13 = np.array([[0, 1, 2], [3, 4, 5], [6, 7, 8]])\n",
    "#for each col\n",
    "arr13.cumsum(axis=0)\n",
    "#for each row\n",
    "arr13.cumsum(axis=1)\n",
    "print(\"------12\")\n",
    "#similarly we have std, var, min, max, argmin, argmax, cumprod\n",
    "arr14 = np.array([[0, 2, 1], [5, 3, 5], [6, 7, 8]])\n",
    "print(f'arr14 = {arr14}')\n",
    "print(arr14.argmax())\n",
    "print(arr14.argmax(axis=0)) # collapse on the rows i.e. column max\n",
    "print(arr14.argmax(axis=1)) # collapse on the cols i.e. row max\n",
    "arr14.max(axis=1)\n",
    "#boolean arrays\n",
    "arr15 = np.random.randn(100)\n",
    "print(f'arr15 = {arr15}')\n",
    "print((arr15 > 0).sum()) #count of positive values as True has value 1 and False has 0\n",
    "print((arr15 > 0).any())\n",
    "print((arr15 > 0).all())"
   ]
  },
  {
   "cell_type": "code",
   "execution_count": 48,
   "metadata": {},
   "outputs": [
    {
     "name": "stdout",
     "output_type": "stream",
     "text": [
      "[[0 2 1]\n",
      " [5 3 5]\n",
      " [6 7 8]]\n",
      "None\n",
      "[[0 1 2]\n",
      " [3 5 5]\n",
      " [6 7 8]]\n"
     ]
    }
   ],
   "source": [
    "#sorting (with copy, w/o copy)\n",
    "print(arr14)\n",
    "print(arr14.sort(axis=1))\n",
    "#in place sorting: NO COPY made\n",
    "#similar to the sort method of python list (as against sorted() available for any python iterable which makes copy)\n",
    "print(arr14)"
   ]
  },
  {
   "cell_type": "code",
   "execution_count": 49,
   "metadata": {},
   "outputs": [
    {
     "name": "stdout",
     "output_type": "stream",
     "text": [
      "[[2 4 3]\n",
      " [3 2 1]\n",
      " [5 2 2]]\n",
      "[[2 3 4]\n",
      " [1 2 3]\n",
      " [2 2 5]]\n",
      "[[2 4 3]\n",
      " [3 2 1]\n",
      " [5 2 2]]\n"
     ]
    }
   ],
   "source": [
    "arr15 = np.array([[2,4,3],[3,2,1],[5,2,2]]); print(arr15)\n",
    "#COPY made\n",
    "print(np.sort(arr15,axis=1))\n",
    "print(arr15)"
   ]
  },
  {
   "cell_type": "code",
   "execution_count": 50,
   "metadata": {
    "scrolled": true
   },
   "outputs": [
    {
     "name": "stdout",
     "output_type": "stream",
     "text": [
      "[0 1 2]\n",
      "(3,)\n",
      "1\n"
     ]
    }
   ],
   "source": [
    "a = np.array([0, 1, 2]); print(a); print(a.shape); print(a.ndim)"
   ]
  },
  {
   "cell_type": "code",
   "execution_count": 51,
   "metadata": {},
   "outputs": [
    {
     "name": "stdout",
     "output_type": "stream",
     "text": [
      "[[ 1.  1.  1.]\n",
      " [ 1.  1.  1.]\n",
      " [ 1.  1.  1.]]\n",
      "(3, 3)\n",
      "2\n"
     ]
    }
   ],
   "source": [
    "M = np.ones((3, 3)); print(M); print(M.shape); print(M.ndim)"
   ]
  },
  {
   "cell_type": "code",
   "execution_count": 52,
   "metadata": {},
   "outputs": [
    {
     "name": "stdout",
     "output_type": "stream",
     "text": [
      "[[ 1.  2.  3.]\n",
      " [ 1.  2.  3.]\n",
      " [ 1.  2.  3.]]\n",
      "(3, 3)\n",
      "2\n"
     ]
    }
   ],
   "source": [
    "b = M+a; b; print(b); print(b.shape); print(b.ndim)"
   ]
  },
  {
   "cell_type": "code",
   "execution_count": 53,
   "metadata": {},
   "outputs": [
    {
     "name": "stdout",
     "output_type": "stream",
     "text": [
      "[[0 1 2]]\n",
      "(1, 3)\n"
     ]
    }
   ],
   "source": [
    "d = a[np.newaxis,:]; print(d) ; print(d.shape)# Rule 1"
   ]
  },
  {
   "cell_type": "code",
   "execution_count": 54,
   "metadata": {},
   "outputs": [
    {
     "name": "stdout",
     "output_type": "stream",
     "text": [
      "[[0 1 2]\n",
      " [0 1 2]\n",
      " [0 1 2]]\n",
      "(3, 3)\n"
     ]
    }
   ],
   "source": [
    "c = np.vstack([d,d,d]); print(c) ; print(c.shape) # Rule 2"
   ]
  },
  {
   "cell_type": "code",
   "execution_count": 55,
   "metadata": {},
   "outputs": [
    {
     "data": {
      "text/plain": [
       "array([[ 1.,  2.,  3.],\n",
       "       [ 1.,  2.,  3.],\n",
       "       [ 1.,  2.,  3.]])"
      ]
     },
     "execution_count": 55,
     "metadata": {},
     "output_type": "execute_result"
    }
   ],
   "source": [
    "M + c"
   ]
  },
  {
   "cell_type": "code",
   "execution_count": 56,
   "metadata": {},
   "outputs": [
    {
     "data": {
      "text/plain": [
       "array([[ 4.,  4.,  4.],\n",
       "       [ 4.,  4.,  4.],\n",
       "       [ 4.,  4.,  4.]])"
      ]
     },
     "execution_count": 56,
     "metadata": {},
     "output_type": "execute_result"
    }
   ],
   "source": [
    "M + 3"
   ]
  },
  {
   "cell_type": "code",
   "execution_count": 57,
   "metadata": {
    "collapsed": true
   },
   "outputs": [],
   "source": [
    "import numpy as np"
   ]
  },
  {
   "cell_type": "code",
   "execution_count": 58,
   "metadata": {},
   "outputs": [
    {
     "name": "stdout",
     "output_type": "stream",
     "text": [
      "[0 1 2]\n",
      "[[ 1.  1.  1.]\n",
      " [ 1.  1.  1.]\n",
      " [ 1.  1.  1.]]\n",
      "[[ 1.  2.  3.]\n",
      " [ 1.  2.  3.]\n",
      " [ 1.  2.  3.]]\n",
      "(3,)\n",
      "(3, 3)\n",
      "(3, 3)\n",
      "d=[[0 1 2]]\n",
      "(1, 3)\n",
      "[[0 1 2]\n",
      " [0 1 2]\n",
      " [0 1 2]]\n",
      "(3, 3)\n"
     ]
    },
    {
     "data": {
      "text/plain": [
       "array([[ 1.,  2.,  3.],\n",
       "       [ 1.,  2.,  3.],\n",
       "       [ 1.,  2.,  3.]])"
      ]
     },
     "execution_count": 58,
     "metadata": {},
     "output_type": "execute_result"
    }
   ],
   "source": [
    "####Broadcasting#####\n",
    "a = np.array([0, 1, 2]); print(a)\n",
    "M = np.ones((3, 3)); print(M)\n",
    "b = M+a; print(b)\n",
    "print(a.shape)\n",
    "print(M.shape)\n",
    "print(b.shape)\n",
    "#the broadcasting steps followed as below:\n",
    "d = a[np.newaxis,:]; print(f'd={d}') # Rule 1\n",
    "print(d.shape)\n",
    "c = np.vstack([d,d,d]); print(c) # Rule 2\n",
    "print(c.shape)\n",
    "M + c #same as M+a a(3,) --> d(1,3) --> c(3,3) now c is compatible in shape with M "
   ]
  },
  {
   "cell_type": "code",
   "execution_count": 59,
   "metadata": {},
   "outputs": [
    {
     "name": "stdout",
     "output_type": "stream",
     "text": [
      "[[  4.71435164e-01  -1.19097569e+00   1.43270697e+00  -3.12651896e-01]\n",
      " [ -7.20588733e-01   8.87162940e-01   8.59588414e-01  -6.36523504e-01]\n",
      " [  1.56963721e-02  -2.24268495e+00   1.15003572e+00   9.91946022e-01]\n",
      " [  9.53324128e-01  -2.02125482e+00  -3.34077366e-01   2.11836468e-03]]\n",
      "[4 5 3 4 1 3 6 4 3 4 3 3 5 3 5]\n",
      "5.01626562109\n",
      "1.99205034304\n"
     ]
    }
   ],
   "source": [
    "#random numbers\n",
    "np.random.seed(1234)\n",
    "arr18 = np.random.normal(size=(4, 4)); print(arr18)\n",
    "print(np.random.binomial(10,0.33,size=15))\n",
    "print(np.random.normal(5,2,10000).mean())\n",
    "print(np.random.normal(5,2,10000).std())"
   ]
  },
  {
   "cell_type": "code",
   "execution_count": 60,
   "metadata": {},
   "outputs": [
    {
     "name": "stdout",
     "output_type": "stream",
     "text": [
      "[ 0.70998653  0.07673163  1.40671103 -0.1882581   0.6041425  -1.05898805\n",
      " -0.18200067  0.75309835 -1.58629783 -0.20472974]\n",
      "[ 0.32733429  0.31205706  0.55506431  0.06348811  0.09068824  0.48554707\n",
      "  0.93993837  0.256947    0.99234908  0.14905799]\n",
      "[ 4.49076052  3.06303349  3.42684426  3.25611321  3.22229685  4.85280131\n",
      "  4.80860069  3.12102794  4.75756056  3.34063864]\n",
      "[6 4 4 5 4 5 4 1 4 0]\n"
     ]
    }
   ],
   "source": [
    "#normal (0,1)\n",
    "print(np.random.randn(10))\n",
    "#uniform (0,1)\n",
    "print(np.random.rand(10))\n",
    "#uniform\n",
    "print(np.random.uniform(3,5,10))\n",
    "#poisson\n",
    "print(np.random.poisson(4,10))"
   ]
  },
  {
   "cell_type": "code",
   "execution_count": 61,
   "metadata": {
    "collapsed": true
   },
   "outputs": [],
   "source": [
    "np.random.rand?"
   ]
  },
  {
   "cell_type": "code",
   "execution_count": 62,
   "metadata": {},
   "outputs": [
    {
     "name": "stdout",
     "output_type": "stream",
     "text": [
      "[[ 0.62728899 -1.56962766  0.04249242 -0.20745141 -1.71736099]\n",
      " [-0.4879239   1.64896042  0.74411823  1.04132083  0.20613372]\n",
      " [-0.07152427 -1.36442936  0.38010196  0.09606448  0.36985082]\n",
      " [-2.25124685  1.04417784 -0.78196649  0.05686948  0.48445859]\n",
      " [-1.468386   -0.20974191 -0.50226351  0.40123683 -0.29992027]]\n",
      "[[  7.86094675e+00  -3.73430750e+00   2.13431174e+00  -1.36228603e+00\n",
      "   -1.85454968e+00]\n",
      " [ -3.73430750e+00   8.17876793e+00  -6.94643963e-02   1.88687078e+00\n",
      "    3.09965510e+00]\n",
      " [  2.13431174e+00  -6.94643963e-02   1.56373527e+00   5.56568353e-01\n",
      "   -7.19731254e-03]\n",
      " [ -1.36228603e+00   1.88687078e+00   5.56568353e-01   1.30083867e+00\n",
      "    5.13661682e-01]\n",
      " [ -1.85454968e+00   3.09965510e+00  -7.19731254e-03   5.13661682e-01\n",
      "    3.45326179e+00]]\n",
      "[[ 1.9118142  -0.35582117 -4.02550312  3.9439944   0.75106548]\n",
      " [-0.35582117  0.36484106  0.91162707 -1.15573942 -0.34476077]\n",
      " [-4.02550312  0.91162707  9.32790603 -8.8815187  -1.63960733]\n",
      " [ 3.9439944  -1.15573942 -8.8815187   9.70686455  1.69311221]\n",
      " [ 0.75106548 -0.34476077 -1.63960733  1.69311221  0.74713133]]\n",
      "[[ 1.  0.  0.  0.  0.]\n",
      " [ 0.  1.  0.  0.  0.]\n",
      " [ 0.  0.  1.  0.  0.]\n",
      " [ 0.  0.  0.  1.  0.]\n",
      " [ 0.  0.  0.  0.  1.]]\n"
     ]
    }
   ],
   "source": [
    "######LINEAR ALGEBRA#########\n",
    "#transpose of array / matrix\n",
    "arr16 = np.arange(15).reshape(3,5); arr16\n",
    "arr16.T\n",
    "\n",
    "x = np.array([[1., 2., 3.], [4., 5., 6.]])\n",
    "y = np.array([[6., 23.], [-1, 7], [8, 9]])\n",
    "x.dot(y)\n",
    "np.dot(x,y)\n",
    "np.dot(y,x)\n",
    "np.ones(3)\n",
    "np.dot(x,np.ones(3))\n",
    "\n",
    "from numpy.linalg import inv, qr\n",
    "X = np.random.randn(5, 5)\n",
    "print(X)\n",
    "mat = X.T.dot(X); print(mat)\n",
    "print(inv(mat))\n",
    "print(np.absolute(np.round(mat.dot(inv(mat)))))"
   ]
  },
  {
   "cell_type": "code",
   "execution_count": 63,
   "metadata": {
    "collapsed": true
   },
   "outputs": [],
   "source": [
    "#from numpy.linalg import ....(press tab to see what all you could import from linalg moddule)"
   ]
  },
  {
   "cell_type": "code",
   "execution_count": 64,
   "metadata": {
    "collapsed": true
   },
   "outputs": [],
   "source": [
    "from numpy.linalg import det"
   ]
  },
  {
   "cell_type": "code",
   "execution_count": 65,
   "metadata": {
    "collapsed": true
   },
   "outputs": [],
   "source": [
    "?det"
   ]
  },
  {
   "cell_type": "code",
   "execution_count": 66,
   "metadata": {},
   "outputs": [
    {
     "ename": "SyntaxError",
     "evalue": "invalid syntax (<ipython-input-66-77ad9cd14f0c>, line 1)",
     "output_type": "error",
     "traceback": [
      "\u001b[0;36m  File \u001b[0;32m\"<ipython-input-66-77ad9cd14f0c>\"\u001b[0;36m, line \u001b[0;32m1\u001b[0m\n\u001b[0;31m    from numpy.linalg import\u001b[0m\n\u001b[0m                             ^\u001b[0m\n\u001b[0;31mSyntaxError\u001b[0m\u001b[0;31m:\u001b[0m invalid syntax\n"
     ]
    }
   ],
   "source": [
    "from numpy.linalg import "
   ]
  },
  {
   "cell_type": "code",
   "execution_count": 67,
   "metadata": {},
   "outputs": [
    {
     "data": {
      "text/plain": [
       "array([   6. ,    7.5,  100. ,    0. ,    1. ])"
      ]
     },
     "execution_count": 67,
     "metadata": {},
     "output_type": "execute_result"
    }
   ],
   "source": [
    "arr1"
   ]
  },
  {
   "cell_type": "code",
   "execution_count": 68,
   "metadata": {
    "collapsed": true
   },
   "outputs": [],
   "source": [
    "import numpy as np"
   ]
  },
  {
   "cell_type": "code",
   "execution_count": 69,
   "metadata": {},
   "outputs": [
    {
     "name": "stdout",
     "output_type": "stream",
     "text": [
      "[[ 0  1  2  3]\n",
      " [ 4  5  6  7]\n",
      " [ 8  9 10 11]\n",
      " [12 13 14 15]\n",
      " [16 17 18 19]\n",
      " [20 21 22 23]\n",
      " [24 25 26 27]\n",
      " [28 29 30 31]]\n"
     ]
    }
   ],
   "source": [
    "arr = np.arange(32).reshape((8, 4)); print(arr)"
   ]
  },
  {
   "cell_type": "code",
   "execution_count": 70,
   "metadata": {},
   "outputs": [
    {
     "data": {
      "text/plain": [
       "array([[[ 0,  1],\n",
       "        [ 2,  3],\n",
       "        [ 4,  5],\n",
       "        [ 6,  7],\n",
       "        [ 8,  9],\n",
       "        [10, 11],\n",
       "        [12, 13],\n",
       "        [14, 15]],\n",
       "\n",
       "       [[16, 17],\n",
       "        [18, 19],\n",
       "        [20, 21],\n",
       "        [22, 23],\n",
       "        [24, 25],\n",
       "        [26, 27],\n",
       "        [28, 29],\n",
       "        [30, 31]]])"
      ]
     },
     "execution_count": 70,
     "metadata": {},
     "output_type": "execute_result"
    }
   ],
   "source": [
    "arr = arr.reshape(2,8,2); arr"
   ]
  },
  {
   "cell_type": "code",
   "execution_count": 71,
   "metadata": {},
   "outputs": [
    {
     "data": {
      "text/plain": [
       "array([2, 2, 2])"
      ]
     },
     "execution_count": 71,
     "metadata": {},
     "output_type": "execute_result"
    }
   ],
   "source": [
    "arr[[True,False],[1,1,1],[True,False]]"
   ]
  },
  {
   "cell_type": "code",
   "execution_count": 72,
   "metadata": {},
   "outputs": [
    {
     "data": {
      "text/plain": [
       "[True, False, True, False, True, False, True, False]"
      ]
     },
     "execution_count": 72,
     "metadata": {},
     "output_type": "execute_result"
    }
   ],
   "source": [
    "[True,False]*4"
   ]
  },
  {
   "cell_type": "code",
   "execution_count": 73,
   "metadata": {},
   "outputs": [
    {
     "ename": "IndexError",
     "evalue": "shape mismatch: indexing arrays could not be broadcast together with shapes (4,) (2,) ",
     "output_type": "error",
     "traceback": [
      "\u001b[0;31m---------------------------------------------------------------------------\u001b[0m",
      "\u001b[0;31mIndexError\u001b[0m                                Traceback (most recent call last)",
      "\u001b[0;32m<ipython-input-73-e29879d38e62>\u001b[0m in \u001b[0;36m<module>\u001b[0;34m()\u001b[0m\n\u001b[0;32m----> 1\u001b[0;31m \u001b[0marr\u001b[0m\u001b[0;34m[\u001b[0m\u001b[0;34m:\u001b[0m\u001b[0;34m,\u001b[0m\u001b[0;34m[\u001b[0m\u001b[0;32mTrue\u001b[0m\u001b[0;34m,\u001b[0m\u001b[0;32mFalse\u001b[0m\u001b[0;34m]\u001b[0m\u001b[0;34m*\u001b[0m\u001b[0;36m4\u001b[0m\u001b[0;34m,\u001b[0m\u001b[0;34m[\u001b[0m\u001b[0;36m1\u001b[0m\u001b[0;34m,\u001b[0m\u001b[0;36m1\u001b[0m\u001b[0;34m]\u001b[0m\u001b[0;34m]\u001b[0m\u001b[0;34m\u001b[0m\u001b[0m\n\u001b[0m",
      "\u001b[0;31mIndexError\u001b[0m: shape mismatch: indexing arrays could not be broadcast together with shapes (4,) (2,) "
     ]
    }
   ],
   "source": [
    "arr[:,[True,False]*4,[1,1]]"
   ]
  },
  {
   "cell_type": "code",
   "execution_count": 74,
   "metadata": {},
   "outputs": [
    {
     "data": {
      "text/plain": [
       "array([[[ 0,  1],\n",
       "        [ 4,  5],\n",
       "        [ 8,  9],\n",
       "        [12, 13]],\n",
       "\n",
       "       [[16, 17],\n",
       "        [20, 21],\n",
       "        [24, 25],\n",
       "        [28, 29]]])"
      ]
     },
     "execution_count": 74,
     "metadata": {},
     "output_type": "execute_result"
    }
   ],
   "source": [
    "arr[:,[True,False]*4,:]"
   ]
  },
  {
   "cell_type": "code",
   "execution_count": 75,
   "metadata": {},
   "outputs": [
    {
     "data": {
      "text/plain": [
       "array([[[ 0,  1],\n",
       "        [ 4,  5],\n",
       "        [ 8,  9],\n",
       "        [12, 13]],\n",
       "\n",
       "       [[16, 17],\n",
       "        [20, 21],\n",
       "        [24, 25],\n",
       "        [28, 29]]])"
      ]
     },
     "execution_count": 75,
     "metadata": {},
     "output_type": "execute_result"
    }
   ],
   "source": [
    "arr[:,[True,False]*4]"
   ]
  },
  {
   "cell_type": "code",
   "execution_count": 76,
   "metadata": {},
   "outputs": [
    {
     "data": {
      "text/plain": [
       "array([[ 1,  5,  9, 13],\n",
       "       [17, 21, 25, 29]])"
      ]
     },
     "execution_count": 76,
     "metadata": {},
     "output_type": "execute_result"
    }
   ],
   "source": [
    "arr[:,[True,False]*4,[1]]"
   ]
  },
  {
   "cell_type": "code",
   "execution_count": 77,
   "metadata": {},
   "outputs": [
    {
     "data": {
      "text/plain": [
       "(2, 4, 2)"
      ]
     },
     "execution_count": 77,
     "metadata": {},
     "output_type": "execute_result"
    }
   ],
   "source": [
    "arr2 = arr[:,[True,False]*4]\n",
    "arr2.shape"
   ]
  },
  {
   "cell_type": "code",
   "execution_count": 78,
   "metadata": {},
   "outputs": [
    {
     "data": {
      "text/plain": [
       "array([[[ 0,  1],\n",
       "        [ 4,  5],\n",
       "        [ 8,  9],\n",
       "        [12, 13]],\n",
       "\n",
       "       [[16, 17],\n",
       "        [20, 21],\n",
       "        [24, 25],\n",
       "        [28, 29]]])"
      ]
     },
     "execution_count": 78,
     "metadata": {},
     "output_type": "execute_result"
    }
   ],
   "source": [
    "arr2"
   ]
  },
  {
   "cell_type": "code",
   "execution_count": 79,
   "metadata": {},
   "outputs": [
    {
     "data": {
      "text/plain": [
       "(2, 4, 2)"
      ]
     },
     "execution_count": 79,
     "metadata": {},
     "output_type": "execute_result"
    }
   ],
   "source": [
    "arr2[:,:].shape"
   ]
  },
  {
   "cell_type": "code",
   "execution_count": 80,
   "metadata": {},
   "outputs": [
    {
     "name": "stdout",
     "output_type": "stream",
     "text": [
      "[[[ 1  1]\n",
      "  [ 5  5]\n",
      "  [ 9  9]\n",
      "  [13 13]]\n",
      "\n",
      " [[17 17]\n",
      "  [21 21]\n",
      "  [25 25]\n",
      "  [29 29]]]\n",
      "[[1 1]\n",
      " [1 1]\n",
      " [1 1]\n",
      " [1 1]]\n",
      "(4, 2)\n"
     ]
    }
   ],
   "source": [
    "print(arr2[:,:,[1,1]])\n",
    "#4, <-> 2, -> 1,2 -> 4,2 as below:\n",
    "x = np.array([1,1])[np.newaxis,:]; x = np.vstack([x,x,x,x]); print(x); print(x.shape)"
   ]
  },
  {
   "cell_type": "code",
   "execution_count": 81,
   "metadata": {},
   "outputs": [
    {
     "data": {
      "text/plain": [
       "array([[ 1,  9],\n",
       "       [17, 25]])"
      ]
     },
     "execution_count": 81,
     "metadata": {},
     "output_type": "execute_result"
    }
   ],
   "source": [
    "#2, <-> 2,\n",
    "arr2[:,[True,False]*2,[1,1]]"
   ]
  },
  {
   "cell_type": "code",
   "execution_count": 82,
   "metadata": {},
   "outputs": [
    {
     "ename": "IndexError",
     "evalue": "shape mismatch: indexing arrays could not be broadcast together with shapes (2,) (3,) ",
     "output_type": "error",
     "traceback": [
      "\u001b[0;31m---------------------------------------------------------------------------\u001b[0m",
      "\u001b[0;31mIndexError\u001b[0m                                Traceback (most recent call last)",
      "\u001b[0;32m<ipython-input-82-f652718390ba>\u001b[0m in \u001b[0;36m<module>\u001b[0;34m()\u001b[0m\n\u001b[0;32m----> 1\u001b[0;31m \u001b[0marr2\u001b[0m\u001b[0;34m[\u001b[0m\u001b[0;34m:\u001b[0m\u001b[0;34m,\u001b[0m\u001b[0;34m[\u001b[0m\u001b[0;32mTrue\u001b[0m\u001b[0;34m,\u001b[0m\u001b[0;32mFalse\u001b[0m\u001b[0;34m]\u001b[0m\u001b[0;34m*\u001b[0m\u001b[0;36m2\u001b[0m\u001b[0;34m,\u001b[0m\u001b[0;34m[\u001b[0m\u001b[0;36m1\u001b[0m\u001b[0;34m,\u001b[0m\u001b[0;36m1\u001b[0m\u001b[0;34m,\u001b[0m\u001b[0;36m1\u001b[0m\u001b[0;34m]\u001b[0m\u001b[0;34m]\u001b[0m\u001b[0;34m\u001b[0m\u001b[0m\n\u001b[0m",
      "\u001b[0;31mIndexError\u001b[0m: shape mismatch: indexing arrays could not be broadcast together with shapes (2,) (3,) "
     ]
    }
   ],
   "source": [
    "arr2[:,[True,False]*2,[1,1,1]]"
   ]
  },
  {
   "cell_type": "code",
   "execution_count": 83,
   "metadata": {},
   "outputs": [
    {
     "data": {
      "text/plain": [
       "array([[ 1,  9],\n",
       "       [17, 25]])"
      ]
     },
     "execution_count": 83,
     "metadata": {},
     "output_type": "execute_result"
    }
   ],
   "source": [
    "#2, <-> 1, -> 2,\n",
    "arr2[:,[True,False]*2,[1]]"
   ]
  },
  {
   "cell_type": "code",
   "execution_count": 84,
   "metadata": {},
   "outputs": [
    {
     "data": {
      "text/plain": [
       "array([[[ 0,  1],\n",
       "        [ 8,  9]],\n",
       "\n",
       "       [[16, 17],\n",
       "        [24, 25]]])"
      ]
     },
     "execution_count": 84,
     "metadata": {},
     "output_type": "execute_result"
    }
   ],
   "source": [
    "arr2[:,[True,False]*2]"
   ]
  },
  {
   "cell_type": "code",
   "execution_count": 85,
   "metadata": {},
   "outputs": [
    {
     "name": "stdout",
     "output_type": "stream",
     "text": [
      "[1 1]\n",
      "(2,)\n"
     ]
    }
   ],
   "source": [
    "#2, <-> 1, -> 2, as below:\n",
    "x = np.array([1]); x = np.concatenate([x,x]); print(x); print(x.shape)"
   ]
  },
  {
   "cell_type": "code",
   "execution_count": 86,
   "metadata": {},
   "outputs": [
    {
     "data": {
      "text/plain": [
       "array([[[ 0,  1],\n",
       "        [ 4,  5],\n",
       "        [ 8,  9],\n",
       "        [12, 13]],\n",
       "\n",
       "       [[16, 17],\n",
       "        [20, 21],\n",
       "        [24, 25],\n",
       "        [28, 29]]])"
      ]
     },
     "execution_count": 86,
     "metadata": {},
     "output_type": "execute_result"
    }
   ],
   "source": [
    "arr2"
   ]
  },
  {
   "cell_type": "code",
   "execution_count": 87,
   "metadata": {},
   "outputs": [
    {
     "data": {
      "text/plain": [
       "array([[ 1,  5,  9],\n",
       "       [17, 21, 25]])"
      ]
     },
     "execution_count": 87,
     "metadata": {},
     "output_type": "execute_result"
    }
   ],
   "source": [
    "arr2[:,[True,True,True,False],[1]]\n",
    "#3, <-> 1, -> 3, "
   ]
  },
  {
   "cell_type": "code",
   "execution_count": 88,
   "metadata": {},
   "outputs": [
    {
     "data": {
      "text/plain": [
       "array([[[ 1,  1],\n",
       "        [ 5,  5],\n",
       "        [ 9,  9],\n",
       "        [13, 13]],\n",
       "\n",
       "       [[17, 17],\n",
       "        [21, 21],\n",
       "        [25, 25],\n",
       "        [29, 29]]])"
      ]
     },
     "execution_count": 88,
     "metadata": {},
     "output_type": "execute_result"
    }
   ],
   "source": [
    "arr[:,[True,False]*4][:,:,[1,1]]"
   ]
  },
  {
   "cell_type": "code",
   "execution_count": 89,
   "metadata": {},
   "outputs": [
    {
     "data": {
      "text/plain": [
       "array([[ 1,  5,  9, 13],\n",
       "       [17, 21, 25, 29]])"
      ]
     },
     "execution_count": 89,
     "metadata": {},
     "output_type": "execute_result"
    }
   ],
   "source": [
    "arr[:,[True,False]*4,[1,1,1,1]]"
   ]
  },
  {
   "cell_type": "code",
   "execution_count": 90,
   "metadata": {},
   "outputs": [
    {
     "data": {
      "text/plain": [
       "array([[ 1,  5,  9, 13],\n",
       "       [17, 21, 25, 29]])"
      ]
     },
     "execution_count": 90,
     "metadata": {},
     "output_type": "execute_result"
    }
   ],
   "source": [
    "arr[:,[True,False]*4,[False,True]]"
   ]
  },
  {
   "cell_type": "code",
   "execution_count": 91,
   "metadata": {},
   "outputs": [
    {
     "data": {
      "text/plain": [
       "array([[[ 0,  1],\n",
       "        [ 2,  3],\n",
       "        [ 4,  5],\n",
       "        [ 6,  7],\n",
       "        [ 8,  9],\n",
       "        [10, 11],\n",
       "        [12, 13],\n",
       "        [14, 15]],\n",
       "\n",
       "       [[16, 17],\n",
       "        [18, 19],\n",
       "        [20, 21],\n",
       "        [22, 23],\n",
       "        [24, 25],\n",
       "        [26, 27],\n",
       "        [28, 29],\n",
       "        [30, 31]]])"
      ]
     },
     "execution_count": 91,
     "metadata": {},
     "output_type": "execute_result"
    }
   ],
   "source": [
    "arr"
   ]
  },
  {
   "cell_type": "code",
   "execution_count": 92,
   "metadata": {},
   "outputs": [
    {
     "data": {
      "text/plain": [
       "array([[ 3,  3],\n",
       "       [19, 19]])"
      ]
     },
     "execution_count": 92,
     "metadata": {},
     "output_type": "execute_result"
    }
   ],
   "source": [
    "arr[:,[1],[1,1]]"
   ]
  },
  {
   "cell_type": "code",
   "execution_count": 93,
   "metadata": {},
   "outputs": [
    {
     "data": {
      "text/plain": [
       "array([[ 2,  3,  2,  3],\n",
       "       [18, 19, 18, 19]])"
      ]
     },
     "execution_count": 93,
     "metadata": {},
     "output_type": "execute_result"
    }
   ],
   "source": [
    "arr[:,[1],[0,1,0,1]]"
   ]
  },
  {
   "cell_type": "code",
   "execution_count": 94,
   "metadata": {},
   "outputs": [
    {
     "data": {
      "text/plain": [
       "array([[[ 1,  5,  9, 13],\n",
       "        [ 1,  5,  9, 13]],\n",
       "\n",
       "       [[17, 21, 25, 29],\n",
       "        [17, 21, 25, 29]]])"
      ]
     },
     "execution_count": 94,
     "metadata": {},
     "output_type": "execute_result"
    }
   ],
   "source": [
    "arr[:,[True,False]*4,[[1,1,1,1],[1,1,1,1]]]"
   ]
  },
  {
   "cell_type": "code",
   "execution_count": 95,
   "metadata": {},
   "outputs": [
    {
     "data": {
      "text/plain": [
       "array([[[ 1,  5,  9, 13],\n",
       "        [ 1,  5,  9, 13]],\n",
       "\n",
       "       [[17, 21, 25, 29],\n",
       "        [17, 21, 25, 29]]])"
      ]
     },
     "execution_count": 95,
     "metadata": {},
     "output_type": "execute_result"
    }
   ],
   "source": [
    "#4, <-> 1, -> 4,\n",
    "arr[:,[True,False]*4,[[1],[1]]]"
   ]
  },
  {
   "cell_type": "code",
   "execution_count": 96,
   "metadata": {},
   "outputs": [
    {
     "data": {
      "text/plain": [
       "array([[[ 1,  5,  9, 13],\n",
       "        [ 1,  5,  9, 13],\n",
       "        [ 1,  5,  9, 13]],\n",
       "\n",
       "       [[17, 21, 25, 29],\n",
       "        [17, 21, 25, 29],\n",
       "        [17, 21, 25, 29]]])"
      ]
     },
     "execution_count": 96,
     "metadata": {},
     "output_type": "execute_result"
    }
   ],
   "source": [
    "arr[:,[True,False]*4,[[1],[1],[1]]]"
   ]
  },
  {
   "cell_type": "code",
   "execution_count": 97,
   "metadata": {},
   "outputs": [
    {
     "data": {
      "text/plain": [
       "array([[ 1,  4,  9, 12],\n",
       "       [17, 20, 25, 28]])"
      ]
     },
     "execution_count": 97,
     "metadata": {},
     "output_type": "execute_result"
    }
   ],
   "source": [
    "arr[:,[True,False]*4,[1,0,1,0]]"
   ]
  },
  {
   "cell_type": "code",
   "execution_count": 98,
   "metadata": {},
   "outputs": [
    {
     "ename": "IndexError",
     "evalue": "shape mismatch: indexing arrays could not be broadcast together with shapes (2,) (3,) ",
     "output_type": "error",
     "traceback": [
      "\u001b[0;31m---------------------------------------------------------------------------\u001b[0m",
      "\u001b[0;31mIndexError\u001b[0m                                Traceback (most recent call last)",
      "\u001b[0;32m<ipython-input-98-f652718390ba>\u001b[0m in \u001b[0;36m<module>\u001b[0;34m()\u001b[0m\n\u001b[0;32m----> 1\u001b[0;31m \u001b[0marr2\u001b[0m\u001b[0;34m[\u001b[0m\u001b[0;34m:\u001b[0m\u001b[0;34m,\u001b[0m\u001b[0;34m[\u001b[0m\u001b[0;32mTrue\u001b[0m\u001b[0;34m,\u001b[0m\u001b[0;32mFalse\u001b[0m\u001b[0;34m]\u001b[0m\u001b[0;34m*\u001b[0m\u001b[0;36m2\u001b[0m\u001b[0;34m,\u001b[0m\u001b[0;34m[\u001b[0m\u001b[0;36m1\u001b[0m\u001b[0;34m,\u001b[0m\u001b[0;36m1\u001b[0m\u001b[0;34m,\u001b[0m\u001b[0;36m1\u001b[0m\u001b[0;34m]\u001b[0m\u001b[0;34m]\u001b[0m\u001b[0;34m\u001b[0m\u001b[0m\n\u001b[0m",
      "\u001b[0;31mIndexError\u001b[0m: shape mismatch: indexing arrays could not be broadcast together with shapes (2,) (3,) "
     ]
    }
   ],
   "source": [
    "arr2[:,[True,False]*2,[1,1,1]]"
   ]
  },
  {
   "cell_type": "code",
   "execution_count": 99,
   "metadata": {},
   "outputs": [
    {
     "data": {
      "text/plain": [
       "array([[[ 0,  1],\n",
       "        [ 4,  5],\n",
       "        [ 8,  9],\n",
       "        [12, 13]],\n",
       "\n",
       "       [[16, 17],\n",
       "        [20, 21],\n",
       "        [24, 25],\n",
       "        [28, 29]]])"
      ]
     },
     "execution_count": 99,
     "metadata": {},
     "output_type": "execute_result"
    }
   ],
   "source": [
    "arr[:,[True,False]*4]"
   ]
  },
  {
   "cell_type": "code",
   "execution_count": 100,
   "metadata": {},
   "outputs": [
    {
     "data": {
      "text/plain": [
       "array([[[ 0,  1],\n",
       "        [ 4,  5],\n",
       "        [ 8,  9],\n",
       "        [12, 13]],\n",
       "\n",
       "       [[16, 17],\n",
       "        [20, 21],\n",
       "        [24, 25],\n",
       "        [28, 29]]])"
      ]
     },
     "execution_count": 100,
     "metadata": {},
     "output_type": "execute_result"
    }
   ],
   "source": [
    "arr[:,[True,False]*4]"
   ]
  },
  {
   "cell_type": "code",
   "execution_count": 101,
   "metadata": {},
   "outputs": [
    {
     "data": {
      "text/plain": [
       "array([[[ 1,  5,  9, 13],\n",
       "        [ 0,  4,  8, 12]],\n",
       "\n",
       "       [[17, 21, 25, 29],\n",
       "        [16, 20, 24, 28]]])"
      ]
     },
     "execution_count": 101,
     "metadata": {},
     "output_type": "execute_result"
    }
   ],
   "source": [
    "arr[:,[True,False]*4,[[1],[0]]]"
   ]
  },
  {
   "cell_type": "code",
   "execution_count": 102,
   "metadata": {},
   "outputs": [
    {
     "data": {
      "text/plain": [
       "(2, 2, 4)"
      ]
     },
     "execution_count": 102,
     "metadata": {},
     "output_type": "execute_result"
    }
   ],
   "source": [
    "arr[:,[True,False]*4,[[1],[0]]].shape"
   ]
  },
  {
   "cell_type": "code",
   "execution_count": 103,
   "metadata": {},
   "outputs": [
    {
     "data": {
      "text/plain": [
       "array([[[ 1,  4,  8, 13],\n",
       "        [ 1,  4,  9, 12]],\n",
       "\n",
       "       [[17, 20, 24, 29],\n",
       "        [17, 20, 25, 28]]])"
      ]
     },
     "execution_count": 103,
     "metadata": {},
     "output_type": "execute_result"
    }
   ],
   "source": [
    "arr[:,[True,False]*4,[[1,0,0,1],[1,0,1,0]]]"
   ]
  },
  {
   "cell_type": "code",
   "execution_count": 104,
   "metadata": {},
   "outputs": [
    {
     "data": {
      "text/plain": [
       "array([[[ 1,  4,  8, 13],\n",
       "        [ 1,  4,  9, 12],\n",
       "        [ 1,  4,  9, 12]],\n",
       "\n",
       "       [[17, 20, 24, 29],\n",
       "        [17, 20, 25, 28],\n",
       "        [17, 20, 25, 28]]])"
      ]
     },
     "execution_count": 104,
     "metadata": {},
     "output_type": "execute_result"
    }
   ],
   "source": [
    "arr[:,[True,False]*4,[[1,0,0,1],[1,0,1,0],[1,0,1,0]]]"
   ]
  },
  {
   "cell_type": "code",
   "execution_count": 105,
   "metadata": {},
   "outputs": [
    {
     "data": {
      "text/plain": [
       "array([[17, 21, 25, 29],\n",
       "       [16, 20, 24, 28]])"
      ]
     },
     "execution_count": 105,
     "metadata": {},
     "output_type": "execute_result"
    }
   ],
   "source": [
    "arr[1,[True,False]*4,[[1],[0]]]"
   ]
  },
  {
   "cell_type": "code",
   "execution_count": 106,
   "metadata": {},
   "outputs": [
    {
     "data": {
      "text/plain": [
       "array([[[ 0,  1],\n",
       "        [ 2,  3],\n",
       "        [ 4,  5],\n",
       "        [ 6,  7],\n",
       "        [ 8,  9],\n",
       "        [10, 11],\n",
       "        [12, 13],\n",
       "        [14, 15]],\n",
       "\n",
       "       [[16, 17],\n",
       "        [18, 19],\n",
       "        [20, 21],\n",
       "        [22, 23],\n",
       "        [24, 25],\n",
       "        [26, 27],\n",
       "        [28, 29],\n",
       "        [30, 31]]])"
      ]
     },
     "execution_count": 106,
     "metadata": {},
     "output_type": "execute_result"
    }
   ],
   "source": [
    "arr"
   ]
  },
  {
   "cell_type": "code",
   "execution_count": 107,
   "metadata": {},
   "outputs": [
    {
     "data": {
      "text/plain": [
       "array([[ 0,  1,  2,  3,  4,  5,  6,  7],\n",
       "       [ 1,  2,  3,  4,  5,  6,  7,  8],\n",
       "       [ 2,  3,  4,  5,  6,  7,  8,  9],\n",
       "       [ 3,  4,  5,  6,  7,  8,  9, 10],\n",
       "       [ 4,  5,  6,  7,  8,  9, 10, 11],\n",
       "       [ 5,  6,  7,  8,  9, 10, 11, 12],\n",
       "       [ 6,  7,  8,  9, 10, 11, 12, 13],\n",
       "       [ 7,  8,  9, 10, 11, 12, 13, 14]])"
      ]
     },
     "execution_count": 107,
     "metadata": {},
     "output_type": "execute_result"
    }
   ],
   "source": [
    "np.arange(8).reshape(8,1)+np.arange(8).reshape(1,8)"
   ]
  },
  {
   "cell_type": "code",
   "execution_count": 108,
   "metadata": {},
   "outputs": [
    {
     "name": "stdout",
     "output_type": "stream",
     "text": [
      "[[[[ 0  1]\n",
      "   [ 2  3]]\n",
      "\n",
      "  [[ 4  5]\n",
      "   [ 6  7]]]\n",
      "\n",
      "\n",
      " [[[ 8  9]\n",
      "   [10 11]]\n",
      "\n",
      "  [[12 13]\n",
      "   [14 15]]]\n",
      "\n",
      "\n",
      " [[[16 17]\n",
      "   [18 19]]\n",
      "\n",
      "  [[20 21]\n",
      "   [22 23]]]\n",
      "\n",
      "\n",
      " [[[24 25]\n",
      "   [26 27]]\n",
      "\n",
      "  [[28 29]\n",
      "   [30 31]]]]\n"
     ]
    }
   ],
   "source": [
    "arr3 = np.arange(32).reshape((4,2,2,2)); print(arr3)"
   ]
  },
  {
   "cell_type": "code",
   "execution_count": 109,
   "metadata": {},
   "outputs": [
    {
     "data": {
      "text/plain": [
       "array([[[ 6,  7]],\n",
       "\n",
       "       [[14, 15]],\n",
       "\n",
       "       [[22, 23]],\n",
       "\n",
       "       [[30, 31]]])"
      ]
     },
     "execution_count": 109,
     "metadata": {},
     "output_type": "execute_result"
    }
   ],
   "source": [
    "arr3[:,[1],[1]]"
   ]
  },
  {
   "cell_type": "code",
   "execution_count": 110,
   "metadata": {},
   "outputs": [
    {
     "data": {
      "text/plain": [
       "array([[[[ 4,  5],\n",
       "         [ 6,  7]],\n",
       "\n",
       "        [[ 4,  5],\n",
       "         [ 6,  7]]],\n",
       "\n",
       "\n",
       "       [[[12, 13],\n",
       "         [14, 15]],\n",
       "\n",
       "        [[12, 13],\n",
       "         [14, 15]]],\n",
       "\n",
       "\n",
       "       [[[20, 21],\n",
       "         [22, 23]],\n",
       "\n",
       "        [[20, 21],\n",
       "         [22, 23]]],\n",
       "\n",
       "\n",
       "       [[[28, 29],\n",
       "         [30, 31]],\n",
       "\n",
       "        [[28, 29],\n",
       "         [30, 31]]]])"
      ]
     },
     "execution_count": 110,
     "metadata": {},
     "output_type": "execute_result"
    }
   ],
   "source": [
    "arr3[:,[1,1]]"
   ]
  },
  {
   "cell_type": "code",
   "execution_count": 111,
   "metadata": {},
   "outputs": [
    {
     "data": {
      "text/plain": [
       "array([[[ 6,  7],\n",
       "        [ 6,  7]],\n",
       "\n",
       "       [[14, 15],\n",
       "        [14, 15]],\n",
       "\n",
       "       [[22, 23],\n",
       "        [22, 23]],\n",
       "\n",
       "       [[30, 31],\n",
       "        [30, 31]]])"
      ]
     },
     "execution_count": 111,
     "metadata": {},
     "output_type": "execute_result"
    }
   ],
   "source": [
    "arr3[:,[1,1],[1]]"
   ]
  },
  {
   "cell_type": "code",
   "execution_count": 112,
   "metadata": {},
   "outputs": [
    {
     "data": {
      "text/plain": [
       "(4, 2, 2)"
      ]
     },
     "execution_count": 112,
     "metadata": {},
     "output_type": "execute_result"
    }
   ],
   "source": [
    "arr3[:,[1,1],[1]].shape"
   ]
  },
  {
   "cell_type": "code",
   "execution_count": 113,
   "metadata": {},
   "outputs": [
    {
     "data": {
      "text/plain": [
       "array([[ 7,  7],\n",
       "       [15, 15],\n",
       "       [23, 23],\n",
       "       [31, 31]])"
      ]
     },
     "execution_count": 113,
     "metadata": {},
     "output_type": "execute_result"
    }
   ],
   "source": [
    "arr3[:,[1,1],[1],[1,1]]"
   ]
  },
  {
   "cell_type": "code",
   "execution_count": 114,
   "metadata": {},
   "outputs": [
    {
     "data": {
      "text/plain": [
       "(2, 4, 2)"
      ]
     },
     "execution_count": 114,
     "metadata": {},
     "output_type": "execute_result"
    }
   ],
   "source": [
    "arr2.shape"
   ]
  },
  {
   "cell_type": "code",
   "execution_count": 115,
   "metadata": {},
   "outputs": [
    {
     "ename": "IndexError",
     "evalue": "shape mismatch: indexing arrays could not be broadcast together with shapes (2,) (4,) ",
     "output_type": "error",
     "traceback": [
      "\u001b[0;31m---------------------------------------------------------------------------\u001b[0m",
      "\u001b[0;31mIndexError\u001b[0m                                Traceback (most recent call last)",
      "\u001b[0;32m<ipython-input-115-1f63bbb771a2>\u001b[0m in \u001b[0;36m<module>\u001b[0;34m()\u001b[0m\n\u001b[0;32m----> 1\u001b[0;31m \u001b[0marr\u001b[0m\u001b[0;34m[\u001b[0m\u001b[0;34m[\u001b[0m\u001b[0;36m0\u001b[0m\u001b[0;34m,\u001b[0m\u001b[0;36m1\u001b[0m\u001b[0;34m]\u001b[0m\u001b[0;34m,\u001b[0m\u001b[0;34m[\u001b[0m\u001b[0;36m0\u001b[0m\u001b[0;34m,\u001b[0m\u001b[0;36m2\u001b[0m\u001b[0;34m,\u001b[0m\u001b[0;36m4\u001b[0m\u001b[0;34m,\u001b[0m\u001b[0;36m6\u001b[0m\u001b[0;34m]\u001b[0m\u001b[0;34m]\u001b[0m\u001b[0;34m\u001b[0m\u001b[0m\n\u001b[0m",
      "\u001b[0;31mIndexError\u001b[0m: shape mismatch: indexing arrays could not be broadcast together with shapes (2,) (4,) "
     ]
    }
   ],
   "source": [
    "arr[[0,1],[0,2,4,6]]"
   ]
  },
  {
   "cell_type": "code",
   "execution_count": 116,
   "metadata": {},
   "outputs": [
    {
     "data": {
      "text/plain": [
       "array([[[ 0,  1],\n",
       "        [ 2,  3],\n",
       "        [ 4,  5],\n",
       "        [ 6,  7],\n",
       "        [ 8,  9],\n",
       "        [10, 11],\n",
       "        [12, 13],\n",
       "        [14, 15]],\n",
       "\n",
       "       [[16, 17],\n",
       "        [18, 19],\n",
       "        [20, 21],\n",
       "        [22, 23],\n",
       "        [24, 25],\n",
       "        [26, 27],\n",
       "        [28, 29],\n",
       "        [30, 31]]])"
      ]
     },
     "execution_count": 116,
     "metadata": {},
     "output_type": "execute_result"
    }
   ],
   "source": [
    "arr"
   ]
  },
  {
   "cell_type": "code",
   "execution_count": 117,
   "metadata": {},
   "outputs": [
    {
     "data": {
      "text/plain": [
       "(2, 8, 2)"
      ]
     },
     "execution_count": 117,
     "metadata": {},
     "output_type": "execute_result"
    }
   ],
   "source": [
    "arr.shape"
   ]
  },
  {
   "cell_type": "code",
   "execution_count": 118,
   "metadata": {},
   "outputs": [
    {
     "data": {
      "text/plain": [
       "array([[ 0,  1,  2,  3],\n",
       "       [ 4,  5,  6,  7],\n",
       "       [ 8,  9, 10, 11]])"
      ]
     },
     "execution_count": 118,
     "metadata": {},
     "output_type": "execute_result"
    }
   ],
   "source": [
    "X = np.arange(12).reshape((3, 4)); X"
   ]
  },
  {
   "cell_type": "code",
   "execution_count": 119,
   "metadata": {},
   "outputs": [
    {
     "data": {
      "text/plain": [
       "array([ 2,  5, 11])"
      ]
     },
     "execution_count": 119,
     "metadata": {},
     "output_type": "execute_result"
    }
   ],
   "source": [
    "row = np.array([0, 1, 2]); col = np.array([2, 1, 3])\n",
    "X[row, col]"
   ]
  },
  {
   "cell_type": "code",
   "execution_count": 120,
   "metadata": {},
   "outputs": [
    {
     "data": {
      "text/plain": [
       "(array([[0],\n",
       "        [1],\n",
       "        [2]]), array([2, 1, 3]))"
      ]
     },
     "execution_count": 120,
     "metadata": {},
     "output_type": "execute_result"
    }
   ],
   "source": [
    "row[:, np.newaxis],col"
   ]
  },
  {
   "cell_type": "code",
   "execution_count": 121,
   "metadata": {},
   "outputs": [
    {
     "data": {
      "text/plain": [
       "array([[[ 0,  1],\n",
       "        [ 2,  3],\n",
       "        [ 4,  5],\n",
       "        [ 6,  7],\n",
       "        [ 8,  9],\n",
       "        [10, 11],\n",
       "        [12, 13],\n",
       "        [14, 15]],\n",
       "\n",
       "       [[16, 17],\n",
       "        [18, 19],\n",
       "        [20, 21],\n",
       "        [22, 23],\n",
       "        [24, 25],\n",
       "        [26, 27],\n",
       "        [28, 29],\n",
       "        [30, 31]]])"
      ]
     },
     "execution_count": 121,
     "metadata": {},
     "output_type": "execute_result"
    }
   ],
   "source": [
    "arr"
   ]
  },
  {
   "cell_type": "code",
   "execution_count": 122,
   "metadata": {},
   "outputs": [
    {
     "data": {
      "text/plain": [
       "array([[20, 21],\n",
       "       [24, 25],\n",
       "       [24, 25],\n",
       "       [24, 25],\n",
       "       [28, 29]])"
      ]
     },
     "execution_count": 122,
     "metadata": {},
     "output_type": "execute_result"
    }
   ],
   "source": [
    "arr[[1],[2,4,4,4,6]]"
   ]
  },
  {
   "cell_type": "code",
   "execution_count": 123,
   "metadata": {},
   "outputs": [
    {
     "data": {
      "text/plain": [
       "array([21, 25, 25, 25, 29])"
      ]
     },
     "execution_count": 123,
     "metadata": {},
     "output_type": "execute_result"
    }
   ],
   "source": [
    "arr[[1],[2,4,4,4,6],[1]]"
   ]
  },
  {
   "cell_type": "code",
   "execution_count": 124,
   "metadata": {},
   "outputs": [
    {
     "data": {
      "text/plain": [
       "array([[20, 21],\n",
       "       [24, 25],\n",
       "       [24, 25],\n",
       "       [24, 25],\n",
       "       [28, 29]])"
      ]
     },
     "execution_count": 124,
     "metadata": {},
     "output_type": "execute_result"
    }
   ],
   "source": [
    "arr[[1],[2,4,4,4,6]]"
   ]
  },
  {
   "cell_type": "code",
   "execution_count": 125,
   "metadata": {},
   "outputs": [
    {
     "ename": "IndexError",
     "evalue": "shape mismatch: indexing arrays could not be broadcast together with shapes (2,) (3,) ",
     "output_type": "error",
     "traceback": [
      "\u001b[0;31m---------------------------------------------------------------------------\u001b[0m",
      "\u001b[0;31mIndexError\u001b[0m                                Traceback (most recent call last)",
      "\u001b[0;32m<ipython-input-125-7f412cf422ac>\u001b[0m in \u001b[0;36m<module>\u001b[0;34m()\u001b[0m\n\u001b[0;32m----> 1\u001b[0;31m \u001b[0marr\u001b[0m\u001b[0;34m[\u001b[0m\u001b[0;34m[\u001b[0m\u001b[0;36m0\u001b[0m\u001b[0;34m,\u001b[0m\u001b[0;36m1\u001b[0m\u001b[0;34m]\u001b[0m\u001b[0;34m,\u001b[0m\u001b[0;34m[\u001b[0m\u001b[0;36m1\u001b[0m\u001b[0;34m,\u001b[0m\u001b[0;36m1\u001b[0m\u001b[0;34m,\u001b[0m\u001b[0;36m1\u001b[0m\u001b[0;34m]\u001b[0m\u001b[0;34m]\u001b[0m\u001b[0;34m\u001b[0m\u001b[0m\n\u001b[0m",
      "\u001b[0;31mIndexError\u001b[0m: shape mismatch: indexing arrays could not be broadcast together with shapes (2,) (3,) "
     ]
    }
   ],
   "source": [
    "arr[[0,1],[1,1,1]]"
   ]
  },
  {
   "cell_type": "code",
   "execution_count": 126,
   "metadata": {},
   "outputs": [
    {
     "name": "stdout",
     "output_type": "stream",
     "text": [
      "[[1 1]\n",
      " [1 1]\n",
      " [1 1]]\n",
      "(3, 2)\n"
     ]
    }
   ],
   "source": [
    "x=np.array([1,1])\n",
    "y=np.array([1,1])\n",
    "z=np.array([1,1])\n",
    "arr_ind = np.array([x,y,z]); print(arr_ind); print(arr_ind.shape)"
   ]
  },
  {
   "cell_type": "code",
   "execution_count": 127,
   "metadata": {},
   "outputs": [
    {
     "name": "stdout",
     "output_type": "stream",
     "text": [
      "(3, 2, 8, 2)\n"
     ]
    }
   ],
   "source": [
    "#print(arr[arr_ind]); \n",
    "print(arr[arr_ind].shape)"
   ]
  },
  {
   "cell_type": "code",
   "execution_count": 128,
   "metadata": {},
   "outputs": [
    {
     "name": "stdout",
     "output_type": "stream",
     "text": [
      "[18 19]\n",
      "(2,)\n",
      "1---\n",
      "[[18 19]\n",
      " [18 19]]\n",
      "(2, 2)\n",
      "2---\n",
      "[[18 19]]\n",
      "(1, 2)\n",
      "3---\n",
      "[[18 19]\n",
      " [18 19]]\n",
      "(2, 2)\n",
      "4---\n",
      "[[18 18]\n",
      " [18 18]]\n",
      "(2,)\n"
     ]
    }
   ],
   "source": [
    "print(arr[[1,1],[1,1],[0,1]]); print(arr[[1,1],[1,1],[0,1]].shape); print(\"1---\")\n",
    "print(arr[[1,1],[1,1]]); print(arr[[1,1],[1,1]].shape);print(\"2---\")\n",
    "print(arr[[1,1],[1,1],[[0,1]]]); \n",
    "print(arr[[1,1],[1,1],[[0,1]]].shape);print(\"3---\")\n",
    "print(arr[[1,1],[1,1],:]); print(arr[[1,1],[1,1],:].shape); print(\"4---\")\n",
    "#print(arr[[1,1],[1,1],[0,1,1]]); print(arr[[1,1],[1,1],[0,1,1]].shape)\n",
    "print(arr[[1,1],[1,1],np.array([0,0])[:,np.newaxis]]); print(arr[[1,1],[1,1],np.array([0,0])].shape)"
   ]
  },
  {
   "cell_type": "code",
   "execution_count": 129,
   "metadata": {},
   "outputs": [
    {
     "data": {
      "text/plain": [
       "array([[[ 0,  1],\n",
       "        [ 2,  3],\n",
       "        [ 4,  5],\n",
       "        [ 6,  7],\n",
       "        [ 8,  9],\n",
       "        [10, 11],\n",
       "        [12, 13],\n",
       "        [14, 15]],\n",
       "\n",
       "       [[16, 17],\n",
       "        [18, 19],\n",
       "        [20, 21],\n",
       "        [22, 23],\n",
       "        [24, 25],\n",
       "        [26, 27],\n",
       "        [28, 29],\n",
       "        [30, 31]]])"
      ]
     },
     "execution_count": 129,
     "metadata": {},
     "output_type": "execute_result"
    }
   ],
   "source": [
    "arr"
   ]
  },
  {
   "cell_type": "code",
   "execution_count": 130,
   "metadata": {},
   "outputs": [
    {
     "data": {
      "text/plain": [
       "array([ 1,  5,  9, 13])"
      ]
     },
     "execution_count": 130,
     "metadata": {},
     "output_type": "execute_result"
    }
   ],
   "source": [
    "arr[[0],[True,False]*4,[1]]"
   ]
  },
  {
   "cell_type": "code",
   "execution_count": 131,
   "metadata": {},
   "outputs": [
    {
     "data": {
      "text/plain": [
       "array([ 1,  5,  9, 13])"
      ]
     },
     "execution_count": 131,
     "metadata": {},
     "output_type": "execute_result"
    }
   ],
   "source": [
    "arr[[0],[True,False]*4,[False,True]]"
   ]
  },
  {
   "cell_type": "code",
   "execution_count": 132,
   "metadata": {},
   "outputs": [
    {
     "data": {
      "text/plain": [
       "array([ 1,  5,  9, 13])"
      ]
     },
     "execution_count": 132,
     "metadata": {},
     "output_type": "execute_result"
    }
   ],
   "source": [
    "arr[[True,False],[0,2,4,6],[False,True]]"
   ]
  },
  {
   "cell_type": "code",
   "execution_count": 133,
   "metadata": {},
   "outputs": [
    {
     "data": {
      "text/plain": [
       "array([[4, 5],\n",
       "       [4, 5]])"
      ]
     },
     "execution_count": 133,
     "metadata": {},
     "output_type": "execute_result"
    }
   ],
   "source": [
    "arr[[True,False],[2,2]]"
   ]
  },
  {
   "cell_type": "code",
   "execution_count": 134,
   "metadata": {},
   "outputs": [
    {
     "data": {
      "text/plain": [
       "array([5, 5])"
      ]
     },
     "execution_count": 134,
     "metadata": {},
     "output_type": "execute_result"
    }
   ],
   "source": [
    "arr[[True,False],[2,2],[False,True]]"
   ]
  },
  {
   "cell_type": "code",
   "execution_count": 135,
   "metadata": {},
   "outputs": [
    {
     "data": {
      "text/plain": [
       "array([[4, 5],\n",
       "       [4, 5],\n",
       "       [8, 9],\n",
       "       [8, 9]])"
      ]
     },
     "execution_count": 135,
     "metadata": {},
     "output_type": "execute_result"
    }
   ],
   "source": [
    "arr[[True,False],[2,2,4,4]]"
   ]
  },
  {
   "cell_type": "code",
   "execution_count": 136,
   "metadata": {},
   "outputs": [
    {
     "ename": "IndexError",
     "evalue": "shape mismatch: indexing arrays could not be broadcast together with shapes (1,) (4,) (2,) ",
     "output_type": "error",
     "traceback": [
      "\u001b[0;31m---------------------------------------------------------------------------\u001b[0m",
      "\u001b[0;31mIndexError\u001b[0m                                Traceback (most recent call last)",
      "\u001b[0;32m<ipython-input-136-d081a138a6ad>\u001b[0m in \u001b[0;36m<module>\u001b[0;34m()\u001b[0m\n\u001b[0;32m----> 1\u001b[0;31m \u001b[0marr\u001b[0m\u001b[0;34m[\u001b[0m\u001b[0;34m[\u001b[0m\u001b[0;32mTrue\u001b[0m\u001b[0;34m,\u001b[0m\u001b[0;32mFalse\u001b[0m\u001b[0;34m]\u001b[0m\u001b[0;34m,\u001b[0m\u001b[0;34m[\u001b[0m\u001b[0;36m2\u001b[0m\u001b[0;34m,\u001b[0m\u001b[0;36m2\u001b[0m\u001b[0;34m,\u001b[0m\u001b[0;36m4\u001b[0m\u001b[0;34m,\u001b[0m\u001b[0;36m4\u001b[0m\u001b[0;34m]\u001b[0m\u001b[0;34m,\u001b[0m\u001b[0;34m[\u001b[0m\u001b[0;36m0\u001b[0m\u001b[0;34m,\u001b[0m\u001b[0;36m1\u001b[0m\u001b[0;34m]\u001b[0m\u001b[0;34m]\u001b[0m\u001b[0;34m\u001b[0m\u001b[0m\n\u001b[0m",
      "\u001b[0;31mIndexError\u001b[0m: shape mismatch: indexing arrays could not be broadcast together with shapes (1,) (4,) (2,) "
     ]
    }
   ],
   "source": [
    "arr[[True,False],[2,2,4,4],[0,1]]"
   ]
  },
  {
   "cell_type": "code",
   "execution_count": 137,
   "metadata": {},
   "outputs": [
    {
     "data": {
      "text/plain": [
       "array([4, 5, 8, 9])"
      ]
     },
     "execution_count": 137,
     "metadata": {},
     "output_type": "execute_result"
    }
   ],
   "source": [
    "#the previous one gave error but this one gave no error as the third dimension integer list must match the \n",
    "#number of sub-arrays selected by the third dimension list\n",
    "#again demonstrated in the next example with 5 integer list\n",
    "arr[[True,False],[2,2,4,4],[0,1,0,1]]"
   ]
  },
  {
   "cell_type": "code",
   "execution_count": 138,
   "metadata": {},
   "outputs": [
    {
     "data": {
      "text/plain": [
       "array([ 4,  5,  8,  9, 11])"
      ]
     },
     "execution_count": 138,
     "metadata": {},
     "output_type": "execute_result"
    }
   ],
   "source": [
    "arr[[True,False],[2,2,4,4,5],[0,1,0,1,1]]"
   ]
  },
  {
   "cell_type": "code",
   "execution_count": 139,
   "metadata": {},
   "outputs": [
    {
     "data": {
      "text/plain": [
       "array([[[[6, 8, 7, 6],\n",
       "         [1, 1, 9, 1],\n",
       "         [4, 9, 7, 4]],\n",
       "\n",
       "        [[8, 7, 2, 9],\n",
       "         [2, 2, 4, 5],\n",
       "         [2, 9, 1, 4]],\n",
       "\n",
       "        [[8, 9, 1, 5],\n",
       "         [3, 2, 3, 2],\n",
       "         [4, 5, 7, 6]],\n",
       "\n",
       "        [[9, 8, 7, 4],\n",
       "         [4, 1, 2, 6],\n",
       "         [1, 6, 4, 9]]],\n",
       "\n",
       "\n",
       "       [[[5, 5, 7, 6],\n",
       "         [8, 3, 6, 1],\n",
       "         [8, 9, 3, 5]],\n",
       "\n",
       "        [[7, 9, 2, 6],\n",
       "         [6, 2, 4, 2],\n",
       "         [2, 5, 4, 9]],\n",
       "\n",
       "        [[6, 3, 5, 6],\n",
       "         [1, 3, 6, 2],\n",
       "         [3, 7, 7, 2]],\n",
       "\n",
       "        [[8, 3, 9, 3],\n",
       "         [3, 3, 8, 6],\n",
       "         [6, 4, 7, 9]]],\n",
       "\n",
       "\n",
       "       [[[1, 7, 6, 7],\n",
       "         [5, 1, 8, 9],\n",
       "         [1, 2, 5, 1]],\n",
       "\n",
       "        [[2, 8, 8, 7],\n",
       "         [8, 4, 8, 5],\n",
       "         [6, 2, 2, 3]],\n",
       "\n",
       "        [[3, 2, 5, 7],\n",
       "         [5, 8, 3, 4],\n",
       "         [9, 1, 6, 2]],\n",
       "\n",
       "        [[5, 1, 7, 6],\n",
       "         [6, 9, 9, 8],\n",
       "         [5, 4, 7, 9]]],\n",
       "\n",
       "\n",
       "       [[[6, 6, 3, 9],\n",
       "         [3, 3, 7, 6],\n",
       "         [7, 3, 7, 3]],\n",
       "\n",
       "        [[4, 5, 3, 8],\n",
       "         [9, 8, 4, 6],\n",
       "         [9, 1, 7, 2]],\n",
       "\n",
       "        [[6, 3, 3, 5],\n",
       "         [8, 7, 6, 7],\n",
       "         [6, 9, 7, 1]],\n",
       "\n",
       "        [[1, 6, 3, 6],\n",
       "         [5, 4, 5, 2],\n",
       "         [7, 6, 2, 3]]]])"
      ]
     },
     "execution_count": 139,
     "metadata": {},
     "output_type": "execute_result"
    }
   ],
   "source": [
    "arr30 = np.random.randint(1,10,4*4*3*4).reshape(4,4,3,4); arr30"
   ]
  },
  {
   "cell_type": "code",
   "execution_count": 140,
   "metadata": {},
   "outputs": [
    {
     "data": {
      "text/plain": [
       "array([[8, 9, 9, 4],\n",
       "       [4, 6, 2, 5],\n",
       "       [8, 6, 4, 2]])"
      ]
     },
     "execution_count": 140,
     "metadata": {},
     "output_type": "execute_result"
    }
   ],
   "source": [
    "arr31 = np.random.randint(1,10,3*4).reshape(3,4); arr31"
   ]
  },
  {
   "cell_type": "code",
   "execution_count": 141,
   "metadata": {},
   "outputs": [
    {
     "name": "stdout",
     "output_type": "stream",
     "text": [
      "(4, 4, 3, 4)\n",
      "(3, 4)\n"
     ]
    }
   ],
   "source": [
    "print(arr30.shape); print(arr31.shape)"
   ]
  },
  {
   "cell_type": "code",
   "execution_count": 142,
   "metadata": {},
   "outputs": [
    {
     "data": {
      "text/plain": [
       "array([[[[14, 17, 16, 10],\n",
       "         [ 5,  7, 11,  6],\n",
       "         [12, 15, 11,  6]],\n",
       "\n",
       "        [[16, 16, 11, 13],\n",
       "         [ 6,  8,  6, 10],\n",
       "         [10, 15,  5,  6]],\n",
       "\n",
       "        [[16, 18, 10,  9],\n",
       "         [ 7,  8,  5,  7],\n",
       "         [12, 11, 11,  8]],\n",
       "\n",
       "        [[17, 17, 16,  8],\n",
       "         [ 8,  7,  4, 11],\n",
       "         [ 9, 12,  8, 11]]],\n",
       "\n",
       "\n",
       "       [[[13, 14, 16, 10],\n",
       "         [12,  9,  8,  6],\n",
       "         [16, 15,  7,  7]],\n",
       "\n",
       "        [[15, 18, 11, 10],\n",
       "         [10,  8,  6,  7],\n",
       "         [10, 11,  8, 11]],\n",
       "\n",
       "        [[14, 12, 14, 10],\n",
       "         [ 5,  9,  8,  7],\n",
       "         [11, 13, 11,  4]],\n",
       "\n",
       "        [[16, 12, 18,  7],\n",
       "         [ 7,  9, 10, 11],\n",
       "         [14, 10, 11, 11]]],\n",
       "\n",
       "\n",
       "       [[[ 9, 16, 15, 11],\n",
       "         [ 9,  7, 10, 14],\n",
       "         [ 9,  8,  9,  3]],\n",
       "\n",
       "        [[10, 17, 17, 11],\n",
       "         [12, 10, 10, 10],\n",
       "         [14,  8,  6,  5]],\n",
       "\n",
       "        [[11, 11, 14, 11],\n",
       "         [ 9, 14,  5,  9],\n",
       "         [17,  7, 10,  4]],\n",
       "\n",
       "        [[13, 10, 16, 10],\n",
       "         [10, 15, 11, 13],\n",
       "         [13, 10, 11, 11]]],\n",
       "\n",
       "\n",
       "       [[[14, 15, 12, 13],\n",
       "         [ 7,  9,  9, 11],\n",
       "         [15,  9, 11,  5]],\n",
       "\n",
       "        [[12, 14, 12, 12],\n",
       "         [13, 14,  6, 11],\n",
       "         [17,  7, 11,  4]],\n",
       "\n",
       "        [[14, 12, 12,  9],\n",
       "         [12, 13,  8, 12],\n",
       "         [14, 15, 11,  3]],\n",
       "\n",
       "        [[ 9, 15, 12, 10],\n",
       "         [ 9, 10,  7,  7],\n",
       "         [15, 12,  6,  5]]]])"
      ]
     },
     "execution_count": 142,
     "metadata": {},
     "output_type": "execute_result"
    }
   ],
   "source": [
    "arr30+arr31"
   ]
  },
  {
   "cell_type": "code",
   "execution_count": 143,
   "metadata": {},
   "outputs": [
    {
     "data": {
      "text/plain": [
       "(1, 3, 4)"
      ]
     },
     "execution_count": 143,
     "metadata": {},
     "output_type": "execute_result"
    }
   ],
   "source": [
    "temp1 = arr31[np.newaxis,:,:]; temp1.shape"
   ]
  },
  {
   "cell_type": "code",
   "execution_count": 144,
   "metadata": {},
   "outputs": [
    {
     "data": {
      "text/plain": [
       "array([[[8, 9, 9, 4],\n",
       "        [4, 6, 2, 5],\n",
       "        [8, 6, 4, 2]]])"
      ]
     },
     "execution_count": 144,
     "metadata": {},
     "output_type": "execute_result"
    }
   ],
   "source": [
    "temp1"
   ]
  },
  {
   "cell_type": "code",
   "execution_count": 145,
   "metadata": {},
   "outputs": [
    {
     "data": {
      "text/plain": [
       "(4, 3, 4)"
      ]
     },
     "execution_count": 145,
     "metadata": {},
     "output_type": "execute_result"
    }
   ],
   "source": [
    "temp2 = np.vstack([temp1]*4); temp2.shape"
   ]
  },
  {
   "cell_type": "code",
   "execution_count": 146,
   "metadata": {},
   "outputs": [
    {
     "data": {
      "text/plain": [
       "array([[[8, 9, 9, 4],\n",
       "        [4, 6, 2, 5],\n",
       "        [8, 6, 4, 2]],\n",
       "\n",
       "       [[8, 9, 9, 4],\n",
       "        [4, 6, 2, 5],\n",
       "        [8, 6, 4, 2]],\n",
       "\n",
       "       [[8, 9, 9, 4],\n",
       "        [4, 6, 2, 5],\n",
       "        [8, 6, 4, 2]],\n",
       "\n",
       "       [[8, 9, 9, 4],\n",
       "        [4, 6, 2, 5],\n",
       "        [8, 6, 4, 2]]])"
      ]
     },
     "execution_count": 146,
     "metadata": {},
     "output_type": "execute_result"
    }
   ],
   "source": [
    "temp2"
   ]
  },
  {
   "cell_type": "code",
   "execution_count": 147,
   "metadata": {},
   "outputs": [
    {
     "data": {
      "text/plain": [
       "(1, 4, 3, 4)"
      ]
     },
     "execution_count": 147,
     "metadata": {},
     "output_type": "execute_result"
    }
   ],
   "source": [
    "temp3 = temp2[np.newaxis,:,:,:]; temp3.shape"
   ]
  },
  {
   "cell_type": "code",
   "execution_count": 148,
   "metadata": {},
   "outputs": [
    {
     "data": {
      "text/plain": [
       "(4, 4, 3, 4)"
      ]
     },
     "execution_count": 148,
     "metadata": {},
     "output_type": "execute_result"
    }
   ],
   "source": [
    "temp4 = np.vstack([temp3]*4); temp4.shape"
   ]
  },
  {
   "cell_type": "code",
   "execution_count": 149,
   "metadata": {},
   "outputs": [
    {
     "data": {
      "text/plain": [
       "(4, 4, 3, 4)"
      ]
     },
     "execution_count": 149,
     "metadata": {},
     "output_type": "execute_result"
    }
   ],
   "source": [
    "arr30.shape"
   ]
  },
  {
   "cell_type": "code",
   "execution_count": 150,
   "metadata": {},
   "outputs": [
    {
     "data": {
      "text/plain": [
       "0"
      ]
     },
     "execution_count": 150,
     "metadata": {},
     "output_type": "execute_result"
    }
   ],
   "source": [
    "# verify\n",
    "np.sum((arr30+temp4 != arr30+arr31).reshape(4*4*3*4))"
   ]
  },
  {
   "cell_type": "code",
   "execution_count": 151,
   "metadata": {
    "collapsed": true
   },
   "outputs": [],
   "source": [
    "import numpy as np"
   ]
  },
  {
   "cell_type": "code",
   "execution_count": 152,
   "metadata": {},
   "outputs": [
    {
     "name": "stdout",
     "output_type": "stream",
     "text": [
      "1234678901234567890\n",
      "int64\n",
      "1234678901234567890\n",
      "int64\n",
      "-46\n",
      "int8\n",
      "-29998\n",
      "int16\n",
      "1203866322\n",
      "int32\n",
      "1234678901234567890\n",
      "int64\n"
     ]
    }
   ],
   "source": [
    "x = np.array(1234678901234567890); print(x)\n",
    "print(x.dtype)\n",
    "x = np.array(1234678901234567890,dtype=np.int0); print(x)\n",
    "print(x.dtype)\n",
    "x = np.array(1234678901234567890,dtype=np.int8); print(x)\n",
    "print(x.dtype)\n",
    "x = np.array(1234678901234567890,dtype=np.int16); print(x)\n",
    "print(x.dtype)\n",
    "x = np.array(1234678901234567890,dtype=np.int32); print(x)\n",
    "print(x.dtype)\n",
    "x = np.array(1234678901234567890,dtype=np.int64); print(x)\n",
    "print(x.dtype)"
   ]
  },
  {
   "cell_type": "code",
   "execution_count": 153,
   "metadata": {},
   "outputs": [
    {
     "name": "stdout",
     "output_type": "stream",
     "text": [
      "[126]\n",
      "[127]\n",
      "[-128]\n",
      "[-127]\n",
      "[-126]\n",
      "--------------------\n",
      "[-126]\n",
      "[-127]\n",
      "[-128]\n",
      "[127]\n",
      "[126]\n"
     ]
    }
   ],
   "source": [
    "x = np.array([-130],dtype=np.int8); print(x)\n",
    "x = np.array([-129],dtype=np.int8); print(x)\n",
    "x = np.array([-128],dtype=np.int8); print(x) # correct\n",
    "x = np.array([-127],dtype=np.int8); print(x) # correct\n",
    "x = np.array([-126],dtype=np.int8); print(x) # correct\n",
    "print('--------------------')\n",
    "x = np.array([130],dtype=np.int8); print(x)\n",
    "x = np.array([129],dtype=np.int8); print(x)\n",
    "x = np.array([128],dtype=np.int8); print(x)\n",
    "x = np.array([127],dtype=np.int8); print(x) # correct\n",
    "x = np.array([126],dtype=np.int8); print(x) # correct"
   ]
  },
  {
   "cell_type": "code",
   "execution_count": 154,
   "metadata": {},
   "outputs": [
    {
     "data": {
      "text/plain": [
       "array([-128], dtype=int8)"
      ]
     },
     "execution_count": 154,
     "metadata": {},
     "output_type": "execute_result"
    }
   ],
   "source": [
    "x = np.array([128],dtype=np.int8); x"
   ]
  },
  {
   "cell_type": "code",
   "execution_count": 155,
   "metadata": {},
   "outputs": [
    {
     "name": "stdout",
     "output_type": "stream",
     "text": [
      "10000000\n",
      "10000000\n",
      "-10000000\n"
     ]
    }
   ],
   "source": [
    "print(np.binary_repr(128,width=8))  # this is same as -128 representation w/o the minus symbol\n",
    "print(np.binary_repr(-128,width=8))\n",
    "print(np.binary_repr(-128))\n",
    "# 2's complement of 128: invert the digits and add 1\n",
    "# 01111111 + 1 = 10000000 = +128 covering all 8 digits but since MSB is sign so it represents -128"
   ]
  },
  {
   "cell_type": "code",
   "execution_count": 156,
   "metadata": {},
   "outputs": [
    {
     "name": "stdout",
     "output_type": "stream",
     "text": [
      "-127\n",
      "10000001\n",
      "01111111\n"
     ]
    }
   ],
   "source": [
    "# similarly for -127\n",
    "print(np.array(-127,dtype=np.int8))\n",
    "print(np.binary_repr(-127,width=8))  # take bin repr of +127 as in next line, then invert the digits and add 1\n",
    "print(np.binary_repr(127,width=8))  # bin repr of +127"
   ]
  },
  {
   "cell_type": "code",
   "execution_count": 157,
   "metadata": {},
   "outputs": [
    {
     "name": "stdout",
     "output_type": "stream",
     "text": [
      "-126\n",
      "10000010\n",
      "01111110\n"
     ]
    }
   ],
   "source": [
    "# similarly for -126\n",
    "print(np.array(-126,dtype=np.int8))\n",
    "print(np.binary_repr(-126,width=8))  # take bin repr of +126 as in next line, then invert the digits and add 1\n",
    "print(np.binary_repr(126,width=8))  # bin repr of +126"
   ]
  },
  {
   "cell_type": "code",
   "execution_count": 158,
   "metadata": {},
   "outputs": [
    {
     "name": "stdout",
     "output_type": "stream",
     "text": [
      "127\n",
      "101111111\n",
      "010000001\n",
      "001111111\n"
     ]
    }
   ],
   "source": [
    "# similarly for -129\n",
    "print(np.array(-129,dtype=np.int8))\n",
    "print(np.binary_repr(-129,width=9))  # take bin repr of +129 as in next line, then invert the digits and add 1\n",
    "print(np.binary_repr(129,width=9))   # bin repr of +129 requires 9 digits if we need an extra bit for sign\n",
    "print(np.binary_repr(127,width=9))   # this is what 2nd print statement gives w/o the 9th left most bit (MSB) so overflow "
   ]
  },
  {
   "cell_type": "code",
   "execution_count": 159,
   "metadata": {},
   "outputs": [
    {
     "name": "stdout",
     "output_type": "stream",
     "text": [
      "126\n",
      "101111110\n",
      "010000010\n",
      "001111110\n"
     ]
    }
   ],
   "source": [
    "# similarly for -130\n",
    "print(np.array(-130,dtype=np.int8))\n",
    "print(np.binary_repr(-130,width=9))  # take bin repr of +130 as in next line, then invert the digits and add 1\n",
    "print(np.binary_repr(130,width=9))   # bin repr of +130 requires 9 digits if we need an extra bit for sign\n",
    "print(np.binary_repr(126,width=9))   # this is what 2nd print statement gives w/o the 9th left most bit (MSB) so overflow "
   ]
  },
  {
   "cell_type": "code",
   "execution_count": 160,
   "metadata": {},
   "outputs": [
    {
     "name": "stdout",
     "output_type": "stream",
     "text": [
      "-126\n",
      "010000010\n",
      "010000010\n",
      "10000010\n"
     ]
    }
   ],
   "source": [
    "# similarly for 130\n",
    "print(np.array(130,dtype=np.int8))\n",
    "print(np.binary_repr(130,width=9))  # take bin repr of +130 as in next line and no further changes for 2's complement\n",
    "print(np.binary_repr(130,width=9))   # bin repr of +130 requires 9 digits if we need an extra bit for sign\n",
    "print(np.binary_repr(-126,width=8))   # this is what 2nd print statement gives w/o the 9th left most bit (MSB) so overflow "
   ]
  },
  {
   "cell_type": "code",
   "execution_count": 161,
   "metadata": {},
   "outputs": [
    {
     "name": "stdout",
     "output_type": "stream",
     "text": [
      "-127\n",
      "010000001\n",
      "010000001\n",
      "10000001\n"
     ]
    }
   ],
   "source": [
    "# similarly for 129\n",
    "print(np.array(129,dtype=np.int8))\n",
    "print(np.binary_repr(129,width=9))  # take bin repr of +129 as in next line and no further changes for 2's complement\n",
    "print(np.binary_repr(129,width=9))   # bin repr of +129 requires 9 digits if we need an extra bit for sign\n",
    "print(np.binary_repr(-127,width=8))   # this is what 2nd print statement gives w/o the 9th left most bit (MSB) so overflow "
   ]
  },
  {
   "cell_type": "code",
   "execution_count": 162,
   "metadata": {},
   "outputs": [
    {
     "name": "stdout",
     "output_type": "stream",
     "text": [
      "-128\n",
      "010000000\n",
      "010000000\n",
      "10000000\n"
     ]
    }
   ],
   "source": [
    "# similarly for 128\n",
    "print(np.array(128,dtype=np.int8))\n",
    "print(np.binary_repr(128,width=9))  # take bin repr of +128 as in next line and no further changes for 2's complement\n",
    "print(np.binary_repr(128,width=9))   # bin repr of +128 requires 9 digits if we need an extra bit for sign\n",
    "print(np.binary_repr(-128,width=8))   # this is what 2nd print statement gives w/o the 9th left most bit (MSB) so overflow "
   ]
  },
  {
   "cell_type": "code",
   "execution_count": 163,
   "metadata": {},
   "outputs": [
    {
     "name": "stdout",
     "output_type": "stream",
     "text": [
      "Machine parameters for int64\n",
      "---------------------------------------------------------------\n",
      "min = -9223372036854775808\n",
      "max = 9223372036854775807\n",
      "---------------------------------------------------------------\n",
      "\n",
      "Machine parameters for int8\n",
      "---------------------------------------------------------------\n",
      "min = -128\n",
      "max = 127\n",
      "---------------------------------------------------------------\n",
      "\n",
      "Machine parameters for int16\n",
      "---------------------------------------------------------------\n",
      "min = -32768\n",
      "max = 32767\n",
      "---------------------------------------------------------------\n",
      "\n",
      "Machine parameters for int32\n",
      "---------------------------------------------------------------\n",
      "min = -2147483648\n",
      "max = 2147483647\n",
      "---------------------------------------------------------------\n",
      "\n",
      "Machine parameters for int64\n",
      "---------------------------------------------------------------\n",
      "min = -9223372036854775808\n",
      "max = 9223372036854775807\n",
      "---------------------------------------------------------------\n",
      "\n"
     ]
    }
   ],
   "source": [
    "print(np.iinfo(np.int))\n",
    "print(np.iinfo(np.int8))\n",
    "print(np.iinfo(np.int16))\n",
    "print(np.iinfo(np.int32))\n",
    "print(np.iinfo(np.int64))"
   ]
  },
  {
   "cell_type": "code",
   "execution_count": 164,
   "metadata": {},
   "outputs": [
    {
     "name": "stdout",
     "output_type": "stream",
     "text": [
      "Machine parameters for float64\n",
      "---------------------------------------------------------------\n",
      "precision =  15   resolution = 1.0000000000000001e-15\n",
      "machep =    -52   eps =        2.2204460492503131e-16\n",
      "negep =     -53   epsneg =     1.1102230246251565e-16\n",
      "minexp =  -1022   tiny =       2.2250738585072014e-308\n",
      "maxexp =   1024   max =        1.7976931348623157e+308\n",
      "nexp =       11   min =        -max\n",
      "---------------------------------------------------------------\n",
      "\n",
      "Machine parameters for float16\n",
      "---------------------------------------------------------------\n",
      "precision =   3   resolution = 1.00040e-03\n",
      "machep =    -10   eps =        9.76562e-04\n",
      "negep =     -11   epsneg =     4.88281e-04\n",
      "minexp =    -14   tiny =       6.10352e-05\n",
      "maxexp =     16   max =        6.55040e+04\n",
      "nexp =        5   min =        -max\n",
      "---------------------------------------------------------------\n",
      "\n",
      "Machine parameters for float32\n",
      "---------------------------------------------------------------\n",
      "precision =   6   resolution = 1.0000000e-06\n",
      "machep =    -23   eps =        1.1920929e-07\n",
      "negep =     -24   epsneg =     5.9604645e-08\n",
      "minexp =   -126   tiny =       1.1754944e-38\n",
      "maxexp =    128   max =        3.4028235e+38\n",
      "nexp =        8   min =        -max\n",
      "---------------------------------------------------------------\n",
      "\n",
      "Machine parameters for float64\n",
      "---------------------------------------------------------------\n",
      "precision =  15   resolution = 1.0000000000000001e-15\n",
      "machep =    -52   eps =        2.2204460492503131e-16\n",
      "negep =     -53   epsneg =     1.1102230246251565e-16\n",
      "minexp =  -1022   tiny =       2.2250738585072014e-308\n",
      "maxexp =   1024   max =        1.7976931348623157e+308\n",
      "nexp =       11   min =        -max\n",
      "---------------------------------------------------------------\n",
      "\n",
      "Machine parameters for float128\n",
      "---------------------------------------------------------------\n",
      "precision =  18   resolution = 1e-18\n",
      "machep =    -63   eps =        1.08420217249e-19\n",
      "negep =     -64   epsneg =     5.42101086243e-20\n",
      "minexp = -16382   tiny =       3.36210314311e-4932\n",
      "maxexp =  16384   max =        1.18973149536e+4932\n",
      "nexp =       15   min =        -max\n",
      "---------------------------------------------------------------\n",
      "\n"
     ]
    }
   ],
   "source": [
    "print(np.finfo(np.float))\n",
    "print(np.finfo(np.float16))\n",
    "print(np.finfo(np.float32))\n",
    "print(np.finfo(np.float64))\n",
    "print(np.finfo(np.float128))"
   ]
  },
  {
   "cell_type": "code",
   "execution_count": 165,
   "metadata": {},
   "outputs": [
    {
     "name": "stdout",
     "output_type": "stream",
     "text": [
      "Machine parameters for int64\n",
      "---------------------------------------------------------------\n",
      "min = -9223372036854775808\n",
      "max = 9223372036854775807\n",
      "---------------------------------------------------------------\n",
      "\n",
      "Machine parameters for int64\n",
      "---------------------------------------------------------------\n",
      "min = -9223372036854775808\n",
      "max = 9223372036854775807\n",
      "---------------------------------------------------------------\n",
      "\n",
      "Machine parameters for float128\n",
      "---------------------------------------------------------------\n",
      "precision =  18   resolution = 1e-18\n",
      "machep =    -63   eps =        1.08420217249e-19\n",
      "negep =     -64   epsneg =     5.42101086243e-20\n",
      "minexp = -16382   tiny =       3.36210314311e-4932\n",
      "maxexp =  16384   max =        1.18973149536e+4932\n",
      "nexp =       15   min =        -max\n",
      "---------------------------------------------------------------\n",
      "\n",
      "Machine parameters for float128\n",
      "---------------------------------------------------------------\n",
      "precision =  18   resolution = 1e-18\n",
      "machep =    -63   eps =        1.08420217249e-19\n",
      "negep =     -64   epsneg =     5.42101086243e-20\n",
      "minexp = -16382   tiny =       3.36210314311e-4932\n",
      "maxexp =  16384   max =        1.18973149536e+4932\n",
      "nexp =       15   min =        -max\n",
      "---------------------------------------------------------------\n",
      "\n"
     ]
    }
   ],
   "source": [
    "print(np.iinfo(np.long))\n",
    "print(np.iinfo(np.longlong))\n",
    "print(np.finfo(np.longdouble))\n",
    "print(np.finfo(np.longfloat))"
   ]
  },
  {
   "cell_type": "code",
   "execution_count": 166,
   "metadata": {},
   "outputs": [
    {
     "data": {
      "text/plain": [
       "1.0000000000000002"
      ]
     },
     "execution_count": 166,
     "metadata": {},
     "output_type": "execute_result"
    }
   ],
   "source": [
    "# notice the 15 0's in the decimal part - float64 precision = 15\n",
    "1 + np.finfo(np.float64).eps"
   ]
  },
  {
   "cell_type": "code",
   "execution_count": 167,
   "metadata": {},
   "outputs": [
    {
     "name": "stdout",
     "output_type": "stream",
     "text": [
      "True\n",
      "True\n",
      "False\n",
      "False\n"
     ]
    }
   ],
   "source": [
    "# here if we add something less than 0000000000000002 it amounts to actual difference\n",
    "print(1 + np.finfo(np.float64).eps == 1 + np.finfo(np.float64).eps+ .00000000000000001)\n",
    "print(1 + np.finfo(np.float64).eps == 1 + np.finfo(np.float64).eps+ .0000000000000001)\n",
    "print(1 + np.finfo(np.float64).eps == 1 + np.finfo(np.float64).eps+ .0000000000000002)\n",
    "print(1 + np.finfo(np.float64).eps == 1 + np.finfo(np.float64).eps+ .0000000000000003)"
   ]
  },
  {
   "cell_type": "code",
   "execution_count": null,
   "metadata": {
    "collapsed": true
   },
   "outputs": [],
   "source": []
  },
  {
   "cell_type": "code",
   "execution_count": null,
   "metadata": {
    "collapsed": true
   },
   "outputs": [],
   "source": []
  },
  {
   "cell_type": "code",
   "execution_count": null,
   "metadata": {
    "collapsed": true
   },
   "outputs": [],
   "source": []
  },
  {
   "cell_type": "code",
   "execution_count": 168,
   "metadata": {
    "collapsed": true
   },
   "outputs": [],
   "source": [
    "from numpy.linalg import inv\n",
    "def f1(mat):\n",
    "    if mat.ndim != 2:\n",
    "        raise Exception('you need to provide a 2D matrix')\n",
    "    if mat.shape[0]==mat.shape[1]:\n",
    "        if np.sum( (np.absolute(np.round(np.dot(mat,inv(mat)))) != \n",
    "                    np.eye(mat.shape[0])).reshape(mat.shape[0]*mat.shape[1]))==0:\n",
    "            return True\n",
    "    return False                "
   ]
  },
  {
   "cell_type": "code",
   "execution_count": 169,
   "metadata": {
    "collapsed": true
   },
   "outputs": [],
   "source": [
    "from numpy.linalg import inv, LinAlgError\n",
    "def f2(mat):\n",
    "    try:\n",
    "        if np.sum( (np.absolute(np.round(np.dot(mat,inv(mat)))) != \n",
    "                    np.eye(mat.shape[0])).reshape(mat.shape[0]*mat.shape[1]))==0:\n",
    "            return True\n",
    "    except LinAlgError:\n",
    "        print('you need to provide a 2D square matrix')"
   ]
  },
  {
   "cell_type": "code",
   "execution_count": 170,
   "metadata": {},
   "outputs": [
    {
     "data": {
      "text/plain": [
       "array([[5, 1, 8, 1, 3],\n",
       "       [5, 5, 2, 3, 2],\n",
       "       [5, 4, 5, 4, 3],\n",
       "       [8, 2, 3, 1, 6],\n",
       "       [2, 7, 2, 5, 8]])"
      ]
     },
     "execution_count": 170,
     "metadata": {},
     "output_type": "execute_result"
    }
   ],
   "source": [
    "mat1 = np.random.randint(1,10,25).reshape(5,5); mat1"
   ]
  },
  {
   "cell_type": "code",
   "execution_count": 171,
   "metadata": {},
   "outputs": [
    {
     "data": {
      "text/plain": [
       "True"
      ]
     },
     "execution_count": 171,
     "metadata": {},
     "output_type": "execute_result"
    }
   ],
   "source": [
    "f1(mat1)"
   ]
  },
  {
   "cell_type": "code",
   "execution_count": 172,
   "metadata": {},
   "outputs": [
    {
     "ename": "Exception",
     "evalue": "you need to provide a 2D matrix",
     "output_type": "error",
     "traceback": [
      "\u001b[0;31m---------------------------------------------------------------------------\u001b[0m",
      "\u001b[0;31mException\u001b[0m                                 Traceback (most recent call last)",
      "\u001b[0;32m<ipython-input-172-1f1cbf4708db>\u001b[0m in \u001b[0;36m<module>\u001b[0;34m()\u001b[0m\n\u001b[0;32m----> 1\u001b[0;31m \u001b[0mf1\u001b[0m\u001b[0;34m(\u001b[0m\u001b[0mnp\u001b[0m\u001b[0;34m.\u001b[0m\u001b[0mrandom\u001b[0m\u001b[0;34m.\u001b[0m\u001b[0mrandint\u001b[0m\u001b[0;34m(\u001b[0m\u001b[0;36m1\u001b[0m\u001b[0;34m,\u001b[0m\u001b[0;36m10\u001b[0m\u001b[0;34m,\u001b[0m\u001b[0;36m25\u001b[0m\u001b[0;34m)\u001b[0m\u001b[0;34m)\u001b[0m\u001b[0;34m\u001b[0m\u001b[0m\n\u001b[0m",
      "\u001b[0;32m<ipython-input-168-a543bce4b7dc>\u001b[0m in \u001b[0;36mf1\u001b[0;34m(mat)\u001b[0m\n\u001b[1;32m      2\u001b[0m \u001b[0;32mdef\u001b[0m \u001b[0mf1\u001b[0m\u001b[0;34m(\u001b[0m\u001b[0mmat\u001b[0m\u001b[0;34m)\u001b[0m\u001b[0;34m:\u001b[0m\u001b[0;34m\u001b[0m\u001b[0m\n\u001b[1;32m      3\u001b[0m     \u001b[0;32mif\u001b[0m \u001b[0mmat\u001b[0m\u001b[0;34m.\u001b[0m\u001b[0mndim\u001b[0m \u001b[0;34m!=\u001b[0m \u001b[0;36m2\u001b[0m\u001b[0;34m:\u001b[0m\u001b[0;34m\u001b[0m\u001b[0m\n\u001b[0;32m----> 4\u001b[0;31m         \u001b[0;32mraise\u001b[0m \u001b[0mException\u001b[0m\u001b[0;34m(\u001b[0m\u001b[0;34m'you need to provide a 2D matrix'\u001b[0m\u001b[0;34m)\u001b[0m\u001b[0;34m\u001b[0m\u001b[0m\n\u001b[0m\u001b[1;32m      5\u001b[0m     \u001b[0;32mif\u001b[0m \u001b[0mmat\u001b[0m\u001b[0;34m.\u001b[0m\u001b[0mshape\u001b[0m\u001b[0;34m[\u001b[0m\u001b[0;36m0\u001b[0m\u001b[0;34m]\u001b[0m\u001b[0;34m==\u001b[0m\u001b[0mmat\u001b[0m\u001b[0;34m.\u001b[0m\u001b[0mshape\u001b[0m\u001b[0;34m[\u001b[0m\u001b[0;36m1\u001b[0m\u001b[0;34m]\u001b[0m\u001b[0;34m:\u001b[0m\u001b[0;34m\u001b[0m\u001b[0m\n\u001b[1;32m      6\u001b[0m         if np.sum( (np.absolute(np.round(np.dot(mat,inv(mat)))) != \n",
      "\u001b[0;31mException\u001b[0m: you need to provide a 2D matrix"
     ]
    }
   ],
   "source": [
    "f1(np.random.randint(1,10,25))"
   ]
  },
  {
   "cell_type": "code",
   "execution_count": null,
   "metadata": {},
   "outputs": [],
   "source": [
    "f2(np.random.randint(1,10,25))"
   ]
  },
  {
   "cell_type": "code",
   "execution_count": null,
   "metadata": {},
   "outputs": [],
   "source": [
    "f2(np.random.randint(1,10,12).reshape(4,3))"
   ]
  },
  {
   "cell_type": "code",
   "execution_count": null,
   "metadata": {
    "collapsed": true
   },
   "outputs": [],
   "source": []
  }
 ],
 "metadata": {
  "kernelspec": {
   "display_name": "Python 3",
   "language": "python",
   "name": "python3"
  },
  "language_info": {
   "codemirror_mode": {
    "name": "ipython",
    "version": 3
   },
   "file_extension": ".py",
   "mimetype": "text/x-python",
   "name": "python",
   "nbconvert_exporter": "python",
   "pygments_lexer": "ipython3",
   "version": "3.6.3"
  }
 },
 "nbformat": 4,
 "nbformat_minor": 2
}
