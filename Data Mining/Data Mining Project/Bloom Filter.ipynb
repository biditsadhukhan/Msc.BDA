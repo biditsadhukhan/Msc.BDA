{
 "cells": [
  {
   "cell_type": "markdown",
   "metadata": {},
   "source": [
    "# Bloom Filter\n",
    "\n",
    "Please refer to <a href=\"https://drive.google.com/file/d/18uY18kqGPMcW67bAjNiltTk6sSr6Wh2B/view?usp=sharing\">lecture slides</a> for the theoretical details. \n",
    "\n",
    "To implement a Bloom filter, we need a family of hash functions and a bitarray. "
   ]
  },
  {
   "cell_type": "markdown",
   "metadata": {},
   "source": [
    "## The hash function (MurmurHash 3)\n",
    "\n",
    "We can use one of the commonly used hash functions, namely <a href=\"https://en.wikipedia.org/wiki/MurmurHash\">MurmurHash 3</a> or mmh3 with $k$ different seeds. "
   ]
  },
  {
   "cell_type": "code",
   "execution_count": null,
   "metadata": {},
   "outputs": [],
   "source": [
    "import math\n",
    "import numpy as np\n",
    "import mmh3\n",
    "\n",
    "# mmh3.hash(element, seed)\n",
    "print(mmh3.hash('ISI Kolkata',1))\n",
    "print(mmh3.hash('ISI Kolkata',2))\n",
    "print(mmh3.hash('ISI Kolkata',1))"
   ]
  },
  {
   "cell_type": "markdown",
   "metadata": {},
   "source": [
    "## The bitarray\n",
    "\n",
    "We will use the bitarray module of Python package index (Pypi)."
   ]
  },
  {
   "cell_type": "code",
   "execution_count": null,
   "metadata": {},
   "outputs": [],
   "source": [
    "from bitarray import bitarray \n",
    "\n",
    "# An initial test\n",
    "bit_array = bitarray(10)\n",
    "print(bit_array)\n",
    "\n",
    "bit_array.setall(0)\n",
    "print(bit_array)\n",
    "\n",
    "bit_array[3] = 1\n",
    "print(bit_array)"
   ]
  },
  {
   "cell_type": "markdown",
   "metadata": {},
   "source": [
    "## The Bloom Filter class\n",
    "\n",
    "We are now ready to implement the bloom filter class. The parameters are nItems (number of items), nBits (number of bits) and nHash (number of hash functions)."
   ]
  },
  {
   "cell_type": "code",
   "execution_count": null,
   "metadata": {},
   "outputs": [],
   "source": [
    "class BloomFilter(object): \n",
    "\n",
    "    def __init__(self, nBits, nHash): \n",
    "        self.nBits = nBits \n",
    "        self.nHash = nHash\n",
    "        self.bits = bitarray(self.nBits) \n",
    "        self.bits.setall(0) \n",
    "    \n",
    "    def add(self, item):\n",
    "        for i in range(self.nHash):\n",
    "            hash_value = mmh3.hash(item,i) % self.nBits\n",
    "            self.bits[hash_value] = True\n",
    "            \n",
    "    def test(self, item):\n",
    "        for i in range(self.nHash):\n",
    "            hash_value = mmh3.hash(item, i) % self.nBits\n",
    "            if (self.bits[hash_value] == 0):\n",
    "                return False\n",
    "        return True"
   ]
  },
  {
   "cell_type": "markdown",
   "metadata": {},
   "source": [
    "## Constructing our Bloom Filter\n",
    "\n",
    "Let us take a text file \"words.txt\" containing about 466,000 english words and consider the words as our member set. We will construct the filter with these words and then check if any new word is present in this set. "
   ]
  },
  {
   "cell_type": "code",
   "execution_count": null,
   "metadata": {},
   "outputs": [],
   "source": [
    "nItems = 466000\n",
    "nBits = nItems * 20\n",
    "nHash = 10\n",
    "\n",
    "bloom_filter = BloomFilter(nBits, nHash)"
   ]
  },
  {
   "cell_type": "markdown",
   "metadata": {},
   "source": [
    "Now we add the member words to the filter. "
   ]
  },
  {
   "cell_type": "code",
   "execution_count": null,
   "metadata": {},
   "outputs": [],
   "source": [
    "memberFile = open('words.txt', 'r') \n",
    "count = 0\n",
    "  \n",
    "while True: \n",
    "    count += 1\n",
    "    \n",
    "    # read the next line \n",
    "    word = memberFile.readline() \n",
    "  \n",
    "    # if line is empty \n",
    "    # or we have exhausted our number of items, stop\n",
    "    if not word or count >= nItems: \n",
    "        break\n",
    "    \n",
    "    # Otherwise add the word\n",
    "    bloom_filter.add(word)\n",
    "memberFile.close() "
   ]
  },
  {
   "cell_type": "markdown",
   "metadata": {},
   "source": [
    "## Testing: checking for false positives\n",
    "\n",
    "Now we synthesize negative examples and test our filter with that. To make sure each example is negative (not present in the list of half-million English words), we simply add the prefix 'moolb' (bloom in opposite direction) to each word."
   ]
  },
  {
   "cell_type": "code",
   "execution_count": null,
   "metadata": {},
   "outputs": [],
   "source": [
    "testFile = open('words.txt', 'r') \n",
    "count = 0\n",
    "countFalsePositive = 0\n",
    "prefix = 'moolb'\n",
    "\n",
    "while True: \n",
    "    count += 1\n",
    "    \n",
    "    # read the next line \n",
    "    word = prefix + testFile.readline()\n",
    "  \n",
    "    # if line is empty \n",
    "    # or we have exhausted our number of items, stop\n",
    "    if not word or count >= nItems: \n",
    "        break\n",
    "    \n",
    "    # Otherwise test the word with the filter\n",
    "    isPresent = bloom_filter.test(word)\n",
    "    \n",
    "    if isPresent:\n",
    "        countFalsePositive += 1\n",
    "testFile.close() \n",
    "\n",
    "print(\"Percentage of false positives: \", (countFalsePositive*100/count))"
   ]
  },
  {
   "cell_type": "markdown",
   "metadata": {},
   "source": [
    "We can validate the performance by computing our expected false positive rate using the known formula. "
   ]
  },
  {
   "cell_type": "code",
   "execution_count": null,
   "metadata": {},
   "outputs": [],
   "source": [
    "expectedP = (1 - np.exp(-nHash*nItems/nBits))**nHash\n",
    "print(expectedP*100)"
   ]
  },
  {
   "cell_type": "code",
   "execution_count": null,
   "metadata": {},
   "outputs": [],
   "source": []
  }
 ],
 "metadata": {
  "kernelspec": {
   "display_name": "Python 3",
   "language": "python",
   "name": "python3"
  },
  "language_info": {
   "codemirror_mode": {
    "name": "ipython",
    "version": 3
   },
   "file_extension": ".py",
   "mimetype": "text/x-python",
   "name": "python",
   "nbconvert_exporter": "python",
   "pygments_lexer": "ipython3",
   "version": "3.7.3"
  }
 },
 "nbformat": 4,
 "nbformat_minor": 2
}
