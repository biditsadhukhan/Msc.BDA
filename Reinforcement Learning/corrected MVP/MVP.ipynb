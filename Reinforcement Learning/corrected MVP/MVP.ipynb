{
 "cells": [
  {
   "cell_type": "code",
   "execution_count": 1,
   "metadata": {
    "tags": []
   },
   "outputs": [],
   "source": [
    "from MVP import *\n",
    "from utils4e import *"
   ]
  },
  {
   "cell_type": "code",
   "execution_count": 4,
   "metadata": {
    "tags": []
   },
   "outputs": [
    {
     "name": "stdout",
     "output_type": "stream",
     "text": [
      "Optimal Policy:\n",
      "{(0, 1): (0, -1), (1, 2): (1, 0), (4, 0): (1, 0), (2, 1): (0, -1), (0, 0): (1, 0), (3, 1): None, (2, 0): (1, 0), (5, 1): None, (4, 2): (1, 0), (3, 0): (1, 0), (0, 2): (0, -1), (5, 0): (0, 1), (2, 2): (0, -1), (1, 0): (1, 0), (3, 2): None, (4, 1): (1, 0), (5, 2): (0, -1)}\n",
      "[['v', '>', 'v', '.', '>', 'v'], ['v', None, 'v', '.', '>', '.'], ['>', '>', '>', '>', '>', '^']]\n",
      "v   >      v   .   >   v\n",
      "v   None   v   .   >   .\n",
      ">   >      >   >   >   ^\n",
      "v   >      v   .   >   v\n",
      "v   None   v   .   >   .\n",
      ">   >      >   >   >   ^\n"
     ]
    }
   ],
   "source": [
    "north = (0, 1)\n",
    "south = (0,-1)\n",
    "west = (-1, 0)\n",
    "east = (1, 0)\n",
    "grid_environment = GridMDP([[-0.04, -0.04, -0.04, +0.04,-0.04, -0.04],\n",
    "                                           [-0.04, None, -0.04, -1,-0.04, +1],\n",
    "                                           [-0.04, -0.04, -0.04, +0.04,-0.04, -0.02]],\n",
    "                                          terminals=[(3, 2), (3, 1),(5,1)])\n",
    "utility=value_iteration(grid_environment)\n",
    "policy=best_policy(grid_environment,utility)\n",
    "print(\"Optimal Policy:\")\n",
    "print(policy)\n",
    "print(grid_environment.to_arrows(policy))\n",
    "print_table(grid_environment.to_arrows(policy_iteration(grid_environment)))\n",
    "print_table(grid_environment.to_arrows(policy))"
   ]
  },
  {
   "cell_type": "code",
   "execution_count": 15,
   "metadata": {},
   "outputs": [
    {
     "data": {
      "text/plain": [
       "{(0, 1): 0.11060415255697975,\n",
       " (1, 2): 0.012189094821841797,\n",
       " (4, 0): 0.6988809490787462,\n",
       " (2, 1): 0.14551307197279012,\n",
       " (0, 0): 0.18157515079150907,\n",
       " (3, 1): -1,\n",
       " (2, 0): 0.36446928250572164,\n",
       " (5, 1): 1,\n",
       " (4, 2): 0.6800154967101738,\n",
       " (3, 0): 0.4980156543499546,\n",
       " (0, 2): 0.04466723332354053,\n",
       " (5, 0): 0.8383508578926455,\n",
       " (2, 2): 0.06946095919665952,\n",
       " (1, 0): 0.27123958896247163,\n",
       " (3, 2): 0.04,\n",
       " (4, 1): 0.8041006730175123,\n",
       " (5, 2): 0.8145070220131874}"
      ]
     },
     "execution_count": 15,
     "metadata": {},
     "output_type": "execute_result"
    }
   ],
   "source": [
    "utility"
   ]
  },
  {
   "cell_type": "code",
   "execution_count": 6,
   "metadata": {
    "tags": []
   },
   "outputs": [
    {
     "data": {
      "text/plain": [
       "<bound method MDP.actions of <MVP.GridMDP object at 0x0000028AF3C81B50>>"
      ]
     },
     "execution_count": 6,
     "metadata": {},
     "output_type": "execute_result"
    }
   ],
   "source": [
    "grid_environment.actions"
   ]
  }
 ],
 "metadata": {
  "colab": {
   "provenance": []
  },
  "kernelspec": {
   "display_name": "Python 3 (ipykernel)",
   "language": "python",
   "name": "python3"
  },
  "language_info": {
   "codemirror_mode": {
    "name": "ipython",
    "version": 3
   },
   "file_extension": ".py",
   "mimetype": "text/x-python",
   "name": "python",
   "nbconvert_exporter": "python",
   "pygments_lexer": "ipython3",
   "version": "3.11.4"
  }
 },
 "nbformat": 4,
 "nbformat_minor": 4
}
