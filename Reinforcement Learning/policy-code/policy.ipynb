{
 "cells": [
  {
   "cell_type": "markdown",
   "metadata": {},
   "source": [
    "# Policy Gradient \n",
    "- Name: Bidit Sadhukhan\n",
    "- Reg.No- B2230022\n",
    "- RL code assignment-2\n",
    "\n"
   ]
  },
  {
   "cell_type": "markdown",
   "metadata": {},
   "source": [
    "### Original Implementation"
   ]
  },
  {
   "cell_type": "code",
   "execution_count": 1,
   "metadata": {},
   "outputs": [],
   "source": [
    "import gym \n",
    "import numpy as np\n",
    "import matplotlib.pyplot as plt"
   ]
  },
  {
   "cell_type": "code",
   "execution_count": 2,
   "metadata": {},
   "outputs": [
    {
     "name": "stderr",
     "output_type": "stream",
     "text": [
      "c:\\Users\\BIDIT\\anaconda3\\Lib\\site-packages\\gym\\core.py:317: DeprecationWarning: \u001b[33mWARN: Initializing wrapper in old step API which returns one bool instead of two. It is recommended to set `new_step_api=True` to use new step API. This will be the default behaviour in future.\u001b[0m\n",
      "  deprecation(\n",
      "c:\\Users\\BIDIT\\anaconda3\\Lib\\site-packages\\gym\\wrappers\\step_api_compatibility.py:39: DeprecationWarning: \u001b[33mWARN: Initializing environment in old step API which returns one bool instead of two. It is recommended to set `new_step_api=True` to use new step API. This will be the default behaviour in future.\u001b[0m\n",
      "  deprecation(\n"
     ]
    }
   ],
   "source": [
    "env = gym.make('CartPole-v1')"
   ]
  },
  {
   "cell_type": "code",
   "execution_count": 3,
   "metadata": {},
   "outputs": [
    {
     "data": {
      "text/plain": [
       "Box([-4.8000002e+00 -3.4028235e+38 -4.1887903e-01 -3.4028235e+38], [4.8000002e+00 3.4028235e+38 4.1887903e-01 3.4028235e+38], (4,), float32)"
      ]
     },
     "execution_count": 3,
     "metadata": {},
     "output_type": "execute_result"
    }
   ],
   "source": [
    "env.observation_space"
   ]
  },
  {
   "cell_type": "code",
   "execution_count": 6,
   "metadata": {},
   "outputs": [
    {
     "data": {
      "text/plain": [
       "gym.spaces.discrete.Discrete"
      ]
     },
     "execution_count": 6,
     "metadata": {},
     "output_type": "execute_result"
    }
   ],
   "source": [
    "env.action_space"
   ]
  },
  {
   "cell_type": "code",
   "execution_count": 7,
   "metadata": {},
   "outputs": [],
   "source": [
    "import numpy as np\n",
    "\n",
    "class LogisticPolicy:\n",
    "    \n",
    "    def __init__(self, θ, α, γ):\n",
    "        # Initialize paramters θ, learning rate α and discount factor γ\n",
    "        \n",
    "        self.θ = θ\n",
    "        self.α = α\n",
    "        self.γ = γ\n",
    "        \n",
    "    def logistic(self, y):\n",
    "        # definition of logistic function\n",
    "        \n",
    "        return 1/(1 + np.exp(-y))\n",
    "    \n",
    "    def probs(self, x):\n",
    "        # returns probabilities of two actions\n",
    "        \n",
    "        y = x @ self.θ\n",
    "        prob0 = self.logistic(y)\n",
    "        \n",
    "        return np.array([prob0, 1-prob0])        \n",
    "    \n",
    "    def act(self, x):\n",
    "        # sample an action in proportion to probabilities\n",
    "        \n",
    "        probs = self.probs(x)\n",
    "        action = np.random.choice([0, 1], p=probs)\n",
    "        \n",
    "        return action, probs[action]\n",
    "\n",
    "    def grad_log_p(self, x):\n",
    "        # calculate grad-log-probs\n",
    "        \n",
    "        y = x @ self.θ        \n",
    "        grad_log_p0 = x - x*self.logistic(y)\n",
    "        grad_log_p1 = - x*self.logistic(y)\n",
    "        \n",
    "        return grad_log_p0, grad_log_p1\n",
    "        \n",
    "    def grad_log_p_dot_rewards(self, grad_log_p, actions, discounted_rewards):\n",
    "        # dot grads with future rewards for each action in episode\n",
    "        \n",
    "        return grad_log_p.T @ discounted_rewards\n",
    "    \n",
    "    def discount_rewards(self, rewards):\n",
    "        # calculate temporally adjusted, discounted rewards\n",
    "        \n",
    "        discounted_rewards = np.zeros(len(rewards))\n",
    "        cumulative_rewards = 0\n",
    "        for i in reversed(range(0, len(rewards))):\n",
    "            cumulative_rewards = cumulative_rewards * self.γ + rewards[i]\n",
    "            discounted_rewards[i] = cumulative_rewards\n",
    "            \n",
    "        return discounted_rewards\n",
    "\n",
    "    def update(self, rewards, obs, actions):\n",
    "        # calculate gradients for each action over all observations\n",
    "        grad_log_p = np.array([self.grad_log_p(ob)[action] for ob,action in zip(obs,actions)])\n",
    "        \n",
    "        assert grad_log_p.shape == (len(obs), 4)\n",
    "        \n",
    "        # calculate temporaly adjusted, discounted rewards\n",
    "        discounted_rewards = self.discount_rewards(rewards)\n",
    "        \n",
    "        # gradients times rewards\n",
    "        dot = self.grad_log_p_dot_rewards(grad_log_p, actions, discounted_rewards)\n",
    "        \n",
    "        # gradient ascent on parameters\n",
    "        self.θ += self.α*dot"
   ]
  },
  {
   "cell_type": "code",
   "execution_count": 8,
   "metadata": {},
   "outputs": [],
   "source": [
    "def run_episode(env, policy, render=False):\n",
    "    \n",
    "    observation = env.reset()\n",
    "    totalreward = 0\n",
    "    \n",
    "    observations = []\n",
    "    actions = []\n",
    "    rewards = []\n",
    "    probs = []\n",
    "    \n",
    "    done = False\n",
    "    \n",
    "    while not done:\n",
    "        if render:\n",
    "            env.render()\n",
    "        \n",
    "        observations.append(observation)\n",
    "        \n",
    "        action, prob = policy.act(observation)\n",
    "        observation, reward, done, info = env.step(action)\n",
    "        \n",
    "        totalreward += reward\n",
    "        rewards.append(reward)\n",
    "        actions.append(action)\n",
    "        probs.append(prob)\n",
    "    \n",
    "    return totalreward, np.array(rewards), np.array(observations), np.array(actions), np.array(probs)"
   ]
  },
  {
   "cell_type": "code",
   "execution_count": 9,
   "metadata": {},
   "outputs": [],
   "source": [
    "from gym.wrappers import RecordVideo\n",
    "def train(θ, α, γ, Policy, MAX_EPISODES=1000, seed=None, evaluate=False):\n",
    "    \n",
    "    # initialize environment and policy\n",
    "    env = gym.make('CartPole-v1')\n",
    "    if seed is not None:\n",
    "        env.seed(seed)\n",
    "    episode_rewards = []\n",
    "    policy = Policy(θ, α, γ)\n",
    "    \n",
    "    # train until MAX_EPISODES\n",
    "    for i in range(MAX_EPISODES):\n",
    "\n",
    "        # run a single episode\n",
    "        total_reward, rewards, observations, actions, probs = run_episode(env, policy)\n",
    "                \n",
    "        # keep track of episode rewards\n",
    "        episode_rewards.append(total_reward)\n",
    "        \n",
    "        # update policy\n",
    "        policy.update(rewards, observations, actions)\n",
    "        print(\"EP: \" + str(i) + \" Score: \" + str(total_reward) + \" \",end=\"\\r\", flush=False) \n",
    "\n",
    "    # evaluation call after training is finished - evaluate last trained policy on 100 episodes\n",
    "    if evaluate:\n",
    "        env = RecordVideo(env, 'pg_cartpole_original/')\n",
    "        for _ in range(100):\n",
    "            run_episode(env, policy, render=False)\n",
    "        env.env.close()\n",
    "        \n",
    "    return episode_rewards, policy"
   ]
  },
  {
   "cell_type": "code",
   "execution_count": 10,
   "metadata": {},
   "outputs": [
    {
     "name": "stderr",
     "output_type": "stream",
     "text": [
      "c:\\Users\\BIDIT\\anaconda3\\Lib\\site-packages\\gym\\core.py:317: DeprecationWarning: \u001b[33mWARN: Initializing wrapper in old step API which returns one bool instead of two. It is recommended to set `new_step_api=True` to use new step API. This will be the default behaviour in future.\u001b[0m\n",
      "  deprecation(\n",
      "c:\\Users\\BIDIT\\anaconda3\\Lib\\site-packages\\gym\\wrappers\\step_api_compatibility.py:39: DeprecationWarning: \u001b[33mWARN: Initializing environment in old step API which returns one bool instead of two. It is recommended to set `new_step_api=True` to use new step API. This will be the default behaviour in future.\u001b[0m\n",
      "  deprecation(\n",
      "c:\\Users\\BIDIT\\anaconda3\\Lib\\site-packages\\gym\\core.py:256: DeprecationWarning: \u001b[33mWARN: Function `env.seed(seed)` is marked as deprecated and will be removed in the future. Please use `env.reset(seed=seed)` instead.\u001b[0m\n",
      "  deprecation(\n",
      "c:\\Users\\BIDIT\\anaconda3\\Lib\\site-packages\\gym\\utils\\passive_env_checker.py:241: DeprecationWarning: `np.bool8` is a deprecated alias for `np.bool_`.  (Deprecated NumPy 1.24)\n",
      "  if not isinstance(terminated, (bool, np.bool8)):\n"
     ]
    },
    {
     "name": "stdout",
     "output_type": "stream",
     "text": [
      "EP: 1999 Score: 500.0 \r"
     ]
    },
    {
     "name": "stderr",
     "output_type": "stream",
     "text": [
      "c:\\Users\\BIDIT\\anaconda3\\Lib\\site-packages\\gym\\wrappers\\record_video.py:78: UserWarning: \u001b[33mWARN: Overwriting existing videos at c:\\Users\\BIDIT\\OneDrive\\Documents\\Reinforcement Learning\\policy-code\\pg_cartpole_original folder (try specifying a different `video_folder` for the `RecordVideo` wrapper if this is not desired)\u001b[0m\n",
      "  logger.warn(\n",
      "c:\\Users\\BIDIT\\anaconda3\\Lib\\site-packages\\gym\\wrappers\\monitoring\\video_recorder.py:78: DeprecationWarning: \u001b[33mWARN: Recording ability for environment CartPole-v1 initialized with `render_mode=None` is marked as deprecated and will be removed in the future.\u001b[0m\n",
      "  logger.deprecation(\n",
      "c:\\Users\\BIDIT\\anaconda3\\Lib\\site-packages\\gym\\core.py:43: DeprecationWarning: \u001b[33mWARN: The argument mode in render method is deprecated; use render_mode during environment initialization instead.\n",
      "See here for more information: https://www.gymlibrary.ml/content/api/\u001b[0m\n",
      "  deprecation(\n"
     ]
    }
   ],
   "source": [
    "# additional imports for saving and loading a trained policy\n",
    "# import Monitor, load_results\n",
    "\n",
    "# for reproducibility\n",
    "GLOBAL_SEED = 0\n",
    "np.random.seed(GLOBAL_SEED)\n",
    "\n",
    "episode_rewards, policy = train(θ=np.random.rand(4),\n",
    "                                α=0.002,\n",
    "                                γ=0.99,\n",
    "                                Policy=LogisticPolicy,\n",
    "                                MAX_EPISODES=2000,\n",
    "                                seed=GLOBAL_SEED,\n",
    "                                evaluate=True)"
   ]
  },
  {
   "cell_type": "code",
   "execution_count": 11,
   "metadata": {},
   "outputs": [
    {
     "name": "stdout",
     "output_type": "stream",
     "text": [
      "Variance: 30796.931847750002\n"
     ]
    }
   ],
   "source": [
    "print(\"Variance:\",np.var(episode_rewards))"
   ]
  },
  {
   "cell_type": "code",
   "execution_count": 12,
   "metadata": {},
   "outputs": [
    {
     "data": {
      "text/plain": [
       "Text(0.5, 1.0, 'Rewards vs Episode')"
      ]
     },
     "execution_count": 12,
     "metadata": {},
     "output_type": "execute_result"
    },
    {
     "data": {
      "image/png": "[encoded data removed]",
      "text/plain": [
       "<Figure size 640x480 with 1 Axes>"
      ]
     },
     "metadata": {},
     "output_type": "display_data"
    }
   ],
   "source": [
    "%matplotlib inline\n",
    "import matplotlib.pyplot as plt\n",
    "\n",
    "plt.plot(episode_rewards)\n",
    "plt.xlabel(\"Episodes\")\n",
    "plt.ylabel(\"Rewards\")\n",
    "plt.title(\"Rewards vs Episode\")"
   ]
  },
  {
   "cell_type": "code",
   "execution_count": 13,
   "metadata": {},
   "outputs": [
    {
     "data": {
      "text/plain": [
       "['pg_cartpole_original\\\\rl-video-episode-0.mp4',\n",
       " 'pg_cartpole_original\\\\rl-video-episode-1.mp4',\n",
       " 'pg_cartpole_original\\\\rl-video-episode-27.mp4',\n",
       " 'pg_cartpole_original\\\\rl-video-episode-64.mp4',\n",
       " 'pg_cartpole_original\\\\rl-video-episode-8.mp4']"
      ]
     },
     "execution_count": 13,
     "metadata": {},
     "output_type": "execute_result"
    }
   ],
   "source": [
    "import glob\n",
    "\n",
    "files = glob.glob(f'pg_cartpole_original/rl-video-episode-*.mp4')\n",
    "\n",
    "files"
   ]
  },
  {
   "cell_type": "code",
   "execution_count": 14,
   "metadata": {},
   "outputs": [
    {
     "data": {
      "text/html": [
       "<video controls  >\n",
       " <source src=\"data:video/mp4;base64,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\" type=\"video/mp4\">\n",
       " Your browser does not support the video tag.\n",
       " </video>"
      ],
      "text/plain": [
       "<IPython.core.display.Video object>"
      ]
     },
     "execution_count": 14,
     "metadata": {},
     "output_type": "execute_result"
    }
   ],
   "source": [
    "from IPython.display import Video\n",
    "\n",
    "Video(files[0], embed=True)"
   ]
  },
  {
   "cell_type": "markdown",
   "metadata": {},
   "source": [
    "### My implementation \n",
    "- With Baseline Reduction\n",
    "- With Advantage Function"
   ]
  },
  {
   "cell_type": "code",
   "execution_count": 15,
   "metadata": {},
   "outputs": [
    {
     "name": "stdout",
     "output_type": "stream",
     "text": [
      "0.25.2\n"
     ]
    }
   ],
   "source": [
    "import gym\n",
    "print(gym.__version__)\n",
    "import numpy as np\n",
    "import matplotlib.pyplot as plt"
   ]
  },
  {
   "cell_type": "code",
   "execution_count": 16,
   "metadata": {},
   "outputs": [],
   "source": [
    "env = gym.make('CartPole-v1')"
   ]
  },
  {
   "cell_type": "code",
   "execution_count": 17,
   "metadata": {},
   "outputs": [
    {
     "data": {
      "text/plain": [
       "Box([-4.8000002e+00 -3.4028235e+38 -4.1887903e-01 -3.4028235e+38], [4.8000002e+00 3.4028235e+38 4.1887903e-01 3.4028235e+38], (4,), float32)"
      ]
     },
     "execution_count": 17,
     "metadata": {},
     "output_type": "execute_result"
    }
   ],
   "source": [
    "env.observation_space"
   ]
  },
  {
   "cell_type": "code",
   "execution_count": 18,
   "metadata": {},
   "outputs": [
    {
     "data": {
      "text/plain": [
       "Discrete(2)"
      ]
     },
     "execution_count": 18,
     "metadata": {},
     "output_type": "execute_result"
    }
   ],
   "source": [
    "env.action_space"
   ]
  },
  {
   "cell_type": "code",
   "execution_count": 23,
   "metadata": {},
   "outputs": [],
   "source": [
    "class LogisticPolicy:\n",
    "    \n",
    "    def __init__(self, θ, α, γ):\n",
    "        # Initialize paramters θ, learning rate α and discount factor γ\n",
    "        \n",
    "        self.θ = θ\n",
    "        self.α = α\n",
    "        self.γ = γ\n",
    "        \n",
    "    def logistic(self, y):\n",
    "        # definition of logistic function\n",
    "        \n",
    "        return 1/(1 + np.exp(-y))\n",
    "    \n",
    "    def probs(self, x):\n",
    "        # returns probabilities of two actions\n",
    "        \n",
    "        y = x @ self.θ\n",
    "        prob0 = self.logistic(y)\n",
    "        \n",
    "        return np.array([prob0, 1-prob0])        \n",
    "    \n",
    "    def act(self, x):\n",
    "        # sample an action in proportion to probabilities\n",
    "        \n",
    "        probs = self.probs(x)\n",
    "        action = np.random.choice([0, 1], p=probs)\n",
    "        \n",
    "        return action, probs[action]\n",
    "\n",
    "    def grad_log_p(self, x):\n",
    "        # calculate grad-log-probs\n",
    "        \n",
    "        y = x @ self.θ        \n",
    "        grad_log_p0 = x - x*self.logistic(y)\n",
    "        grad_log_p1 = - x*self.logistic(y)\n",
    "        \n",
    "        return grad_log_p0, grad_log_p1\n",
    "        \n",
    "    def grad_log_p_dot_rewards(self, grad_log_p, actions, discounted_rewards):\n",
    "        # dot grads with future rewards for each action in episode\n",
    "        \n",
    "        return grad_log_p.T @ discounted_rewards\n",
    "    \n",
    "\n",
    "    def discount_rewards(self, rewards, obs):\n",
    "    # calculate temporally adjusted, discounted rewards with baseline adjustment\n",
    "\n",
    "        discounted_rewards = np.zeros(len(rewards))\n",
    "        cumulative_rewards = 0\n",
    "\n",
    "    # Calculate state values\n",
    "        state_values = self.get_state_values(obs)\n",
    "\n",
    "        for i in reversed(range(0, len(rewards))):\n",
    "            cumulative_rewards = cumulative_rewards * self.γ + rewards[i] - state_values[i]\n",
    "            discounted_rewards[i] = cumulative_rewards\n",
    "\n",
    "        return discounted_rewards\n",
    "\n",
    "    \n",
    "    def get_state_values(self, obs):\n",
    "        # Calculate state values using a linear function\n",
    "        # obs is a numpy array of observations\n",
    "        state_values = np.zeros(len(obs))\n",
    "        for i, ob in enumerate(obs):\n",
    "            state_values[i] = ob @ self.θ\n",
    "        return state_values\n",
    "\n",
    "    def update(self, rewards, obs, actions):\n",
    "        # calculate gradients for each action over all observations\n",
    "        grad_log_p = np.array([self.grad_log_p(ob)[action] for ob,action in zip(obs,actions)])\n",
    "        \n",
    "        assert grad_log_p.shape == (len(obs), 4)\n",
    "        \n",
    "        # calculate temporaly adjusted, discounted rewards\n",
    "        discounted_rewards = self.discount_rewards(rewards,obs)\n",
    "        \n",
    "        # gradients times rewards\n",
    "        dot = self.grad_log_p_dot_rewards(grad_log_p, actions, discounted_rewards)\n",
    "        \n",
    "        # gradient ascent on parameters\n",
    "        self.θ += self.α*dot\n"
   ]
  },
  {
   "cell_type": "code",
   "execution_count": 24,
   "metadata": {},
   "outputs": [],
   "source": [
    "def run_episode(env, policy, render=False):\n",
    "    \n",
    "    observation = env.reset()\n",
    "    totalreward = 0\n",
    "    \n",
    "    observations = []\n",
    "    actions = []\n",
    "    rewards = []\n",
    "    probs = []\n",
    "    \n",
    "    done = False\n",
    "    \n",
    "    while not done:\n",
    "        if render:\n",
    "            env.render()\n",
    "        \n",
    "        observations.append(observation)\n",
    "        \n",
    "        action, prob = policy.act(observation)\n",
    "        observation, reward, done, info = env.step(action)\n",
    "        \n",
    "        totalreward += reward\n",
    "        rewards.append(reward)\n",
    "        actions.append(action)\n",
    "        probs.append(prob)\n",
    "    \n",
    "    return totalreward, np.array(rewards), np.array(observations), np.array(actions), np.array(probs)"
   ]
  },
  {
   "cell_type": "code",
   "execution_count": 25,
   "metadata": {},
   "outputs": [],
   "source": [
    "from gym.wrappers import RecordVideo\n",
    "def train(θ, α, γ, Policy, MAX_EPISODES=1000, seed=None, evaluate=False):\n",
    "    \n",
    "    # initialize environment and policy\n",
    "    env = gym.make('CartPole-v1')\n",
    "    if seed is not None:\n",
    "        env.reset(seed=seed)\n",
    "    episode_rewards = []\n",
    "    policy = Policy(θ, α, γ)\n",
    "    \n",
    "    # train until MAX_EPISODES\n",
    "    for i in range(MAX_EPISODES):\n",
    "\n",
    "        # run a single episode\n",
    "        total_reward, rewards, observations, actions, probs = run_episode(env, policy)\n",
    "                \n",
    "        # keep track of episode rewards\n",
    "        episode_rewards.append(total_reward)\n",
    "        \n",
    "        # update policy\n",
    "        policy.update(rewards, observations, actions)\n",
    "        print(\"EP: \" + str(i) + \" Score: \" + str(total_reward) + \" \",end=\"\\r\", flush=False) \n",
    "\n",
    "    # evaluation call after training is finished - evaluate last trained policy on 100 episodes\n",
    "    if evaluate:\n",
    "        env = RecordVideo(env, 'pg_cartpole_mine/')\n",
    "        for _ in range(100):\n",
    "            run_episode(env, policy, render=False)\n",
    "        env.env.close()\n",
    "        \n",
    "    return episode_rewards, policy"
   ]
  },
  {
   "cell_type": "code",
   "execution_count": 26,
   "metadata": {},
   "outputs": [
    {
     "name": "stdout",
     "output_type": "stream",
     "text": [
      "EP: 1999 Score: 183.0 \r"
     ]
    },
    {
     "name": "stderr",
     "output_type": "stream",
     "text": [
      "c:\\Users\\BIDIT\\anaconda3\\Lib\\site-packages\\gym\\wrappers\\record_video.py:78: UserWarning: \u001b[33mWARN: Overwriting existing videos at c:\\Users\\BIDIT\\OneDrive\\Documents\\Reinforcement Learning\\policy-code\\pg_cartpole_mine folder (try specifying a different `video_folder` for the `RecordVideo` wrapper if this is not desired)\u001b[0m\n",
      "  logger.warn(\n"
     ]
    }
   ],
   "source": [
    "# additional imports for saving and loading a trained policy\n",
    "# import Monitor, load_results\n",
    "\n",
    "# for reproducibility\n",
    "GLOBAL_SEED = 0\n",
    "np.random.seed(GLOBAL_SEED)\n",
    "\n",
    "episode_rewards_1, policy = train(θ=np.random.rand(4),\n",
    "                                α=0.002,\n",
    "                                γ=0.9,\n",
    "                                Policy=LogisticPolicy,\n",
    "                                MAX_EPISODES=2000,\n",
    "                                seed=GLOBAL_SEED,\n",
    "                                evaluate=True)"
   ]
  },
  {
   "cell_type": "code",
   "execution_count": 21,
   "metadata": {},
   "outputs": [
    {
     "name": "stdout",
     "output_type": "stream",
     "text": [
      "Variance: 12943.391319000002\n"
     ]
    }
   ],
   "source": [
    "print(\"Variance:\",np.var(episode_rewards_1))"
   ]
  },
  {
   "cell_type": "code",
   "execution_count": 22,
   "metadata": {},
   "outputs": [
    {
     "data": {
      "text/plain": [
       "Text(0.5, 1.0, 'Rewards vs Episode')"
      ]
     },
     "execution_count": 22,
     "metadata": {},
     "output_type": "execute_result"
    },
    {
     "data": {
      "image/png": "[encoded data removed]",
      "text/plain": [
       "<Figure size 640x480 with 1 Axes>"
      ]
     },
     "metadata": {},
     "output_type": "display_data"
    }
   ],
   "source": [
    "%matplotlib inline\n",
    "import matplotlib.pyplot as plt\n",
    "\n",
    "plt.plot(episode_rewards_1)\n",
    "plt.xlabel(\"Episodes\")\n",
    "plt.ylabel(\"Rewards\")\n",
    "plt.title(\"Rewards vs Episode\")"
   ]
  },
  {
   "cell_type": "code",
   "execution_count": 23,
   "metadata": {},
   "outputs": [
    {
     "data": {
      "text/plain": [
       "['pg_cartpole_mine\\\\rl-video-episode-0.mp4',\n",
       " 'pg_cartpole_mine\\\\rl-video-episode-1.mp4',\n",
       " 'pg_cartpole_mine\\\\rl-video-episode-27.mp4',\n",
       " 'pg_cartpole_mine\\\\rl-video-episode-64.mp4',\n",
       " 'pg_cartpole_mine\\\\rl-video-episode-8.mp4']"
      ]
     },
     "execution_count": 23,
     "metadata": {},
     "output_type": "execute_result"
    }
   ],
   "source": [
    "import glob\n",
    "\n",
    "files = glob.glob(f'pg_cartpole_mine/rl-video-episode-*.mp4')\n",
    "\n",
    "files"
   ]
  },
  {
   "cell_type": "code",
   "execution_count": 26,
   "metadata": {},
   "outputs": [
    {
     "data": {
      "text/html": [
       "<video controls  >\n",
       " <source src=\"data:video/mp4;base64,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\" type=\"video/mp4\">\n",
       " Your browser does not support the video tag.\n",
       " </video>"
      ],
      "text/plain": [
       "<IPython.core.display.Video object>"
      ]
     },
     "execution_count": 26,
     "metadata": {},
     "output_type": "execute_result"
    }
   ],
   "source": [
    "from IPython.display import Video\n",
    "\n",
    "Video(files[3], embed=True)"
   ]
  },
  {
   "cell_type": "markdown",
   "metadata": {},
   "source": [
    "#### With Advantage Function"
   ]
  },
  {
   "cell_type": "code",
   "execution_count": 59,
   "metadata": {},
   "outputs": [
    {
     "name": "stdout",
     "output_type": "stream",
     "text": [
      "0.25.2\n"
     ]
    }
   ],
   "source": [
    "import gym\n",
    "print(gym.__version__)\n",
    "import numpy as np\n",
    "import matplotlib.pyplot as plt"
   ]
  },
  {
   "cell_type": "code",
   "execution_count": 60,
   "metadata": {},
   "outputs": [
    {
     "name": "stderr",
     "output_type": "stream",
     "text": [
      "c:\\Users\\BIDIT\\anaconda3\\Lib\\site-packages\\gym\\core.py:317: DeprecationWarning: \u001b[33mWARN: Initializing wrapper in old step API which returns one bool instead of two. It is recommended to set `new_step_api=True` to use new step API. This will be the default behaviour in future.\u001b[0m\n",
      "  deprecation(\n",
      "c:\\Users\\BIDIT\\anaconda3\\Lib\\site-packages\\gym\\wrappers\\step_api_compatibility.py:39: DeprecationWarning: \u001b[33mWARN: Initializing environment in old step API which returns one bool instead of two. It is recommended to set `new_step_api=True` to use new step API. This will be the default behaviour in future.\u001b[0m\n",
      "  deprecation(\n"
     ]
    }
   ],
   "source": [
    "env = gym.make('CartPole-v1')"
   ]
  },
  {
   "cell_type": "code",
   "execution_count": 61,
   "metadata": {},
   "outputs": [
    {
     "data": {
      "text/plain": [
       "Box([-4.8000002e+00 -3.4028235e+38 -4.1887903e-01 -3.4028235e+38], [4.8000002e+00 3.4028235e+38 4.1887903e-01 3.4028235e+38], (4,), float32)"
      ]
     },
     "execution_count": 61,
     "metadata": {},
     "output_type": "execute_result"
    }
   ],
   "source": [
    "env.observation_space"
   ]
  },
  {
   "cell_type": "code",
   "execution_count": 62,
   "metadata": {},
   "outputs": [
    {
     "data": {
      "text/plain": [
       "Discrete(2)"
      ]
     },
     "execution_count": 62,
     "metadata": {},
     "output_type": "execute_result"
    }
   ],
   "source": [
    "env.action_space"
   ]
  },
  {
   "cell_type": "code",
   "execution_count": null,
   "metadata": {},
   "outputs": [],
   "source": [
    "class LogisticPolicy:\n",
    "    \n",
    "    def __init__(self, θ, α, γ):\n",
    "        # Initialize paramters θ, learning rate α and discount factor γ\n",
    "        \n",
    "        self.θ = θ\n",
    "        self.α = α\n",
    "        self.γ = γ\n",
    "        \n",
    "    def logistic(self, y):\n",
    "        # definition of logistic function\n",
    "        \n",
    "        return 1/(1 + np.exp(-y))\n",
    "    \n",
    "    def probs(self, x):\n",
    "        # returns probabilities of two actions\n",
    "        \n",
    "        y = x @ self.θ\n",
    "        prob0 = self.logistic(y)\n",
    "        \n",
    "        return np.array([prob0, 1-prob0])        \n",
    "    \n",
    "    def act(self, x):\n",
    "        # sample an action in proportion to probabilities\n",
    "        \n",
    "        probs = self.probs(x)\n",
    "        action = np.random.choice([0, 1], p=probs)\n",
    "        \n",
    "        return action, probs[action]\n",
    "\n",
    "    def grad_log_p(self, x):\n",
    "        # calculate grad-log-probs\n",
    "        \n",
    "        y = x @ self.θ        \n",
    "        grad_log_p0 = x - x*self.logistic(y)\n",
    "        grad_log_p1 = - x*self.logistic(y)\n",
    "        \n",
    "        return grad_log_p0, grad_log_p1\n",
    "        \n",
    "    def grad_log_p_dot_rewards(self, grad_log_p, actions, discounted_rewards):\n",
    "        # dot grads with future rewards for each action in episode\n",
    "        \n",
    "        return grad_log_p.T @ discounted_rewards\n",
    "    \n",
    "\n",
    "    def discount_rewards(self, rewards, obs):\n",
    "    # calculate temporally adjusted, discounted rewards with baseline adjustment\n",
    "\n",
    "        discounted_rewards = np.zeros(len(rewards))\n",
    "        cumulative_rewards = 0\n",
    "\n",
    "    # Calculate state values\n",
    "        state_values = self.get_state_values(obs)\n",
    "\n",
    "        for i in reversed(range(0, len(rewards))):\n",
    "            cumulative_rewards = cumulative_rewards * self.γ + rewards[i] - state_values[i]\n",
    "            discounted_rewards[i] = cumulative_rewards\n",
    "\n",
    "        return discounted_rewards\n",
    "\n",
    "    \n",
    "    def get_state_values(self, obs):\n",
    "        # Calculate state values using a linear function\n",
    "        # obs is a numpy array of observations\n",
    "        state_values = np.zeros(len(obs))\n",
    "        for i, ob in enumerate(obs):\n",
    "            state_values[i] = ob @ self.θ\n",
    "        return state_values\n",
    "\n",
    "    def update(self, rewards, obs, actions):\n",
    "        # calculate gradients for each action over all observations\n",
    "        grad_log_p = np.array([self.grad_log_p(ob)[action] for ob,action in zip(obs,actions)])\n",
    "        \n",
    "        assert grad_log_p.shape == (len(obs), 4)\n",
    "        \n",
    "        # calculate temporaly adjusted, discounted rewards\n",
    "        discounted_rewards = self.discount_rewards(rewards,obs)\n",
    "        \n",
    "        # gradients times rewards\n",
    "        dot = self.grad_log_p_dot_rewards(grad_log_p, actions, discounted_rewards)\n",
    "        \n",
    "        # gradient ascent on parameters\n",
    "        self.θ += self.α*dot\n"
   ]
  },
  {
   "cell_type": "code",
   "execution_count": null,
   "metadata": {},
   "outputs": [],
   "source": [
    "def run_episode(env, policy, render=False):\n",
    "    \n",
    "    observation = env.reset()\n",
    "    totalreward = 0\n",
    "    \n",
    "    observations = []\n",
    "    actions = []\n",
    "    rewards = []\n",
    "    probs = []\n",
    "    \n",
    "    done = False\n",
    "    \n",
    "    while not done:\n",
    "        if render:\n",
    "            env.render()\n",
    "        \n",
    "        observations.append(observation)\n",
    "        \n",
    "        action, prob = policy.act(observation)\n",
    "        observation, reward, done, info = env.step(action)\n",
    "        \n",
    "        totalreward += reward\n",
    "        rewards.append(reward)\n",
    "        actions.append(action)\n",
    "        probs.append(prob)\n",
    "    \n",
    "    return totalreward, np.array(rewards), np.array(observations), np.array(actions), np.array(probs)"
   ]
  },
  {
   "cell_type": "code",
   "execution_count": null,
   "metadata": {},
   "outputs": [],
   "source": [
    "from gym.wrappers import RecordVideo\n",
    "def train(θ, α, γ, Policy, MAX_EPISODES=1000, seed=None, evaluate=False):\n",
    "    \n",
    "    # initialize environment and policy\n",
    "    env = gym.make('CartPole-v1')\n",
    "    if seed is not None:\n",
    "        env.reset(seed=seed)\n",
    "    episode_rewards = []\n",
    "    policy = Policy(θ, α, γ)\n",
    "    \n",
    "    # train until MAX_EPISODES\n",
    "    for i in range(MAX_EPISODES):\n",
    "\n",
    "        # run a single episode\n",
    "        total_reward, rewards, observations, actions, probs = run_episode(env, policy)\n",
    "                \n",
    "        # keep track of episode rewards\n",
    "        episode_rewards.append(total_reward)\n",
    "        \n",
    "        # update policy\n",
    "        policy.update(rewards, observations, actions)\n",
    "        print(\"EP: \" + str(i) + \" Score: \" + str(total_reward) + \" \",end=\"\\r\", flush=False) \n",
    "\n",
    "    # evaluation call after training is finished - evaluate last trained policy on 100 episodes\n",
    "    if evaluate:\n",
    "        env = RecordVideo(env, 'pg_cartpole_mine_1/')\n",
    "        for _ in range(100):\n",
    "            run_episode(env, policy, render=False)\n",
    "        env.env.close()\n",
    "        \n",
    "    return episode_rewards, policy"
   ]
  },
  {
   "cell_type": "code",
   "execution_count": null,
   "metadata": {},
   "outputs": [],
   "source": [
    "# additional imports for saving and loading a trained policy\n",
    "# import Monitor, load_results\n",
    "\n",
    "# for reproducibility\n",
    "GLOBAL_SEED = 0\n",
    "np.random.seed(GLOBAL_SEED)\n",
    "\n",
    "episode_rewards_2, policy = train(θ=np.random.rand(4),\n",
    "                                α=0.002,\n",
    "                                γ=0.9,\n",
    "                                Policy=LogisticPolicy,\n",
    "                                MAX_EPISODES=2000,\n",
    "                                seed=GLOBAL_SEED,\n",
    "                                evaluate=True)"
   ]
  },
  {
   "cell_type": "code",
   "execution_count": null,
   "metadata": {},
   "outputs": [],
   "source": [
    "print(\"Variance:\",np.var(episode_rewards_2))"
   ]
  },
  {
   "cell_type": "code",
   "execution_count": null,
   "metadata": {},
   "outputs": [],
   "source": [
    "%matplotlib inline\n",
    "import matplotlib.pyplot as plt\n",
    "\n",
    "plt.plot(episode_rewards_2)"
   ]
  },
  {
   "cell_type": "code",
   "execution_count": null,
   "metadata": {},
   "outputs": [],
   "source": [
    "import glob\n",
    "\n",
    "files = glob.glob(f'pg_cartpole_mine/rl-video-episode-*.mp4')\n",
    "\n",
    "files"
   ]
  },
  {
   "cell_type": "code",
   "execution_count": null,
   "metadata": {},
   "outputs": [],
   "source": [
    "from IPython.display import Video\n",
    "\n",
    "Video(files[2], embed=True)"
   ]
  }
 ],
 "metadata": {
  "kernelspec": {
   "display_name": "base",
   "language": "python",
   "name": "python3"
  },
  "language_info": {
   "codemirror_mode": {
    "name": "ipython",
    "version": 3
   },
   "file_extension": ".py",
   "mimetype": "text/x-python",
   "name": "python",
   "nbconvert_exporter": "python",
   "pygments_lexer": "ipython3",
   "version": "3.11.5"
  }
 },
 "nbformat": 4,
 "nbformat_minor": 2
}
