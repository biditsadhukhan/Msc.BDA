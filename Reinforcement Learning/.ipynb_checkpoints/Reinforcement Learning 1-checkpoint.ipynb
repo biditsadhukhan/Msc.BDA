{
 "cells": [
  {
   "cell_type": "code",
   "execution_count": 1,
   "id": "d1b7c1a5",
   "metadata": {},
   "outputs": [],
   "source": [
    "import pandas as pd\n",
    "import numpy as np"
   ]
  },
  {
   "cell_type": "markdown",
   "id": "4e62a1c4",
   "metadata": {},
   "source": [
    "**Defining the Variables**"
   ]
  },
  {
   "cell_type": "code",
   "execution_count": 34,
   "id": "24be6a56",
   "metadata": {},
   "outputs": [
    {
     "name": "stdout",
     "output_type": "stream",
     "text": [
      "[[1 1]\n",
      " [1 2]\n",
      " [1 3]\n",
      " [2 1]\n",
      " [2 2]\n",
      " [2 3]\n",
      " [3 1]\n",
      " [3 2]\n",
      " [3 3]\n",
      " [4 1]\n",
      " [4 2]\n",
      " [4 3]]\n",
      "[[-0.04 -0.04 -0.04]\n",
      " [1 -0.04 None]\n",
      " [-0.04 -1 -0.04]\n",
      " [-0.04 -0.04 -0.04]]\n",
      "{'left', 'right', 'down', 'up'}\n",
      "{}\n"
     ]
    }
   ],
   "source": [
    "states=np.array([[1,1],[1,2],[1,3],[2,1],[2,2],[2,3],[3,1],[3,2],[3,3],[4,1],[4,2],[4,3]])\n",
    "rewards=np.array([-0.04, -0.04, -0.04, +1,-0.04, None, -0.04, -1,-0.04, -0.04, -0.04, -0.04]).reshape(4,3)\n",
    "actions={'up','down','left','right'}\n",
    "action_list=list(actions)\n",
    "\n",
    "print(states)\n",
    "print(rewards)\n",
    "print(actions)\n",
    "print(policy)"
   ]
  },
  {
   "cell_type": "code",
   "execution_count": 35,
   "id": "f8fd77a4",
   "metadata": {},
   "outputs": [
    {
     "name": "stdout",
     "output_type": "stream",
     "text": [
      "{(1, 1): 'down', (1, 2): 'right', (1, 3): 'down', (2, 1): 'right', (2, 2): 'left', (2, 3): 'left', (3, 1): 'left', (3, 2): 'down', (3, 3): 'left', (4, 1): 'down', (4, 2): 'down', (4, 3): 'right'}\n"
     ]
    }
   ],
   "source": [
    "# Create an empty dictionary called policy\n",
    "policy = {}\n",
    "\n",
    "# Iterate through the states\n",
    "for state in states:\n",
    "\n",
    "  # Randomly choose an action from the action_list\n",
    "  action = action_list[np.random.randint(0, len(action_list))]\n",
    "\n",
    "  # Add the state-action pair to the policy dictionary\n",
    "  policy[tuple(state)] = action\n",
    "\n",
    "# Print the policy\n",
    "print(policy)"
   ]
  },
  {
   "cell_type": "code",
   "execution_count": 38,
   "id": "ae4ebe79",
   "metadata": {},
   "outputs": [
    {
     "ename": "TypeError",
     "evalue": "unhashable type: 'numpy.ndarray'",
     "output_type": "error",
     "traceback": [
      "\u001b[1;31m---------------------------------------------------------------------------\u001b[0m",
      "\u001b[1;31mTypeError\u001b[0m                                 Traceback (most recent call last)",
      "Cell \u001b[1;32mIn[38], line 16\u001b[0m\n\u001b[0;32m     13\u001b[0m \u001b[38;5;28;01melif\u001b[39;00m action \u001b[38;5;241m==\u001b[39m \u001b[38;5;124m'\u001b[39m\u001b[38;5;124mright\u001b[39m\u001b[38;5;124m'\u001b[39m:\n\u001b[0;32m     14\u001b[0m   next_state \u001b[38;5;241m=\u001b[39m (state[\u001b[38;5;241m0\u001b[39m] \u001b[38;5;241m+\u001b[39m \u001b[38;5;241m1\u001b[39m, state[\u001b[38;5;241m1\u001b[39m])\n\u001b[1;32m---> 16\u001b[0m transition_model[(state, action)] \u001b[38;5;241m=\u001b[39m [(prob, next_state)]\n",
      "\u001b[1;31mTypeError\u001b[0m: unhashable type: 'numpy.ndarray'"
     ]
    }
   ],
   "source": [
    "transition_model = {}\n",
    "\n",
    "for state in states:\n",
    "  for action in actions:\n",
    "    prob = 0.5\n",
    "    next_state = state\n",
    "    if action == 'up':\n",
    "      next_state = (state[0], state[1] + 1)\n",
    "    elif action == 'down':\n",
    "      next_state = (state[0], state[1] - 1)\n",
    "    elif action == 'left':\n",
    "      next_state = (state[0] - 1, state[1])\n",
    "    elif action == 'right':\n",
    "      next_state = (state[0] + 1, state[1])\n",
    "\n",
    "    transition_model[(state, action)] = [(prob, next_state)]"
   ]
  }
 ],
 "metadata": {
  "kernelspec": {
   "display_name": "Python 3 (ipykernel)",
   "language": "python",
   "name": "python3"
  },
  "language_info": {
   "codemirror_mode": {
    "name": "ipython",
    "version": 3
   },
   "file_extension": ".py",
   "mimetype": "text/x-python",
   "name": "python",
   "nbconvert_exporter": "python",
   "pygments_lexer": "ipython3",
   "version": "3.10.9"
  }
 },
 "nbformat": 4,
 "nbformat_minor": 5
}
