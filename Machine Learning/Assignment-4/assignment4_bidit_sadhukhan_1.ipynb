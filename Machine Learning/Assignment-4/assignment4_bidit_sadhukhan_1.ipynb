{
 "cells": [
  {
   "cell_type": "markdown",
   "id": "b09f624d",
   "metadata": {},
   "source": [
    "a general outline of the perceptron algorithm:\n",
    "\n",
    "- Initialize the weight vector w and bias term b to zeros or random values.\n",
    "- Iterate over the training data points (x, y), where x is the feature vector and y is the label (either 1 or -1).\n",
    "- Calculate the output of the perceptron for the input vector x by computing the dot product of w and x and adding b. The output is y_hat.\n",
    "- Update the weight vector and bias term based on the error between the predicted output y_hat and the actual label y. The update rule is:\n",
    "- w = w + learning_rate * y * x\n",
    "- b = b + learning_rate * y\n",
    "where learning_rate is a hyperparameter that controls the step size of the updates.\n",
    "- Repeat steps 2-4 until convergence or a maximum number of iterations is reached."
   ]
  },
  {
   "cell_type": "code",
   "execution_count": 202,
   "id": "a6c5710b",
   "metadata": {},
   "outputs": [],
   "source": [
    "import time \n",
    "import cupy as cp\n",
    "import pandas as pd\n",
    "import matplotlib.pyplot as plt \n",
    "import numpy as np"
   ]
  },
  {
   "cell_type": "code",
   "execution_count": 203,
   "id": "8a16f797",
   "metadata": {},
   "outputs": [
    {
     "data": {
      "text/html": [
       "<div>\n",
       "<style scoped>\n",
       "    .dataframe tbody tr th:only-of-type {\n",
       "        vertical-align: middle;\n",
       "    }\n",
       "\n",
       "    .dataframe tbody tr th {\n",
       "        vertical-align: top;\n",
       "    }\n",
       "\n",
       "    .dataframe thead th {\n",
       "        text-align: right;\n",
       "    }\n",
       "</style>\n",
       "<table border=\"1\" class=\"dataframe\">\n",
       "  <thead>\n",
       "    <tr style=\"text-align: right;\">\n",
       "      <th></th>\n",
       "      <th>x</th>\n",
       "      <th>y</th>\n",
       "      <th>labels</th>\n",
       "    </tr>\n",
       "  </thead>\n",
       "  <tbody>\n",
       "    <tr>\n",
       "      <th>0</th>\n",
       "      <td>6.629032</td>\n",
       "      <td>21.038961</td>\n",
       "      <td>2.0</td>\n",
       "    </tr>\n",
       "    <tr>\n",
       "      <th>1</th>\n",
       "      <td>8.129032</td>\n",
       "      <td>21.688312</td>\n",
       "      <td>2.0</td>\n",
       "    </tr>\n",
       "    <tr>\n",
       "      <th>2</th>\n",
       "      <td>10.403226</td>\n",
       "      <td>23.441558</td>\n",
       "      <td>2.0</td>\n",
       "    </tr>\n",
       "    <tr>\n",
       "      <th>3</th>\n",
       "      <td>8.854839</td>\n",
       "      <td>24.610390</td>\n",
       "      <td>2.0</td>\n",
       "    </tr>\n",
       "    <tr>\n",
       "      <th>4</th>\n",
       "      <td>6.048387</td>\n",
       "      <td>23.571429</td>\n",
       "      <td>2.0</td>\n",
       "    </tr>\n",
       "    <tr>\n",
       "      <th>...</th>\n",
       "      <td>...</td>\n",
       "      <td>...</td>\n",
       "      <td>...</td>\n",
       "    </tr>\n",
       "    <tr>\n",
       "      <th>195</th>\n",
       "      <td>5.274194</td>\n",
       "      <td>6.558442</td>\n",
       "      <td>4.0</td>\n",
       "    </tr>\n",
       "    <tr>\n",
       "      <th>196</th>\n",
       "      <td>6.822581</td>\n",
       "      <td>7.012987</td>\n",
       "      <td>4.0</td>\n",
       "    </tr>\n",
       "    <tr>\n",
       "      <th>197</th>\n",
       "      <td>9.096774</td>\n",
       "      <td>6.948052</td>\n",
       "      <td>4.0</td>\n",
       "    </tr>\n",
       "    <tr>\n",
       "      <th>198</th>\n",
       "      <td>11.564516</td>\n",
       "      <td>6.948052</td>\n",
       "      <td>4.0</td>\n",
       "    </tr>\n",
       "    <tr>\n",
       "      <th>199</th>\n",
       "      <td>15.967742</td>\n",
       "      <td>6.883117</td>\n",
       "      <td>4.0</td>\n",
       "    </tr>\n",
       "  </tbody>\n",
       "</table>\n",
       "<p>200 rows × 3 columns</p>\n",
       "</div>"
      ],
      "text/plain": [
       "             x          y  labels\n",
       "0     6.629032  21.038961     2.0\n",
       "1     8.129032  21.688312     2.0\n",
       "2    10.403226  23.441558     2.0\n",
       "3     8.854839  24.610390     2.0\n",
       "4     6.048387  23.571429     2.0\n",
       "..         ...        ...     ...\n",
       "195   5.274194   6.558442     4.0\n",
       "196   6.822581   7.012987     4.0\n",
       "197   9.096774   6.948052     4.0\n",
       "198  11.564516   6.948052     4.0\n",
       "199  15.967742   6.883117     4.0\n",
       "\n",
       "[200 rows x 3 columns]"
      ]
     },
     "execution_count": 203,
     "metadata": {},
     "output_type": "execute_result"
    }
   ],
   "source": [
    "data= pd.read_csv('annotated_points_np_200.csv')\n",
    "data"
   ]
  },
  {
   "cell_type": "code",
   "execution_count": 204,
   "id": "071b1e99",
   "metadata": {},
   "outputs": [
    {
     "data": {
      "image/png": "[encoded data removed]",
      "text/plain": [
       "<Figure size 432x288 with 1 Axes>"
      ]
     },
     "metadata": {
      "needs_background": "light"
     },
     "output_type": "display_data"
    }
   ],
   "source": [
    "# Extract the points labeled as class 2 and class 4\n",
    "class_2_points = data[data['labels'] == 2]\n",
    "class_4_points = data[data['labels'] == 4]\n",
    "\n",
    "# Create a scatterplot of the two classes\n",
    "plt.scatter(class_2_points['x'], class_2_points['y'], label='Class 2')\n",
    "plt.scatter(class_4_points['x'], class_4_points['y'], label='Class 4')\n",
    "\n",
    "# Add axis labels and legend\n",
    "plt.xlabel('X')\n",
    "plt.ylabel('Y')\n",
    "plt.legend()\n",
    "\n",
    "# Show the plot\n",
    "plt.show()"
   ]
  },
  {
   "cell_type": "code",
   "execution_count": 205,
   "id": "433cad4a",
   "metadata": {},
   "outputs": [],
   "source": [
    "# Extract the features and labels\n",
    "features = data[['x', 'y']].values\n",
    "labels = data['labels'].values\n",
    "\n",
    "# Convert the data to cupy arrays\n",
    "features = cp.array(features)\n",
    "labels = cp.array(labels)\n",
    "\n",
    "# Normalize the features\n",
    "features = (features - features.mean(axis=0)) / features.std(axis=0)\n"
   ]
  },
  {
   "cell_type": "code",
   "execution_count": 206,
   "id": "0de7a941",
   "metadata": {},
   "outputs": [],
   "source": [
    "# Shuffle the data\n",
    "np.random.seed(42)\n",
    "shuffle_idx = np.random.permutation(len(features))\n",
    "features = features[shuffle_idx]\n",
    "labels = labels[shuffle_idx]\n",
    "\n",
    "# Split the data into training, validation, and testing sets\n",
    "train_size = int(0.6 * len(features))\n",
    "val_size = int(0.2 * len(features))\n",
    "train_features, train_labels = features[:train_size], labels[:train_size]\n",
    "val_features, val_labels = features[train_size:train_size+val_size], labels[train_size:train_size+val_size]\n",
    "test_features, test_labels = features[train_size+val_size:], labels[train_size+val_size:]\n"
   ]
  },
  {
   "cell_type": "code",
   "execution_count": 207,
   "id": "c249582a",
   "metadata": {},
   "outputs": [],
   "source": [
    "def perceptron(features, labels, learning_rate=0.01, num_epochs=200, weights=None,specific_weights=None):\n",
    "    if weights is None:\n",
    "        # Initialize the weights to zeros\n",
    "        weights = cp.zeros(features.shape[1])\n",
    "    elif weights == 'random':\n",
    "        # Initialize the weights to random values between -1 and 1\n",
    "        weights = cp.random.uniform(-1, 1, features.shape[1])\n",
    "    elif weights == 'from_data':\n",
    "        # Initialize the weights to the feature means\n",
    "        weights = features.mean(axis=0)\n",
    "    else:\n",
    "        raise ValueError(f'Invalid value for weights: {weights}')\n",
    "\n",
    "    if specific_weights is not None:\n",
    "        # Initialize the weights to the specific values provided\n",
    "        weights = cp.array(specific_weights)\n",
    "    \n",
    "    bias = 0.0\n",
    "    errors = []\n",
    "    \n",
    "    # Train the perceptron for num_epochs\n",
    "    for epoch in range(num_epochs):\n",
    "        # Shuffle the training data\n",
    "        shuffle_idx = cp.random.permutation(len(features))\n",
    "        features = features[shuffle_idx]\n",
    "        labels = labels[shuffle_idx]\n",
    "        \n",
    "        # Perform one pass over the training data\n",
    "        error_count = 0\n",
    "        dw = cp.zeros_like(weights)\n",
    "        db = 0.0\n",
    "        for i in range(len(features)):\n",
    "            x = features[i]\n",
    "            y = labels[i]\n",
    "            y_pred = cp.dot(x, weights) + bias\n",
    "            if y * y_pred <= 0:\n",
    "                dw += y * x\n",
    "                db += y\n",
    "                error_count += 1\n",
    "        weights += learning_rate * dw\n",
    "        bias += learning_rate * db\n",
    "        errors.append(error_count)\n",
    "        \n",
    "        # Print the training progress\n",
    "        print(f'Epoch {epoch+1}/{num_epochs}: error count = {error_count}')\n",
    "        \n",
    "        # Check for convergence\n",
    "        if error_count == 0:\n",
    "            print('Converged')\n",
    "            break\n",
    "    \n",
    "    # Compute the decision boundary\n",
    "    xx = cp.linspace(features[:,0].min(), features[:,0].max(), 100)\n",
    "    yy = -(weights[0]/weights[1]) * xx - (bias/weights[1])\n",
    "    \n",
    "    # Return the decision boundary and the trained weights and bias\n",
    "    return xx, yy, weights, bias, errors"
   ]
  },
  {
   "cell_type": "code",
   "execution_count": 162,
   "id": "ac9c7c65",
   "metadata": {},
   "outputs": [],
   "source": [
    "# def plot_decision_boundary(xx, yy, features, labels):\n",
    "#     # Map label values to colors\n",
    "#     colors = {2: 'b', 4: 'r'}\n",
    "#     label_colors = [colors[label] for label in labels.get()]\n",
    "#     # Label the data points as class 1 or class 2\n",
    "#     labels = labels.copy()\n",
    "#     labels[labels == 2] = 1\n",
    "#     labels[labels == 4] = 2\n",
    "#     plt.plot(xx.get(), yy.get(), 'k-',label='Decision Boundary')\n",
    "#     # Plot the features and labels\n",
    "#     plt.scatter(features[:, 0].get(), features[:, 1].get(), c=labels.get(), cmap='bwr', label='Class 1 (blue) and Class 2 (red)')\n",
    "#     plt.legend()"
   ]
  },
  {
   "cell_type": "code",
   "execution_count": 208,
   "id": "a0296592",
   "metadata": {},
   "outputs": [],
   "source": [
    "def plot_decision_boundary(xx, yy, features, labels):\n",
    "    # Map label values to colors\n",
    "    colors = {2: 'b', 4: 'r'}\n",
    "    label_colors = [colors[label] for label in labels.get()]\n",
    "    \n",
    "    # Label the data points as class 1 or class 2\n",
    "    labels = labels.copy()\n",
    "    labels[labels == 2] = 1\n",
    "    labels[labels == 4] = 2\n",
    "    \n",
    "    # Plot the decision boundary\n",
    "    plt.plot(xx.get(), yy.get(), 'k-', label='Decision Boundary')\n",
    "    \n",
    "    # Plot the features and labels\n",
    "    plt.scatter(features[labels==1, 0].get(), features[labels==1, 1].get(), c='r', cmap='bwr', label='Class 1 (red)')\n",
    "    plt.scatter(features[labels==2, 0].get(), features[labels==2, 1].get(), c='b', cmap='bwr', label='Class 2 (blue)')\n",
    "    plt.legend()\n"
   ]
  },
  {
   "cell_type": "code",
   "execution_count": 209,
   "id": "2b4d0170",
   "metadata": {},
   "outputs": [
    {
     "name": "stdout",
     "output_type": "stream",
     "text": [
      "Epoch 1/200: error count = 120\n",
      "Epoch 2/200: error count = 0\n",
      "Converged\n"
     ]
    },
    {
     "data": {
      "image/png": "[encoded data removed]",
      "text/plain": [
       "<Figure size 432x288 with 1 Axes>"
      ]
     },
     "metadata": {
      "needs_background": "light"
     },
     "output_type": "display_data"
    }
   ],
   "source": [
    "# #Train the perceptron on the training set using zeros initialization\n",
    "xx, yy, weights, bias, errors = perceptron(train_features, train_labels,weights=None)\n",
    "plot_decision_boundary(xx, yy, train_features, train_labels)\n"
   ]
  },
  {
   "cell_type": "code",
   "execution_count": 210,
   "id": "cf17d2eb",
   "metadata": {},
   "outputs": [
    {
     "name": "stdout",
     "output_type": "stream",
     "text": [
      "Epoch 1/200: error count = 60\n",
      "Epoch 2/200: error count = 0\n",
      "Converged\n"
     ]
    },
    {
     "data": {
      "image/png": "[encoded data removed]",
      "text/plain": [
       "<Figure size 432x288 with 1 Axes>"
      ]
     },
     "metadata": {
      "needs_background": "light"
     },
     "output_type": "display_data"
    }
   ],
   "source": [
    "# Train the perceptron on the training set using random initialization\n",
    "xx,yy,weights, bias, errors= perceptron(train_features, train_labels, weights='random')\n",
    "plot_decision_boundary(xx, yy, train_features, train_labels)"
   ]
  },
  {
   "cell_type": "code",
   "execution_count": 211,
   "id": "0a5bebda",
   "metadata": {},
   "outputs": [
    {
     "name": "stdout",
     "output_type": "stream",
     "text": [
      "Epoch 1/200: error count = 60\n",
      "Epoch 2/200: error count = 13\n",
      "Epoch 3/200: error count = 0\n",
      "Converged\n"
     ]
    },
    {
     "data": {
      "image/png": "[encoded data removed]",
      "text/plain": [
       "<Figure size 432x288 with 1 Axes>"
      ]
     },
     "metadata": {
      "needs_background": "light"
     },
     "output_type": "display_data"
    }
   ],
   "source": [
    "# Train the perceptron on the training set using feature means initialization\n",
    "xx,yy,weights, bias, errors= perceptron(train_features, train_labels, weights='from_data')\n",
    "plot_decision_boundary(xx, yy, train_features, train_labels)"
   ]
  },
  {
   "cell_type": "markdown",
   "id": "5405b0da",
   "metadata": {},
   "source": [
    "### Finding the best hyperparameters when weights are initialised to Zero on the validation set"
   ]
  },
  {
   "cell_type": "code",
   "execution_count": 212,
   "id": "e2e623cf",
   "metadata": {},
   "outputs": [
    {
     "name": "stdout",
     "output_type": "stream",
     "text": [
      "Epoch 1/100: error count = 120\n",
      "Epoch 2/100: error count = 0\n",
      "Converged\n",
      "learning_rate=0.001, num_epochs=100, weights=None, val_error=0.0\n",
      "Epoch 1/200: error count = 120\n",
      "Epoch 2/200: error count = 0\n",
      "Converged\n",
      "learning_rate=0.001, num_epochs=200, weights=None, val_error=0.0\n",
      "Epoch 1/300: error count = 120\n",
      "Epoch 2/300: error count = 0\n",
      "Converged\n",
      "learning_rate=0.001, num_epochs=300, weights=None, val_error=0.0\n",
      "Epoch 1/100: error count = 120\n",
      "Epoch 2/100: error count = 0\n",
      "Converged\n",
      "learning_rate=0.01, num_epochs=100, weights=None, val_error=0.0\n",
      "Epoch 1/200: error count = 120\n",
      "Epoch 2/200: error count = 0\n",
      "Converged\n",
      "learning_rate=0.01, num_epochs=200, weights=None, val_error=0.0\n",
      "Epoch 1/300: error count = 120\n",
      "Epoch 2/300: error count = 0\n",
      "Converged\n",
      "learning_rate=0.01, num_epochs=300, weights=None, val_error=0.0\n",
      "Epoch 1/100: error count = 120\n",
      "Epoch 2/100: error count = 0\n",
      "Converged\n",
      "learning_rate=0.1, num_epochs=100, weights=None, val_error=0.0\n",
      "Epoch 1/200: error count = 120\n",
      "Epoch 2/200: error count = 0\n",
      "Converged\n",
      "learning_rate=0.1, num_epochs=200, weights=None, val_error=0.0\n",
      "Epoch 1/300: error count = 120\n",
      "Epoch 2/300: error count = 0\n",
      "Converged\n",
      "learning_rate=0.1, num_epochs=300, weights=None, val_error=0.0\n",
      "Best hyperparameters and weights: learning_rate=0.001, num_epochs=100, weights=None, val_error=0.0\n"
     ]
    }
   ],
   "source": [
    "learning_rates = [0.001, 0.01, 0.1]\n",
    "num_epochs_list = [100, 200, 300]\n",
    "\n",
    "best_params = None\n",
    "best_val_error = float('inf')\n",
    "\n",
    "for learning_rate in learning_rates:\n",
    "    for num_epochs in num_epochs_list:\n",
    "        # Train the model on the training set\n",
    "        xx, yy, weights, bias, train_errors = perceptron(train_features, train_labels, learning_rate=learning_rate, num_epochs=num_epochs)\n",
    "\n",
    "        # Evaluate the model on the validation set\n",
    "        val_errors = []\n",
    "        for i in range(len(val_features)):\n",
    "            x = val_features[i]\n",
    "            y = val_labels[i]\n",
    "            y_pred = cp.sign(cp.dot(x, weights) + bias)\n",
    "            if y * y_pred <= 0:\n",
    "                val_errors.append(1)\n",
    "            else:\n",
    "                val_errors.append(0)\n",
    "        val_error = sum(val_errors) / len(val_errors)\n",
    "\n",
    "        # Print the validation error for this combination of hyperparameters\n",
    "        print(f'learning_rate={learning_rate}, num_epochs={num_epochs}, weights=None, val_error={val_error}')\n",
    "\n",
    "        # Check if this is the best combination of hyperparameters so far\n",
    "        if val_error < best_val_error:\n",
    "            best_params = (learning_rate, num_epochs, None)\n",
    "            best_val_error = val_error\n",
    "\n",
    "print(f'Best hyperparameters and weights: learning_rate={best_params[0]}, num_epochs={best_params[1]}, weights={best_params[2]}, val_error={best_val_error}')\n"
   ]
  },
  {
   "cell_type": "markdown",
   "id": "2f176bfd",
   "metadata": {},
   "source": [
    "### Using the best hyperparameters obtained from the validation data we are checking it for the test set and plotting it"
   ]
  },
  {
   "cell_type": "code",
   "execution_count": 213,
   "id": "efa45f2b",
   "metadata": {},
   "outputs": [
    {
     "name": "stdout",
     "output_type": "stream",
     "text": [
      "Epoch 1/200: error count = 120\n",
      "Epoch 2/200: error count = 0\n",
      "Converged\n",
      "Test error: 0.0\n"
     ]
    },
    {
     "data": {
      "image/png": "[encoded data removed]",
      "text/plain": [
       "<Figure size 432x288 with 1 Axes>"
      ]
     },
     "metadata": {
      "needs_background": "light"
     },
     "output_type": "display_data"
    }
   ],
   "source": [
    "# Train the model on the training set with the best hyperparameters and weights\n",
    "xx, yy, weights, bias, train_errors = perceptron(train_features, train_labels, learning_rate=0.1, num_epochs=200, weights=None)\n",
    "\n",
    "# Evaluate the model on the test set\n",
    "test_errors = []\n",
    "for i in range(len(test_features)):\n",
    "    x = test_features[i]\n",
    "    y = test_labels[i]\n",
    "    y_pred = cp.sign(cp.dot(x, weights) + bias)\n",
    "    if y * y_pred <= 0:\n",
    "        test_errors.append(1)\n",
    "    else:\n",
    "        test_errors.append(0)\n",
    "test_error = sum(test_errors) / len(test_errors)\n",
    "\n",
    "# Print the test error\n",
    "print(f'Test error: {test_error}')\n",
    "\n",
    "# Plot the decision boundary and test set\n",
    "plot_decision_boundary(xx, yy, test_features, test_labels)\n",
    "plt.show()\n"
   ]
  },
  {
   "cell_type": "markdown",
   "id": "eff966c2",
   "metadata": {},
   "source": [
    "### Finding the best hyperparameters from the validation set when the weights are initialised to random"
   ]
  },
  {
   "cell_type": "code",
   "execution_count": 214,
   "id": "7dcde444",
   "metadata": {},
   "outputs": [
    {
     "name": "stdout",
     "output_type": "stream",
     "text": [
      "Epoch 1/100: error count = 59\n",
      "Epoch 2/100: error count = 48\n",
      "Epoch 3/100: error count = 33\n",
      "Epoch 4/100: error count = 22\n",
      "Epoch 5/100: error count = 12\n",
      "Epoch 6/100: error count = 7\n",
      "Epoch 7/100: error count = 0\n",
      "Converged\n",
      "learning_rate=0.001, num_epochs=100, weights=random, val_error=0.025\n",
      "Epoch 1/200: error count = 60\n",
      "Epoch 2/200: error count = 60\n",
      "Epoch 3/200: error count = 51\n",
      "Epoch 4/200: error count = 33\n",
      "Epoch 5/200: error count = 7\n",
      "Epoch 6/200: error count = 4\n",
      "Epoch 7/200: error count = 0\n",
      "Converged\n",
      "learning_rate=0.001, num_epochs=200, weights=random, val_error=0.025\n",
      "Epoch 1/300: error count = 61\n",
      "Epoch 2/300: error count = 48\n",
      "Epoch 3/300: error count = 37\n",
      "Epoch 4/300: error count = 26\n",
      "Epoch 5/300: error count = 11\n",
      "Epoch 6/300: error count = 6\n",
      "Epoch 7/300: error count = 4\n",
      "Epoch 8/300: error count = 2\n",
      "Epoch 9/300: error count = 1\n",
      "Epoch 10/300: error count = 1\n",
      "Epoch 11/300: error count = 0\n",
      "Converged\n",
      "learning_rate=0.001, num_epochs=300, weights=random, val_error=0.025\n",
      "Epoch 1/100: error count = 60\n",
      "Epoch 2/100: error count = 0\n",
      "Converged\n",
      "learning_rate=0.01, num_epochs=100, weights=random, val_error=0.0\n",
      "Epoch 1/200: error count = 58\n",
      "Epoch 2/200: error count = 18\n",
      "Epoch 3/200: error count = 0\n",
      "Converged\n",
      "learning_rate=0.01, num_epochs=200, weights=random, val_error=0.0\n",
      "Epoch 1/300: error count = 59\n",
      "Epoch 2/300: error count = 5\n",
      "Epoch 3/300: error count = 0\n",
      "Converged\n",
      "learning_rate=0.01, num_epochs=300, weights=random, val_error=0.025\n",
      "Epoch 1/100: error count = 61\n",
      "Epoch 2/100: error count = 15\n",
      "Epoch 3/100: error count = 0\n",
      "Converged\n",
      "learning_rate=0.1, num_epochs=100, weights=random, val_error=0.0\n",
      "Epoch 1/200: error count = 60\n",
      "Epoch 2/200: error count = 25\n",
      "Epoch 3/200: error count = 0\n",
      "Converged\n",
      "learning_rate=0.1, num_epochs=200, weights=random, val_error=0.0\n",
      "Epoch 1/300: error count = 60\n",
      "Epoch 2/300: error count = 18\n",
      "Epoch 3/300: error count = 0\n",
      "Converged\n",
      "learning_rate=0.1, num_epochs=300, weights=random, val_error=0.0\n",
      "Best hyperparameters and weights: learning_rate=0.01, num_epochs=100, weights=random, val_error=0.0\n"
     ]
    }
   ],
   "source": [
    "learning_rates = [0.001, 0.01, 0.1]\n",
    "num_epochs_list = [100, 200, 300]\n",
    "\n",
    "best_params = None\n",
    "best_val_error = float('inf')\n",
    "\n",
    "for learning_rate in learning_rates:\n",
    "    for num_epochs in num_epochs_list:\n",
    "        # Train the model on the training set\n",
    "        xx, yy, weights, bias, train_errors = perceptron(train_features, train_labels, learning_rate=learning_rate, num_epochs=num_epochs, weights='random')\n",
    "\n",
    "        # Evaluate the model on the validation set\n",
    "        val_errors = []\n",
    "        for i in range(len(val_features)):\n",
    "            x = val_features[i]\n",
    "            y = val_labels[i]\n",
    "            y_pred = cp.sign(cp.dot(x, weights) + bias)\n",
    "            if y * y_pred <= 0:\n",
    "                val_errors.append(1)\n",
    "            else:\n",
    "                val_errors.append(0)\n",
    "        val_error = sum(val_errors) / len(val_errors)\n",
    "\n",
    "        # Print the validation error for this combination of hyperparameters\n",
    "        print(f'learning_rate={learning_rate}, num_epochs={num_epochs}, weights=random, val_error={val_error}')\n",
    "\n",
    "        # Check if this is the best combination of hyperparameters so far\n",
    "        if val_error < best_val_error:\n",
    "            best_params = (learning_rate, num_epochs, 'random')\n",
    "            best_val_error = val_error\n",
    "\n",
    "print(f'Best hyperparameters and weights: learning_rate={best_params[0]}, num_epochs={best_params[1]}, weights={best_params[2]}, val_error={best_val_error}')\n"
   ]
  },
  {
   "cell_type": "markdown",
   "id": "bc882ba7",
   "metadata": {},
   "source": [
    "### Plotting and evaluating the best hyperparameter obtained in the validation set with weights initialized to  random"
   ]
  },
  {
   "cell_type": "code",
   "execution_count": 215,
   "id": "35ab4d80",
   "metadata": {},
   "outputs": [
    {
     "name": "stdout",
     "output_type": "stream",
     "text": [
      "Epoch 1/300: error count = 61\n",
      "Epoch 2/300: error count = 40\n",
      "Epoch 3/300: error count = 23\n",
      "Epoch 4/300: error count = 12\n",
      "Epoch 5/300: error count = 1\n",
      "Epoch 6/300: error count = 0\n",
      "Converged\n",
      "Validation error with best hyperparameters and weights: 0.025\n"
     ]
    },
    {
     "data": {
      "image/png": "[encoded data removed]",
      "text/plain": [
       "<Figure size 432x288 with 1 Axes>"
      ]
     },
     "metadata": {
      "needs_background": "light"
     },
     "output_type": "display_data"
    }
   ],
   "source": [
    "# Train the model on the training set with the best hyperparameters and weights\n",
    "xx, yy, weights, bias, train_errors = perceptron(train_features, train_labels, learning_rate=0.001, num_epochs=300, weights='random')\n",
    "\n",
    "# Evaluate the model on the validation set\n",
    "val_errors = []\n",
    "for i in range(len(val_features)):\n",
    "    x = val_features[i]\n",
    "    y = val_labels[i]\n",
    "    y_pred = cp.sign(cp.dot(x, weights) + bias)\n",
    "    if y * y_pred <= 0:\n",
    "        val_errors.append(1)\n",
    "    else:\n",
    "        val_errors.append(0)\n",
    "val_error = sum(val_errors) / len(val_errors)\n",
    "\n",
    "# Print the validation error\n",
    "print(f'Validation error with best hyperparameters and weights: {val_error}')\n",
    "\n",
    "# Plot the decision boundary and validation set\n",
    "plot_decision_boundary(xx, yy, val_features, val_labels)\n",
    "plt.show()\n"
   ]
  },
  {
   "cell_type": "markdown",
   "id": "5c0dd8ca",
   "metadata": {},
   "source": [
    "### Using the best hyperparameters obtained from the validation set we are evaluating it on the test set for weights initialised to random"
   ]
  },
  {
   "cell_type": "code",
   "execution_count": 216,
   "id": "723ee116",
   "metadata": {},
   "outputs": [
    {
     "name": "stdout",
     "output_type": "stream",
     "text": [
      "Epoch 1/300: error count = 61\n",
      "Epoch 2/300: error count = 51\n",
      "Epoch 3/300: error count = 36\n",
      "Epoch 4/300: error count = 20\n",
      "Epoch 5/300: error count = 5\n",
      "Epoch 6/300: error count = 2\n",
      "Epoch 7/300: error count = 0\n",
      "Converged\n",
      "Test error: 0.0\n"
     ]
    },
    {
     "data": {
      "image/png": "[encoded data removed]",
      "text/plain": [
       "<Figure size 432x288 with 1 Axes>"
      ]
     },
     "metadata": {
      "needs_background": "light"
     },
     "output_type": "display_data"
    }
   ],
   "source": [
    "# Train the model on the training set with the best hyperparameters and weights\n",
    "xx, yy, weights, bias, train_errors = perceptron(train_features, train_labels, learning_rate=0.001, num_epochs=300, weights='random')\n",
    "\n",
    "# Evaluate the model on the test set\n",
    "test_errors = []\n",
    "for i in range(len(test_features)):\n",
    "    x = test_features[i]\n",
    "    y = test_labels[i]\n",
    "    y_pred = cp.sign(cp.dot(x, weights) + bias)\n",
    "    if y * y_pred <= 0:\n",
    "        test_errors.append(1)\n",
    "    else:\n",
    "        test_errors.append(0)\n",
    "test_error = sum(test_errors) / len(test_errors)\n",
    "\n",
    "# Print the test error\n",
    "print(f'Test error: {test_error}')\n",
    "\n",
    "# Plot the decision boundary and test set\n",
    "plot_decision_boundary(xx, yy, test_features, test_labels)\n",
    "plt.show()\n"
   ]
  },
  {
   "cell_type": "markdown",
   "id": "23602603",
   "metadata": {},
   "source": [
    "### Finding the best hyper parameter in the validation set when weights initialised from data"
   ]
  },
  {
   "cell_type": "code",
   "execution_count": 217,
   "id": "4edf9b0a",
   "metadata": {},
   "outputs": [
    {
     "name": "stdout",
     "output_type": "stream",
     "text": [
      "Epoch 1/100: error count = 60\n",
      "Epoch 2/100: error count = 7\n",
      "Epoch 3/100: error count = 0\n",
      "Converged\n",
      "learning_rate=0.001, num_epochs=100, weights= from_data, val_error=0.0\n",
      "Epoch 1/200: error count = 60\n",
      "Epoch 2/200: error count = 7\n",
      "Epoch 3/200: error count = 0\n",
      "Converged\n",
      "learning_rate=0.001, num_epochs=200, weights= from_data, val_error=0.0\n",
      "Epoch 1/300: error count = 60\n",
      "Epoch 2/300: error count = 7\n",
      "Epoch 3/300: error count = 0\n",
      "Converged\n",
      "learning_rate=0.001, num_epochs=300, weights= from_data, val_error=0.0\n",
      "Epoch 1/100: error count = 60\n",
      "Epoch 2/100: error count = 13\n",
      "Epoch 3/100: error count = 0\n",
      "Converged\n",
      "learning_rate=0.01, num_epochs=100, weights= from_data, val_error=0.025\n",
      "Epoch 1/200: error count = 60\n",
      "Epoch 2/200: error count = 13\n",
      "Epoch 3/200: error count = 0\n",
      "Converged\n",
      "learning_rate=0.01, num_epochs=200, weights= from_data, val_error=0.025\n",
      "Epoch 1/300: error count = 60\n",
      "Epoch 2/300: error count = 13\n",
      "Epoch 3/300: error count = 0\n",
      "Converged\n",
      "learning_rate=0.01, num_epochs=300, weights= from_data, val_error=0.025\n",
      "Epoch 1/100: error count = 60\n",
      "Epoch 2/100: error count = 15\n",
      "Epoch 3/100: error count = 0\n",
      "Converged\n",
      "learning_rate=0.1, num_epochs=100, weights= from_data, val_error=0.0\n",
      "Epoch 1/200: error count = 60\n",
      "Epoch 2/200: error count = 15\n",
      "Epoch 3/200: error count = 0\n",
      "Converged\n",
      "learning_rate=0.1, num_epochs=200, weights= from_data, val_error=0.0\n",
      "Epoch 1/300: error count = 60\n",
      "Epoch 2/300: error count = 15\n",
      "Epoch 3/300: error count = 0\n",
      "Converged\n",
      "learning_rate=0.1, num_epochs=300, weights= from_data, val_error=0.0\n",
      "Best hyperparameters and weights: learning_rate=0.001, num_epochs=100, weights=from_data, val_error=0.0\n"
     ]
    }
   ],
   "source": [
    "learning_rates = [0.001, 0.01, 0.1]\n",
    "num_epochs_list = [100, 200, 300]\n",
    "\n",
    "best_params = None\n",
    "best_val_error = float('inf')\n",
    "\n",
    "for learning_rate in learning_rates:\n",
    "    for num_epochs in num_epochs_list:\n",
    "        # Train the model on the training set\n",
    "        xx, yy, weights, bias, train_errors = perceptron(train_features, train_labels, learning_rate=learning_rate, num_epochs=num_epochs, weights= 'from_data')\n",
    "\n",
    "        # Evaluate the model on the validation set\n",
    "        val_errors = []\n",
    "        for i in range(len(val_features)):\n",
    "            x = val_features[i]\n",
    "            y = val_labels[i]\n",
    "            y_pred = cp.sign(cp.dot(x, weights) + bias)\n",
    "            if y * y_pred <= 0:\n",
    "                val_errors.append(1)\n",
    "            else:\n",
    "                val_errors.append(0)\n",
    "        val_error = sum(val_errors) / len(val_errors)\n",
    "\n",
    "        # Print the validation error for this combination of hyperparameters\n",
    "        print(f'learning_rate={learning_rate}, num_epochs={num_epochs}, weights= from_data, val_error={val_error}')\n",
    "\n",
    "        # Check if this is the best combination of hyperparameters so far\n",
    "        if val_error < best_val_error:\n",
    "            best_params = (learning_rate, num_epochs,  'from_data')\n",
    "            best_val_error = val_error\n",
    "\n",
    "print(f'Best hyperparameters and weights: learning_rate={best_params[0]}, num_epochs={best_params[1]}, weights={best_params[2]}, val_error={best_val_error}')\n"
   ]
  },
  {
   "cell_type": "markdown",
   "id": "86006fc2",
   "metadata": {},
   "source": [
    "### Using the best hyperparameter obtained from the validation, plotting and evaluating it for the validation set when weights initialised to from data"
   ]
  },
  {
   "cell_type": "code",
   "execution_count": 218,
   "id": "a5e5a767",
   "metadata": {},
   "outputs": [
    {
     "name": "stdout",
     "output_type": "stream",
     "text": [
      "Epoch 1/100: error count = 60\n",
      "Epoch 2/100: error count = 7\n",
      "Epoch 3/100: error count = 0\n",
      "Converged\n",
      "Validation error: 0.0\n"
     ]
    },
    {
     "data": {
      "image/png": "[encoded data removed]",
      "text/plain": [
       "<Figure size 432x288 with 1 Axes>"
      ]
     },
     "metadata": {
      "needs_background": "light"
     },
     "output_type": "display_data"
    }
   ],
   "source": [
    "# Train the model with the best hyperparameters on the training set\n",
    "xx, yy, weights, bias, train_errors = perceptron(train_features, train_labels, learning_rate=0.001, num_epochs=100, weights='from_data')\n",
    "\n",
    "# Evaluate the model on the validation set\n",
    "val_errors = []\n",
    "for i in range(len(val_features)):\n",
    "    x = val_features[i]\n",
    "    y = val_labels[i]\n",
    "    y_pred = cp.sign(cp.dot(x, weights) + bias)\n",
    "    if y * y_pred <= 0:\n",
    "        val_errors.append(1)\n",
    "    else:\n",
    "        val_errors.append(0)\n",
    "val_error = sum(val_errors) / len(val_errors)\n",
    "\n",
    "print(f'Validation error: {val_error}')\n",
    "\n",
    "# Plot the decision boundary and test set\n",
    "plot_decision_boundary(xx, yy, val_features, val_labels)\n",
    "plt.show()\n"
   ]
  },
  {
   "cell_type": "markdown",
   "id": "669053d4",
   "metadata": {},
   "source": [
    "### Using the best hyperparameters obtained from the val set we are plotting the test when weights are initialised to from data"
   ]
  },
  {
   "cell_type": "code",
   "execution_count": 219,
   "id": "76e6a38a",
   "metadata": {},
   "outputs": [
    {
     "name": "stdout",
     "output_type": "stream",
     "text": [
      "Epoch 1/100: error count = 60\n",
      "Epoch 2/100: error count = 7\n",
      "Epoch 3/100: error count = 0\n",
      "Converged\n",
      "Test error: 0.0\n"
     ]
    },
    {
     "data": {
      "image/png": "[encoded data removed]",
      "text/plain": [
       "<Figure size 432x288 with 1 Axes>"
      ]
     },
     "metadata": {
      "needs_background": "light"
     },
     "output_type": "display_data"
    }
   ],
   "source": [
    "# Train the model on the training set with the best hyperparameters and weights\n",
    "xx, yy, weights, bias, train_errors = perceptron(train_features, train_labels, learning_rate=0.001, num_epochs=100, weights='from_data')\n",
    "\n",
    "# Evaluate the model on the test set\n",
    "test_errors = []\n",
    "for i in range(len(test_features)):\n",
    "    x = test_features[i]\n",
    "    y = test_labels[i]\n",
    "    y_pred = cp.sign(cp.dot(x, weights) + bias)\n",
    "    if y * y_pred <= 0:\n",
    "        test_errors.append(1)\n",
    "    else:\n",
    "        test_errors.append(0)\n",
    "test_error = sum(test_errors) / len(test_errors)\n",
    "\n",
    "# Print the test error\n",
    "print(f'Test error: {test_error}')\n",
    "\n",
    "# Plot the decision boundary and test set\n",
    "plot_decision_boundary(xx, yy, test_features, test_labels)\n",
    "plt.show()\n"
   ]
  }
 ],
 "metadata": {
  "kernelspec": {
   "display_name": "Python 3 (ipykernel)",
   "language": "python",
   "name": "python3"
  },
  "language_info": {
   "codemirror_mode": {
    "name": "ipython",
    "version": 3
   },
   "file_extension": ".py",
   "mimetype": "text/x-python",
   "name": "python",
   "nbconvert_exporter": "python",
   "pygments_lexer": "ipython3",
   "version": "3.9.12"
  }
 },
 "nbformat": 4,
 "nbformat_minor": 5
}
