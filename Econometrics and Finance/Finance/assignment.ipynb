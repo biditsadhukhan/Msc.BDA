{
 "cells": [
  {
   "cell_type": "raw",
   "id": "2f42a102",
   "metadata": {},
   "source": [
    "---\n",
    "title: Portfolio Optimisation\n",
    "author: 'Bidit Sadhukhan(B2230022), Anirban Dey(B2230019), Soumyadeep Sadhukhan(B2230035)'\n",
    "toc: true\n",
    "toc-depth: 2\n",
    "format: pdf\n",
    "date: 2023/08/31\n",
    "highlight-style: arrow\n",
    "lof: true\n",
    "lot: true\n",
    "number-sections: true\n",
    "documentclass: article\n",
    "geometry:\n",
    "  - top=30mm\n",
    "  - left=20mm\n",
    "  - heightrounded\n",
    "citation: true\n",
    "---"
   ]
  },
  {
   "cell_type": "markdown",
   "id": "821af130",
   "metadata": {},
   "source": [
    "------------------------------------------------------------------------\n",
    "\n",
    "## Importing the libraries\n"
   ]
  },
  {
   "cell_type": "code",
   "execution_count": 61,
   "id": "df2ca14a",
   "metadata": {},
   "outputs": [
    {
     "name": "stdout",
     "output_type": "stream",
     "text": [
      "Collecting alpha_vantage\n",
      "  Using cached alpha_vantage-2.3.1-py3-none-any.whl (31 kB)\n",
      "Requirement already satisfied: aiohttp in c:\\users\\bidit\\appdata\\roaming\\python\\python310\\site-packages (from alpha_vantage) (3.8.5)\n",
      "Requirement already satisfied: requests in c:\\users\\bidit\\anaconda3\\lib\\site-packages (from alpha_vantage) (2.28.1)\n",
      "Requirement already satisfied: attrs>=17.3.0 in c:\\users\\bidit\\anaconda3\\lib\\site-packages (from aiohttp->alpha_vantage) (22.1.0)\n",
      "Requirement already satisfied: charset-normalizer<4.0,>=2.0 in c:\\users\\bidit\\anaconda3\\lib\\site-packages (from aiohttp->alpha_vantage) (2.0.4)\n",
      "Requirement already satisfied: multidict<7.0,>=4.5 in c:\\users\\bidit\\appdata\\roaming\\python\\python310\\site-packages (from aiohttp->alpha_vantage) (6.0.4)\n",
      "Requirement already satisfied: async-timeout<5.0,>=4.0.0a3 in c:\\users\\bidit\\appdata\\roaming\\python\\python310\\site-packages (from aiohttp->alpha_vantage) (4.0.2)\n",
      "Requirement already satisfied: yarl<2.0,>=1.0 in c:\\users\\bidit\\appdata\\roaming\\python\\python310\\site-packages (from aiohttp->alpha_vantage) (1.9.2)\n",
      "Requirement already satisfied: frozenlist>=1.1.1 in c:\\users\\bidit\\appdata\\roaming\\python\\python310\\site-packages (from aiohttp->alpha_vantage) (1.4.0)\n",
      "Requirement already satisfied: aiosignal>=1.1.2 in c:\\users\\bidit\\appdata\\roaming\\python\\python310\\site-packages (from aiohttp->alpha_vantage) (1.3.1)\n",
      "Requirement already satisfied: idna<4,>=2.5 in c:\\users\\bidit\\anaconda3\\lib\\site-packages (from requests->alpha_vantage) (3.4)\n",
      "Requirement already satisfied: urllib3<1.27,>=1.21.1 in c:\\users\\bidit\\anaconda3\\lib\\site-packages (from requests->alpha_vantage) (1.26.14)\n",
      "Requirement already satisfied: certifi>=2017.4.17 in c:\\users\\bidit\\anaconda3\\lib\\site-packages (from requests->alpha_vantage) (2023.7.22)\n",
      "Installing collected packages: alpha_vantage\n",
      "Successfully installed alpha_vantage-2.3.1\n"
     ]
    },
    {
     "name": "stderr",
     "output_type": "stream",
     "text": [
      "\n",
      "[notice] A new release of pip is available: 23.2 -> 23.2.1\n",
      "[notice] To update, run: python.exe -m pip install --upgrade pip\n"
     ]
    }
   ],
   "source": [
    "!pip install alpha_vantage"
   ]
  },
  {
   "cell_type": "code",
   "execution_count": 62,
   "id": "f1914cc8",
   "metadata": {},
   "outputs": [],
   "source": [
    "import numpy as np\n",
    "import pandas as pd\n",
    "from alpha_vantage.timeseries import TimeSeries\n"
   ]
  },
  {
   "cell_type": "markdown",
   "id": "66e92050",
   "metadata": {},
   "source": [
    "## Downloading the data\n",
    "\n",
    "In this code we have used the [yfinance](https://pypi.org/project/yfinance/) package to download the data from the [Yahoo Finance](https://finance.yahoo.com/) from the period \"31-8-2021\" to \"31-8-2021\" to \"31-8-2023\"\n"
   ]
  },
  {
   "cell_type": "code",
   "execution_count": 65,
   "id": "eae49233",
   "metadata": {},
   "outputs": [],
   "source": [
    "# Define your Alpha Vantage API key\n",
    "api_key = 'J5DNDJ69XM34DC0G'\n",
    "# Initialize Alpha Vantage TimeSeries\n",
    "ts = TimeSeries(key=api_key, output_format='pandas')"
   ]
  },
  {
   "cell_type": "code",
   "execution_count": 63,
   "id": "cc901bde",
   "metadata": {},
   "outputs": [],
   "source": [
    "start_date = \"2020-01-31\"\n",
    "end_date = \"2022-01-31\""
   ]
  },
  {
   "cell_type": "markdown",
   "id": "7b559fea",
   "metadata": {},
   "source": [
    "The stocks that we have used for our problem are given below:\n",
    "\n",
    "1.  Pharmacy - Medplus India Ltd, Dr. Reddy's Laboratories\n",
    "2.  Banking - Punjab National Bank, Angel One Limited\n",
    "3.  Technology - Wipro Ltd., Infosys Ltd\n",
    "4.  Agriculture - Rallis India LTD, Indian Pesticides Limited\n",
    "5.  Energy - Bharat Petrochemical Limited, Indian Oil Corporation\n"
   ]
  },
  {
   "cell_type": "code",
   "execution_count": 51,
   "id": "b6c260a9",
   "metadata": {},
   "outputs": [],
   "source": [
    "#| output: False\n",
    "# List of stocks in consider\n",
    "stocks = {                                    \n",
    "    'Pharma': ['RDY', 'FORTIS.NS'],\n",
    "    'Banking': ['HDB', 'SBIN.NS'],\n",
    "    'Technology': ['INFY', 'TCS.NS'],\n",
    "    'Agriculture': ['RALLIS.NS', 'IPL.BO'],\n",
    "    'Energy': ['BPCL.NS', 'IOC.BO']\n",
    "}"
   ]
  },
  {
   "cell_type": "markdown",
   "id": "ab90ba08",
   "metadata": {},
   "source": [
    "The code to download the data from yfinance and also to calculate the daily returns using the `Adjusted Close Price` column.\n"
   ]
  },
  {
   "cell_type": "code",
   "execution_count": 66,
   "id": "a4b5d683",
   "metadata": {},
   "outputs": [
    {
     "name": "stdout",
     "output_type": "stream",
     "text": [
      "Error downloading data for RDY: Thank you for using Alpha Vantage! This is a premium endpoint. You may subscribe to any of the premium plans at https://www.alphavantage.co/premium/ to instantly unlock all premium endpoints\n",
      "Error downloading data for FORTIS.NS: Error getting data from the api, no return was given.\n",
      "Error downloading data for HDB: Thank you for using Alpha Vantage! This is a premium endpoint. You may subscribe to any of the premium plans at https://www.alphavantage.co/premium/ to instantly unlock all premium endpoints\n",
      "Error downloading data for SBIN.NS: Error getting data from the api, no return was given.\n",
      "Error downloading data for INFY: Thank you for using Alpha Vantage! This is a premium endpoint. You may subscribe to any of the premium plans at https://www.alphavantage.co/premium/ to instantly unlock all premium endpoints\n",
      "Error downloading data for TCS.NS: Error getting data from the api, no return was given.\n",
      "Error downloading data for RALLIS.NS: Error getting data from the api, no return was given.\n",
      "Error downloading data for IPL.BO: Thank you for using Alpha Vantage! This is a premium endpoint. You may subscribe to any of the premium plans at https://www.alphavantage.co/premium/ to instantly unlock all premium endpoints\n",
      "Error downloading data for BPCL.NS: Error getting data from the api, no return was given.\n",
      "Error downloading data for IOC.BO: Thank you for using Alpha Vantage! This is a premium endpoint. You may subscribe to any of the premium plans at https://www.alphavantage.co/premium/ to instantly unlock all premium endpoints\n"
     ]
    }
   ],
   "source": [
    "# Download historical price data\n",
    "data = {}\n",
    "for sector, symbols in stocks.items():\n",
    "    sector_data = pd.DataFrame()\n",
    "    for symbol in symbols:\n",
    "        try:\n",
    "            stock_data, _ = ts.get_daily_adjusted(symbol=symbol, outputsize='full')\n",
    "            stock_data = stock_data[start_date:end_date]\n",
    "            stock_data['pct_change'] = stock_data['5. adjusted close'].pct_change().dropna()\n",
    "            sector_data[symbol] = stock_data['pct_change']\n",
    "        except Exception as e:\n",
    "            print(f\"Error downloading data for {symbol}: {e}\")\n",
    "    data[sector] = sector_data"
   ]
  },
  {
   "cell_type": "code",
   "execution_count": 53,
   "id": "5fe8eb10",
   "metadata": {},
   "outputs": [
    {
     "name": "stdout",
     "output_type": "stream",
     "text": [
      "The initial values for sector BPCL.NS are:\n",
      "Date\n",
      "2020-02-03    0.007331\n",
      "2020-02-04    0.039539\n",
      "2020-02-05    0.048485\n",
      "2020-02-06   -0.013255\n",
      "2020-02-07   -0.007373\n",
      "Name: BPCL.NS, dtype: float64\n",
      "The initial values for sector IOC.BO are:\n",
      "Date\n",
      "2020-02-03   -0.047598\n",
      "2020-02-04    0.053679\n",
      "2020-02-05    0.007466\n",
      "2020-02-06    0.020052\n",
      "2020-02-07    0.003846\n",
      "Name: IOC.BO, dtype: float64\n"
     ]
    }
   ],
   "source": [
    "#| output: true\n",
    "for sector, data in sector_data.items():\n",
    "    print(f\"The initial values for sector {sector} are:\")\n",
    "    print(data.head())"
   ]
  },
  {
   "cell_type": "markdown",
   "id": "c9344e26",
   "metadata": {},
   "source": [
    "## Calculating the mean and variance of Returns\n"
   ]
  },
  {
   "cell_type": "code",
   "execution_count": 56,
   "id": "d31b1325",
   "metadata": {},
   "outputs": [
    {
     "ename": "AttributeError",
     "evalue": "'float' object has no attribute 'mean'",
     "output_type": "error",
     "traceback": [
      "\u001b[1;31m---------------------------------------------------------------------------\u001b[0m",
      "\u001b[1;31mAttributeError\u001b[0m                            Traceback (most recent call last)",
      "Cell \u001b[1;32mIn[56], line 5\u001b[0m\n\u001b[0;32m      3\u001b[0m v_hat \u001b[38;5;241m=\u001b[39m {}\n\u001b[0;32m      4\u001b[0m \u001b[38;5;28;01mfor\u001b[39;00m sector, sector_data \u001b[38;5;129;01min\u001b[39;00m data\u001b[38;5;241m.\u001b[39mitems():\n\u001b[1;32m----> 5\u001b[0m     mu_hat[sector] \u001b[38;5;241m=\u001b[39m \u001b[43msector_data\u001b[49m\u001b[38;5;241;43m.\u001b[39;49m\u001b[43mmean\u001b[49m()\n\u001b[0;32m      6\u001b[0m     v_hat[sector] \u001b[38;5;241m=\u001b[39m sector_data\u001b[38;5;241m.\u001b[39mvar()\n",
      "\u001b[1;31mAttributeError\u001b[0m: 'float' object has no attribute 'mean'"
     ]
    }
   ],
   "source": [
    "# Calculate mean and variance of daily returns\n",
    "mu_hat = {}\n",
    "v_hat = {}\n",
    "for sector, sector_data in data.items():\n",
    "    mu_hat[sector] = sector_data.mean()\n",
    "    v_hat[sector] = sector_data.var()"
   ]
  },
  {
   "cell_type": "code",
   "execution_count": 9,
   "id": "15a613e3",
   "metadata": {},
   "outputs": [
    {
     "name": "stdout",
     "output_type": "stream",
     "text": [
      "Mean Return: {}\n",
      "Variance of Return: {}\n"
     ]
    }
   ],
   "source": [
    "#| output: true\n",
    "print(\"Mean Return:\",mu_hat)\n",
    "print(\"Variance of Return:\", v_hat)"
   ]
  },
  {
   "cell_type": "code",
   "execution_count": null,
   "id": "36033013",
   "metadata": {},
   "outputs": [],
   "source": [
    "# Portfolio optimization\n",
    "b = 0.001  # Expected return (assumed to be constant for simplicity)\n",
    "w_b = {}\n",
    "for sector, sector_data in data.items():\n",
    "    cov_matrix = sector_data.cov()  # Covariance matrix\n",
    "    ones_vector = np.ones(len(stocks[sector]))  # Vector of ones\n",
    "    inv_cov_matrix = np.linalg.inv(cov_matrix)\n",
    "\n",
    "    w_b[sector] = np.dot(inv_cov_matrix, mu_hat[sector] - b * ones_vector) / np.sum(np.dot(inv_cov_matrix, ones_vector))"
   ]
  },
  {
   "cell_type": "code",
   "execution_count": null,
   "id": "bbea21c1",
   "metadata": {},
   "outputs": [],
   "source": [
    "# Simulate portfolio performance and calculate mean squared error\n",
    "months_to_simulate = [1, 3, 6]\n",
    "results = {}\n",
    "for month in months_to_simulate:\n",
    "    results[month] = []\n",
    "    for sector, sector_data in data.items():\n",
    "        try:\n",
    "            port_returns = np.dot(sector_data.values, w_b[sector])  # Portfolio returns\n",
    "            overall_port_returns = np.dot(port_returns, np.ones(len(port_returns)))  # Overall portfolio return\n",
    "            mse = np.mean((overall_port_returns - mu_hat[sector]) ** 2)  # Mean squared error\n",
    "            results[month].append(mse)\n",
    "        except ValueError as e:\n",
    "            print(f\"Error processing {sector}: {e}\")"
   ]
  },
  {
   "cell_type": "code",
   "execution_count": null,
   "id": "98e17a29",
   "metadata": {},
   "outputs": [],
   "source": [
    "# Compare results with initial return\n",
    "initial_mse = {}\n",
    "for sector, sector_data in data.items():\n",
    "    try:\n",
    "        initial_returns = np.dot(sector_data.iloc[0], w_b[sector])  # Initial portfolio returns\n",
    "        initial_mse[sector] = (initial_returns - mu_hat[sector][0]) ** 2\n",
    "    except ValueError as e:\n",
    "        print(f\"Error processing {sector}: {e}\")"
   ]
  },
  {
   "cell_type": "code",
   "execution_count": null,
   "id": "9fae455d",
   "metadata": {},
   "outputs": [],
   "source": [
    "# Print or analyze the results as needed\n",
    "print(\"Results for 1 month:\", results[1])\n",
    "print(\"Results for 3 months:\", results[3])\n",
    "print(\"Results for 6 months:\", results[6])\n",
    "print(\"Initial MSE:\", initial_mse)"
   ]
  }
 ],
 "metadata": {
  "kernelspec": {
   "display_name": "Python 3 (ipykernel)",
   "language": "python",
   "name": "python3"
  },
  "language_info": {
   "codemirror_mode": {
    "name": "ipython",
    "version": 3
   },
   "file_extension": ".py",
   "mimetype": "text/x-python",
   "name": "python",
   "nbconvert_exporter": "python",
   "pygments_lexer": "ipython3",
   "version": "3.10.9"
  }
 },
 "nbformat": 4,
 "nbformat_minor": 5
}
