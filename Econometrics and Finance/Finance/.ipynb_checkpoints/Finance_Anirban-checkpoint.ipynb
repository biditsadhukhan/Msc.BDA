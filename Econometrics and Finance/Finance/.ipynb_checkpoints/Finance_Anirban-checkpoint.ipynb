{
 "cells": [
  {
   "cell_type": "code",
   "execution_count": 16,
   "metadata": {
    "id": "JWGqzRzPhPw5"
   },
   "outputs": [
    {
     "name": "stdout",
     "output_type": "stream",
     "text": [
      "[*********************100%%**********************]  1 of 1 completed\n",
      "[*********************100%%**********************]  1 of 1 completed\n",
      "[*********************100%%**********************]  1 of 1 completed\n",
      "[*********************100%%**********************]  1 of 1 completed\n",
      "[*********************100%%**********************]  1 of 1 completed"
     ]
    },
    {
     "name": "stderr",
     "output_type": "stream",
     "text": [
      "\n",
      "1 Failed download:\n",
      "['BAC']: Exception('%ticker%: No price data found, symbol may be delisted (1d 2020-01-01 -> 2022-01-01)')\n"
     ]
    },
    {
     "name": "stdout",
     "output_type": "stream",
     "text": [
      "\n",
      "[*********************100%%**********************]  1 of 1 completed"
     ]
    },
    {
     "name": "stderr",
     "output_type": "stream",
     "text": [
      "\n",
      "1 Failed download:\n",
      "['GS']: Exception('%ticker%: No price data found, symbol may be delisted (1d 2020-01-01 -> 2022-01-01)')\n"
     ]
    },
    {
     "name": "stdout",
     "output_type": "stream",
     "text": [
      "\n",
      "[*********************100%%**********************]  1 of 1 completed\n",
      "[*********************100%%**********************]  1 of 1 completed\n",
      "[*********************100%%**********************]  1 of 1 completed\n",
      "[*********************100%%**********************]  1 of 1 completed\n",
      "[*********************100%%**********************]  1 of 1 completed\n",
      "[*********************100%%**********************]  1 of 1 completed"
     ]
    },
    {
     "name": "stderr",
     "output_type": "stream",
     "text": [
      "\n",
      "1 Failed download:\n",
      "['DIS']: Exception('%ticker%: No price data found, symbol may be delisted (1d 2020-01-01 -> 2022-01-01)')\n"
     ]
    },
    {
     "name": "stdout",
     "output_type": "stream",
     "text": [
      "\n",
      "[*********************100%%**********************]  1 of 1 completed\n",
      "[*********************100%%**********************]  1 of 1 completed"
     ]
    },
    {
     "name": "stderr",
     "output_type": "stream",
     "text": [
      "\n",
      "1 Failed download:\n",
      "['CVX']: Exception('%ticker%: No price data found, symbol may be delisted (1d 2020-01-01 -> 2022-01-01)')\n"
     ]
    },
    {
     "name": "stdout",
     "output_type": "stream",
     "text": [
      "\n",
      "[*********************100%%**********************]  1 of 1 completed\n",
      "Results for 1 month: [1.1378060733805143e-06, nan, 3.498110281684707e-07, nan, nan]\n",
      "Results for 3 months: [1.1378060733805143e-06, nan, 3.498110281684707e-07, nan, nan]\n",
      "Results for 6 months: [1.1378060733805143e-06, nan, 3.498110281684707e-07, nan, nan]\n",
      "Initial MSE: {'Technology': 4.089287512343273e-06, 'Finance': nan, 'Healthcare': 2.719071834956343e-07, 'Consumer Discretionary': nan, 'Energy': nan}\n"
     ]
    }
   ],
   "source": [
    "import numpy as np\n",
    "import pandas as pd\n",
    "import yfinance as yf\n",
    "\n",
    "# List of stock symbols\n",
    "stocks = {\n",
    "    'Technology': ['AAPL', 'MSFT', 'GOOGL'],\n",
    "    'Finance': ['JPM', 'BAC', 'GS'],\n",
    "    'Healthcare': ['JNJ', 'PFE', 'MRK'],\n",
    "    'Consumer Discretionary': ['AMZN', 'TSLA', 'DIS'],\n",
    "    'Energy': ['XOM', 'CVX', 'COP'],\n",
    "}\n",
    "\n",
    "\n",
    "# Define date range for historical data\n",
    "start_date = \"2020-01-01\"\n",
    "end_date = \"2022-01-01\"\n",
    "\n",
    "# Download historical price data\n",
    "data = {}\n",
    "for sector, symbols in stocks.items():\n",
    "    sector_data = pd.DataFrame()\n",
    "    for symbol in symbols:\n",
    "        stock = yf.download(symbol, start=start_date, end=end_date,keepna=False)\n",
    "        returns = stock['Adj Close'].pct_change().dropna()  # Calculate daily returns\n",
    "        sector_data[symbol] = returns\n",
    "    data[sector] = sector_data\n",
    "\n",
    "# Calculate mean and variance of daily returns\n",
    "mu_hat = {}\n",
    "v_hat = {}\n",
    "for sector, sector_data in data.items():\n",
    "    mu_hat[sector] = sector_data.mean()\n",
    "    v_hat[sector] = sector_data.var()\n",
    "\n",
    "# Portfolio optimization\n",
    "b = 0.001  # Expected return (assumed to be constant for simplicity)\n",
    "w_b = {}\n",
    "for sector, sector_data in data.items():\n",
    "    cov_matrix = sector_data.cov()  # Covariance matrix\n",
    "    ones_vector = np.ones(len(stocks[sector]))  # Vector of ones\n",
    "    inv_cov_matrix = np.linalg.inv(cov_matrix)\n",
    "\n",
    "    w_b[sector] = np.dot(inv_cov_matrix, mu_hat[sector] - b * ones_vector) / np.sum(np.dot(inv_cov_matrix, ones_vector))\n",
    "\n",
    "\n",
    "# Simulate portfolio performance and calculate mean squared error\n",
    "months_to_simulate = [1, 3, 6]\n",
    "results = {}\n",
    "for month in months_to_simulate:\n",
    "    results[month] = []\n",
    "    for sector, sector_data in data.items():\n",
    "        try:\n",
    "            port_returns = np.dot(sector_data.values, w_b[sector])  # Portfolio returns\n",
    "            overall_port_returns = np.dot(port_returns, np.ones(len(port_returns)))  # Overall portfolio return\n",
    "            mse = np.mean((overall_port_returns - mu_hat[sector]) ** 2)  # Mean squared error\n",
    "            results[month].append(mse)\n",
    "        except ValueError as e:\n",
    "            print(f\"Error processing {sector}: {e}\")\n",
    "\n",
    "# Compare results with initial return\n",
    "initial_mse = {}\n",
    "for sector, sector_data in data.items():\n",
    "    try:\n",
    "        initial_returns = np.dot(sector_data.iloc[0], w_b[sector])  # Initial portfolio returns\n",
    "        initial_mse[sector] = (initial_returns - mu_hat[sector][0]) ** 2\n",
    "    except ValueError as e:\n",
    "        print(f\"Error processing {sector}: {e}\")\n",
    "\n",
    "# Print or analyze the results as needed\n",
    "print(\"Results for 1 month:\", results[1])\n",
    "print(\"Results for 3 months:\", results[3])\n",
    "print(\"Results for 6 months:\", results[6])\n",
    "print(\"Initial MSE:\", initial_mse)"
   ]
  },
  {
   "cell_type": "code",
   "execution_count": 5,
   "metadata": {
    "id": "KyNi0v_ihQsg"
   },
   "outputs": [
    {
     "data": {
      "text/plain": [
       "{'Pharma': MEDPLUS.NS   -0.012024\n",
       " DRREDDY.NS    0.007464\n",
       " dtype: float64,\n",
       " 'Banking': PNB.NS         0.000607\n",
       " ANGELONE.BO    0.005829\n",
       " dtype: float64,\n",
       " 'Technology': INFY.NS     0.001802\n",
       " WIPRO.NS    0.002641\n",
       " dtype: float64,\n",
       " 'Agriculture': RALLIS.NS    0.000130\n",
       " IPL.BO      -0.000537\n",
       " dtype: float64,\n",
       " 'Energy': BPCL.NS    0.000725\n",
       " IOC.BO     0.000954\n",
       " dtype: float64}"
      ]
     },
     "execution_count": 5,
     "metadata": {},
     "output_type": "execute_result"
    }
   ],
   "source": [
    "mu_hat"
   ]
  },
  {
   "cell_type": "code",
   "execution_count": 6,
   "metadata": {
    "id": "R6Xx_U3DhS7Q"
   },
   "outputs": [
    {
     "data": {
      "text/plain": [
       "{'Pharma': MEDPLUS.NS    0.002061\n",
       " DRREDDY.NS    0.000167\n",
       " dtype: float64,\n",
       " 'Banking': PNB.NS         0.000656\n",
       " ANGELONE.BO    0.001532\n",
       " dtype: float64,\n",
       " 'Technology': INFY.NS     0.000173\n",
       " WIPRO.NS    0.000311\n",
       " dtype: float64,\n",
       " 'Agriculture': RALLIS.NS    0.000348\n",
       " IPL.BO       0.000369\n",
       " dtype: float64,\n",
       " 'Energy': BPCL.NS    0.000271\n",
       " IOC.BO     0.000304\n",
       " dtype: float64}"
      ]
     },
     "execution_count": 6,
     "metadata": {},
     "output_type": "execute_result"
    }
   ],
   "source": [
    "v_hat"
   ]
  },
  {
   "cell_type": "code",
   "execution_count": 7,
   "metadata": {
    "id": "OBCR1yvshVC_"
   },
   "outputs": [
    {
     "data": {
      "text/plain": [
       "{'Pharma': array([-0.00185841,  0.00860429]),\n",
       " 'Banking': array([-0.00063997,  0.00166974]),\n",
       " 'Technology': array([8.01419459e-05, 8.50824419e-04]),\n",
       " 'Agriculture': array([-0.00029632, -0.00089243]),\n",
       " 'Energy': array([-0.00041186,  0.0002303 ])}"
      ]
     },
     "execution_count": 7,
     "metadata": {},
     "output_type": "execute_result"
    }
   ],
   "source": [
    "w_b"
   ]
  },
  {
   "cell_type": "code",
   "execution_count": 8,
   "metadata": {
    "id": "v2kA2AEvhXjp"
   },
   "outputs": [
    {
     "data": {
      "text/plain": [
       "{'Pharma': 0.00014391055712466668,\n",
       " 'Banking': 3.4186670854179626e-07,\n",
       " 'Technology': 3.1744385770120902e-06,\n",
       " 'Agriculture': nan,\n",
       " 'Energy': 5.38411228382243e-07}"
      ]
     },
     "execution_count": 8,
     "metadata": {},
     "output_type": "execute_result"
    }
   ],
   "source": [
    "initial_mse"
   ]
  },
  {
   "cell_type": "code",
   "execution_count": 9,
   "metadata": {
    "id": "1LsLSszqhZis"
   },
   "outputs": [
    {
     "name": "stdout",
     "output_type": "stream",
     "text": [
      "Results for 1 month:\n",
      "Pharma: 0.00010279\n",
      "Banking: 0.00000765\n",
      "Technology: 0.00000283\n",
      "Agriculture: nan\n",
      "Energy: 0.00000075\n",
      "Results for 3 month:\n",
      "Pharma: 0.00010279\n",
      "Banking: 0.00000765\n",
      "Technology: 0.00000283\n",
      "Agriculture: nan\n",
      "Energy: 0.00000075\n",
      "Results for 6 month:\n",
      "Pharma: 0.00010279\n",
      "Banking: 0.00000765\n",
      "Technology: 0.00000283\n",
      "Agriculture: nan\n",
      "Energy: 0.00000075\n"
     ]
    }
   ],
   "source": [
    "for month in months_to_simulate:\n",
    "    print(f\"Results for {month} month:\")\n",
    "    for sector, mse in zip(stocks.keys(), results[month]):\n",
    "        print(f\"{sector}: {mse:.8f}\")"
   ]
  },
  {
   "cell_type": "code",
   "execution_count": 10,
   "metadata": {
    "id": "u3jwRHNdhcIM"
   },
   "outputs": [],
   "source": [
    "# Simulate portfolio performance and calculate mean squared error\n",
    "months_to_simulate = [1, 3, 6]\n",
    "results = {}\n",
    "for month in months_to_simulate:\n",
    "    results[month] = []\n",
    "    for sector, sector_data in data.items():\n",
    "        try:\n",
    "            port_returns = np.dot(sector_data.values, w_b[sector])  # Portfolio returns\n",
    "            overall_port_returns = np.dot(port_returns, np.ones(len(port_returns)))  # Overall portfolio return\n",
    "            mse = np.mean((overall_port_returns - mu_hat[sector]) ** 2)  # Mean squared error\n",
    "            results[month].append(mse)\n",
    "        except ValueError as e:\n",
    "            print(f\"Error processing {sector}: {e}\")"
   ]
  },
  {
   "cell_type": "code",
   "execution_count": 13,
   "metadata": {},
   "outputs": [],
   "source": [
    "import requests\n",
    "import io\n",
    "url=\"https://pkgstore.datahub.io/core/nasdaq-listings/nasdaq-listed_csv/data/7665719fb51081ba0bd834fde71ce822/nasdaq-listed_csv.csv\"\n",
    "s = requests.get(url).content\n",
    "companies = pd.read_csv(io.StringIO(s.decode('utf-8')))"
   ]
  },
  {
   "cell_type": "code",
   "execution_count": 16,
   "metadata": {},
   "outputs": [],
   "source": [
    "companies.to_csv('nasdaq-listed.csv', index=False)"
   ]
  }
 ],
 "metadata": {
  "colab": {
   "provenance": []
  },
  "kernelspec": {
   "display_name": "Python 3 (ipykernel)",
   "language": "python",
   "name": "python3"
  },
  "language_info": {
   "codemirror_mode": {
    "name": "ipython",
    "version": 3
   },
   "file_extension": ".py",
   "mimetype": "text/x-python",
   "name": "python",
   "nbconvert_exporter": "python",
   "pygments_lexer": "ipython3",
   "version": "3.10.9"
  }
 },
 "nbformat": 4,
 "nbformat_minor": 1
}
