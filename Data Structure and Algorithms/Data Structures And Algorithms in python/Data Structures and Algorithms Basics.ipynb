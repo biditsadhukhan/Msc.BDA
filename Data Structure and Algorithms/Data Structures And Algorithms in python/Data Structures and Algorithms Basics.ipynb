{
 "cells": [
  {
   "cell_type": "markdown",
   "id": "5da46604",
   "metadata": {},
   "source": [
    "- Algorithm to reverse the array values given"
   ]
  },
  {
   "cell_type": "code",
   "execution_count": 61,
   "id": "50c45232",
   "metadata": {},
   "outputs": [
    {
     "name": "stdout",
     "output_type": "stream",
     "text": [
      "4\n",
      "1\n",
      "2\n",
      "3\n",
      "4\n",
      "[1, 2, 3, 4]\n",
      "4\n",
      "3\n",
      "2\n",
      "1\n"
     ]
    }
   ],
   "source": [
    "N= int(input())\n",
    "A=[]\n",
    "for i in range(0,N):\n",
    "    element=int(input())\n",
    "    A.append(element)\n",
    "print(A)\n",
    "\n",
    "for j in range (0,N):\n",
    "    a=A[j]\n",
    "    b=A[N-j-1]\n",
    "    a,b=b,a\n",
    "    print(a)\n",
    "    j=+1\n"
   ]
  },
  {
   "cell_type": "markdown",
   "id": "ade32760",
   "metadata": {},
   "source": [
    "- Prefix Averages"
   ]
  },
  {
   "cell_type": "code",
   "execution_count": 17,
   "id": "09883a40",
   "metadata": {},
   "outputs": [
    {
     "name": "stdout",
     "output_type": "stream",
     "text": [
      "4\n",
      "1\n",
      "2\n",
      "3\n",
      "4\n",
      "[1.0, 1.5, 2.0, 2.5]\n"
     ]
    }
   ],
   "source": [
    "n=int(input())\n",
    "A=[0]*n         #this is very important here cause we cannot access the indexes if the len of the array is less than the size of s\n",
    "S=[]\n",
    "for i in range(0,n):\n",
    "    element=int(input())\n",
    "    S.append(element)\n",
    "for j in range (n):\n",
    "    A[j]=sum(S[0:j+1])/(j+1)                       #use of variable index in loop important\n",
    "print(A) "
   ]
  },
  {
   "cell_type": "code",
   "execution_count": 35,
   "id": "a3e0fcb6",
   "metadata": {},
   "outputs": [
    {
     "name": "stdout",
     "output_type": "stream",
     "text": [
      "Give the number of inputs in integer\n",
      "4\n",
      "1\n",
      "2\n",
      "3\n",
      "4\n"
     ]
    },
    {
     "ename": "IndexError",
     "evalue": "list assignment index out of range",
     "output_type": "error",
     "traceback": [
      "\u001b[1;31m---------------------------------------------------------------------------\u001b[0m",
      "\u001b[1;31mIndexError\u001b[0m                                Traceback (most recent call last)",
      "Input \u001b[1;32mIn [35]\u001b[0m, in \u001b[0;36m<cell line: 11>\u001b[1;34m()\u001b[0m\n\u001b[0;32m     13\u001b[0m     \u001b[38;5;28;01mfor\u001b[39;00m i \u001b[38;5;129;01min\u001b[39;00m \u001b[38;5;28mrange\u001b[39m(j\u001b[38;5;241m+\u001b[39m\u001b[38;5;241m1\u001b[39m):\n\u001b[0;32m     14\u001b[0m         sum_temp\u001b[38;5;241m+\u001b[39m\u001b[38;5;241m=\u001b[39mS[i]\n\u001b[1;32m---> 15\u001b[0m     A[j]\u001b[38;5;241m=\u001b[39msum_temp\u001b[38;5;241m/\u001b[39m(j\u001b[38;5;241m+\u001b[39m\u001b[38;5;241m1\u001b[39m)\n\u001b[0;32m     16\u001b[0m \u001b[38;5;28mprint\u001b[39m(A)\n",
      "\u001b[1;31mIndexError\u001b[0m: list assignment index out of range"
     ]
    }
   ],
   "source": [
    "print(\"Give the number of inputs in integer\")\n",
    "try:\n",
    "    n=int(input())\n",
    "except onlyintegeraccepted:\n",
    "    print(\"Integer input accepted\")\n",
    "A=[]*n\n",
    "S=[]\n",
    "for k in range(0,n):\n",
    "    e=int(input())\n",
    "    S.append(e)\n",
    "for j in range(0,n):\n",
    "    sum_temp=0\n",
    "    for i in range(j+1):\n",
    "        sum_temp+=S[i]\n",
    "    A[j]=sum_temp/(j+1)\n",
    "print(A)"
   ]
  },
  {
   "cell_type": "code",
   "execution_count": 38,
   "id": "03ea24cb",
   "metadata": {},
   "outputs": [
    {
     "name": "stdout",
     "output_type": "stream",
     "text": [
      "4\n",
      "1\n",
      "2\n",
      "3\n",
      "4\n"
     ]
    },
    {
     "ename": "IndexError",
     "evalue": "list assignment index out of range",
     "output_type": "error",
     "traceback": [
      "\u001b[1;31m---------------------------------------------------------------------------\u001b[0m",
      "\u001b[1;31mIndexError\u001b[0m                                Traceback (most recent call last)",
      "Input \u001b[1;32mIn [38]\u001b[0m, in \u001b[0;36m<cell line: 7>\u001b[1;34m()\u001b[0m\n\u001b[0;32m      9\u001b[0m     \u001b[38;5;28;01mfor\u001b[39;00m i \u001b[38;5;129;01min\u001b[39;00m \u001b[38;5;28mrange\u001b[39m(j\u001b[38;5;241m+\u001b[39m\u001b[38;5;241m1\u001b[39m):\n\u001b[0;32m     10\u001b[0m         temp\u001b[38;5;241m+\u001b[39m\u001b[38;5;241m=\u001b[39mS[i]\n\u001b[1;32m---> 11\u001b[0m     A[j]\u001b[38;5;241m=\u001b[39mtemp\u001b[38;5;241m/\u001b[39m(j\u001b[38;5;241m+\u001b[39m\u001b[38;5;241m1\u001b[39m)\n\u001b[0;32m     12\u001b[0m \u001b[38;5;28mprint\u001b[39m(A)\n",
      "\u001b[1;31mIndexError\u001b[0m: list assignment index out of range"
     ]
    }
   ],
   "source": [
    "n=int(input())\n",
    "A=[]*n\n",
    "S=[]\n",
    "for k in range(0,n):\n",
    "    e=int(input())\n",
    "    S.append(e)\n",
    "for j in range(n):\n",
    "    temp=0\n",
    "    for i in range(j+1):\n",
    "        temp+=S[i]\n",
    "    A[j]=temp/(j+1)\n",
    "print(A)"
   ]
  },
  {
   "cell_type": "code",
   "execution_count": 29,
   "id": "501d5e42",
   "metadata": {},
   "outputs": [
    {
     "name": "stdout",
     "output_type": "stream",
     "text": [
      "4\n",
      "1\n",
      "2\n",
      "3\n",
      "4\n",
      "[1.0, 1.5, 2.0, 2.5]\n"
     ]
    }
   ],
   "source": [
    "n=int(input())\n",
    "A=[0]*n         #this is very important here cause we cannot access the indexes if the len of the array is less than the size of s\n",
    "S=[]\n",
    "for k in range(0,n):\n",
    "    element=int(input())\n",
    "    S.append(element)\n",
    "\n",
    "for j in range(n):\n",
    "    total=0\n",
    "    for i in range(j+1):\n",
    "        total+=S[i]\n",
    "    A[j]=total/(j+1)\n",
    "print(A)"
   ]
  },
  {
   "cell_type": "markdown",
   "id": "1710f71c",
   "metadata": {},
   "source": [
    "- Checking distinct values in Array"
   ]
  },
  {
   "cell_type": "code",
   "execution_count": 60,
   "id": "58fd3bbe",
   "metadata": {},
   "outputs": [
    {
     "name": "stdout",
     "output_type": "stream",
     "text": [
      "6\n",
      "1\n",
      "1\n",
      "1\n",
      "1\n",
      "1\n",
      "1\n",
      "[1, 1, 1, 1, 1, 1]\n"
     ]
    },
    {
     "ename": "KeyboardInterrupt",
     "evalue": "",
     "output_type": "error",
     "traceback": [
      "\u001b[1;31m---------------------------------------------------------------------------\u001b[0m",
      "\u001b[1;31mKeyboardInterrupt\u001b[0m                         Traceback (most recent call last)",
      "Input \u001b[1;32mIn [60]\u001b[0m, in \u001b[0;36m<cell line: 10>\u001b[1;34m()\u001b[0m\n\u001b[0;32m     10\u001b[0m \u001b[38;5;28;01mwhile\u001b[39;00m even_total\u001b[38;5;241m==\u001b[39m\u001b[38;5;241m0\u001b[39m \u001b[38;5;129;01mand\u001b[39;00m odd_total\u001b[38;5;241m==\u001b[39m\u001b[38;5;241m0\u001b[39m \u001b[38;5;129;01mor\u001b[39;00m even_total\u001b[38;5;241m!=\u001b[39modd_total:\n\u001b[0;32m     11\u001b[0m     \u001b[38;5;28;01mfor\u001b[39;00m j \u001b[38;5;129;01min\u001b[39;00m \u001b[38;5;28mrange\u001b[39m (\u001b[38;5;241m0\u001b[39m,n\u001b[38;5;241m-\u001b[39m\u001b[38;5;241m1\u001b[39m):\n\u001b[1;32m---> 12\u001b[0m         \u001b[38;5;28;01mif\u001b[39;00m A[j]\u001b[38;5;241m!=\u001b[39mA[\u001b[43mj\u001b[49m\u001b[38;5;241;43m+\u001b[39;49m\u001b[38;5;241;43m1\u001b[39;49m]:\n\u001b[0;32m     13\u001b[0m             j\u001b[38;5;241m+\u001b[39m\u001b[38;5;241m=\u001b[39m\u001b[38;5;241m1\u001b[39m\n\u001b[0;32m     14\u001b[0m         \u001b[38;5;28;01melse\u001b[39;00m:                                                                       \u001b[38;5;66;03m# used to get the distinct element\u001b[39;00m\n",
      "\u001b[1;31mKeyboardInterrupt\u001b[0m: "
     ]
    }
   ],
   "source": [
    "n=int(input())\n",
    "A=[]\n",
    "even_total=0\n",
    "odd_total=0\n",
    "for i in range(0,n):\n",
    "      element=int(input())                # used to input the array A\n",
    "      A.append(element)\n",
    "print(A)\n",
    "\n",
    "while even_total==0 and odd_total==0 or even_total!=odd_total:\n",
    "    for j in range (0,n-1):\n",
    "        if A[j]!=A[j+1]:\n",
    "            j+=1\n",
    "        else:                                                                       # used to get the distinct element\n",
    "            A[j]=j\n",
    "    for k in range (0,n):\n",
    "        if A[k]%2==0:\n",
    "            even_total=even_total+A[k]\n",
    "            k+=1\n",
    "        else:                                                                         # used to check the odd and the even total\n",
    "            odd_total=odd_total+A[k]\n",
    "            k+=1        \n",
    "print(even_total)\n",
    "print(odd_total)\n",
    "print(A)"
   ]
  },
  {
   "cell_type": "code",
   "execution_count": 37,
   "id": "371ecf3b",
   "metadata": {},
   "outputs": [
    {
     "name": "stdout",
     "output_type": "stream",
     "text": [
      "[0, 1, 2, 3]\n"
     ]
    }
   ],
   "source": [
    "print(list(range(0,4)))"
   ]
  },
  {
   "cell_type": "code",
   "execution_count": 77,
   "id": "32f3343d",
   "metadata": {},
   "outputs": [
    {
     "name": "stdout",
     "output_type": "stream",
     "text": [
      "Value of n\n",
      "4\n",
      "VAlue of K\n",
      "1\n",
      "values of array\n",
      "1\n",
      "2\n",
      "3\n",
      "4\n",
      "[1, 2, 3, 4]\n"
     ]
    },
    {
     "ename": "IndexError",
     "evalue": "list index out of range",
     "output_type": "error",
     "traceback": [
      "\u001b[1;31m---------------------------------------------------------------------------\u001b[0m",
      "\u001b[1;31mIndexError\u001b[0m                                Traceback (most recent call last)",
      "Input \u001b[1;32mIn [77]\u001b[0m, in \u001b[0;36m<cell line: 12>\u001b[1;34m()\u001b[0m\n\u001b[0;32m     14\u001b[0m \u001b[38;5;28;01mfor\u001b[39;00m j \u001b[38;5;129;01min\u001b[39;00m \u001b[38;5;28mrange\u001b[39m(n):\n\u001b[0;32m     15\u001b[0m     a\u001b[38;5;241m=\u001b[39mA[j]\n\u001b[1;32m---> 16\u001b[0m     b\u001b[38;5;241m=\u001b[39m\u001b[43mA\u001b[49m\u001b[43m[\u001b[49m\u001b[43mj\u001b[49m\u001b[38;5;241;43m+\u001b[39;49m\u001b[38;5;241;43m1\u001b[39;49m\u001b[43m]\u001b[49m\n\u001b[0;32m     17\u001b[0m     a,b\u001b[38;5;241m=\u001b[39mb,a\n\u001b[0;32m     18\u001b[0m     j\u001b[38;5;241m+\u001b[39m\u001b[38;5;241m=\u001b[39m\u001b[38;5;241m1\u001b[39m\n",
      "\u001b[1;31mIndexError\u001b[0m: list index out of range"
     ]
    }
   ],
   "source": [
    "print(\"Value of n\")\n",
    "n=int(input())\n",
    "print(\"VAlue of K\")\n",
    "k=int(input())\n",
    "print(\"values of array\")\n",
    "A=[]\n",
    "p=0\n",
    "for i in range(n):\n",
    "    element= int(input())\n",
    "    A.append(element)\n",
    "print(A)\n",
    "while p<k:\n",
    "    end=A[-1]\n",
    "    for j in range(n):\n",
    "        a=A[j]\n",
    "        b=A[j+1]\n",
    "        a,b=b,a\n",
    "        j+=1\n",
    "    A[0]=end\n",
    "    p+=1\n",
    "print(A) "
   ]
  },
  {
   "cell_type": "code",
   "execution_count": null,
   "id": "04e223af",
   "metadata": {},
   "outputs": [],
   "source": [
    "A=[1,2,3,4]\n",
    " for j in range(n-1):\n",
    "        a=A[j]\n",
    "        b=A[j+1]\n",
    "        a,b=b,a\n",
    "        j-=1\n",
    "print"
   ]
  },
  {
   "cell_type": "code",
   "execution_count": 80,
   "id": "e222696a",
   "metadata": {},
   "outputs": [
    {
     "name": "stdout",
     "output_type": "stream",
     "text": [
      "-0.5440211108893698\n"
     ]
    }
   ],
   "source": [
    "from math import sin\n",
    "x=sin(10)\n",
    "print(x)"
   ]
  },
  {
   "cell_type": "code",
   "execution_count": 83,
   "id": "26dea811",
   "metadata": {},
   "outputs": [
    {
     "name": "stdout",
     "output_type": "stream",
     "text": [
      "None\n"
     ]
    }
   ],
   "source": [
    "x={1,2}\n",
    "x.add(5)\n",
    "print(x.add(6))"
   ]
  }
 ],
 "metadata": {
  "kernelspec": {
   "display_name": "Python 3 (ipykernel)",
   "language": "python",
   "name": "python3"
  },
  "language_info": {
   "codemirror_mode": {
    "name": "ipython",
    "version": 3
   },
   "file_extension": ".py",
   "mimetype": "text/x-python",
   "name": "python",
   "nbconvert_exporter": "python",
   "pygments_lexer": "ipython3",
   "version": "3.9.12"
  }
 },
 "nbformat": 4,
 "nbformat_minor": 5
}
